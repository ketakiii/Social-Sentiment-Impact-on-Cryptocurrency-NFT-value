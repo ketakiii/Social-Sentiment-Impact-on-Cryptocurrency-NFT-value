{
  "nbformat": 4,
  "nbformat_minor": 0,
  "metadata": {
    "colab": {
      "name": "DMTWebScraping.ipynb",
      "provenance": []
    },
    "kernelspec": {
      "name": "python3",
      "display_name": "Python 3"
    },
    "language_info": {
      "name": "python"
    }
  },
  "cells": [
    {
      "cell_type": "code",
      "execution_count": null,
      "metadata": {
        "id": "HDti9SLoRaYB"
      },
      "outputs": [],
      "source": [
        "from bs4 import BeautifulSoup \n",
        "import requests"
      ]
    },
    {
      "cell_type": "code",
      "source": [
        "HTMLFileToBeOpened = open(\"/content/drive/MyDrive/DMT/Project/eth.html\", \"r\")"
      ],
      "metadata": {
        "id": "yLSp6oQARsEo"
      },
      "execution_count": null,
      "outputs": []
    },
    {
      "cell_type": "code",
      "source": [
        "mainpage = HTMLFileToBeOpened.read()\n",
        "soup = BeautifulSoup(mainpage, 'lxml')"
      ],
      "metadata": {
        "id": "TVVGRIBARs1j"
      },
      "execution_count": null,
      "outputs": []
    },
    {
      "cell_type": "code",
      "source": [
        "aa = soup.find('div', {\"class\" : 'b4d71h-2 hgYnhQ'})"
      ],
      "metadata": {
        "id": "uhEIPisvRs4b"
      },
      "execution_count": null,
      "outputs": []
    },
    {
      "cell_type": "code",
      "source": [
        "print(aa.find('tbody'))"
      ],
      "metadata": {
        "colab": {
          "base_uri": "https://localhost:8080/"
        },
        "id": "J0iPRqs9Rs6v",
        "outputId": "74206581-d997-406e-b7c0-9971d625ee06"
      },
      "execution_count": null,
      "outputs": [
        {
          "output_type": "stream",
          "name": "stdout",
          "text": [
            "<tbody><tr><td style=\"text-align: left;\">Apr 21, 2022</td><td>$3,077.83</td><td>$3,173.45</td><td>$2,962.41</td><td>$2,987.48</td><td>$20,783,591,093</td><td style=\"text-align: right;\">$359,913,941,107</td></tr><tr><td style=\"text-align: left;\">Apr 20, 2022</td><td>$3,103.93</td><td>$3,157.89</td><td>$3,045.29</td><td>$3,077.75</td><td>$15,547,362,265</td><td style=\"text-align: right;\">$370,747,899,753</td></tr><tr><td style=\"text-align: left;\">Apr 19, 2022</td><td>$3,057.57</td><td>$3,125.08</td><td>$3,035.54</td><td>$3,104.11</td><td>$14,156,035,096</td><td style=\"text-align: right;\">$373,881,545,796</td></tr><tr><td style=\"text-align: left;\">Apr 18, 2022</td><td>$2,993.48</td><td>$3,062.52</td><td>$2,893.91</td><td>$3,057.61</td><td>$18,629,381,299</td><td style=\"text-align: right;\">$368,239,502,264</td></tr><tr><td style=\"text-align: left;\">Apr 17, 2022</td><td>$3,061.88</td><td>$3,075.78</td><td>$2,989.04</td><td>$2,993.40</td><td>$10,463,091,281</td><td style=\"text-align: right;\">$360,466,921,074</td></tr><tr><td style=\"text-align: left;\">Apr 16, 2022</td><td>$3,041.12</td><td>$3,074.89</td><td>$3,016.42</td><td>$3,062.31</td><td>$8,766,710,365</td><td style=\"text-align: right;\">$368,723,505,202</td></tr><tr><td style=\"text-align: left;\">Apr 15, 2022</td><td>$3,020.13</td><td>$3,044.29</td><td>$3,001.12</td><td>$3,040.92</td><td>$11,256,651,536</td><td style=\"text-align: right;\">$366,106,878,801</td></tr><tr><td style=\"text-align: left;\">Apr 14, 2022</td><td>$3,117.82</td><td>$3,139.93</td><td>$2,988.44</td><td>$3,019.91</td><td>$15,821,419,931</td><td style=\"text-align: right;\">$363,537,133,351</td></tr><tr><td style=\"text-align: left;\">Apr 13, 2022</td><td>$3,029.88</td><td>$3,123.58</td><td>$3,006.48</td><td>$3,118.34</td><td>$16,088,473,629</td><td style=\"text-align: right;\">$375,344,730,159</td></tr><tr><td style=\"text-align: left;\">Apr 12, 2022</td><td>$2,981.42</td><td>$3,077.45</td><td>$2,957.87</td><td>$3,030.38</td><td>$20,235,707,410</td><td style=\"text-align: right;\">$364,715,602,736</td></tr><tr><td style=\"text-align: left;\">Apr 11, 2022</td><td>$3,209.58</td><td>$3,214.46</td><td>$2,962.76</td><td>$2,981.05</td><td>$21,891,804,831</td><td style=\"text-align: right;\">$358,739,023,179</td></tr><tr><td style=\"text-align: left;\">Apr 10, 2022</td><td>$3,261.29</td><td>$3,303.00</td><td>$3,211.87</td><td>$3,211.87</td><td>$10,427,054,790</td><td style=\"text-align: right;\">$386,471,827,351</td></tr><tr><td style=\"text-align: left;\">Apr 09, 2022</td><td>$3,191.98</td><td>$3,261.96</td><td>$3,187.47</td><td>$3,261.92</td><td>$9,908,112,156</td><td style=\"text-align: right;\">$392,450,014,876</td></tr><tr><td style=\"text-align: left;\">Apr 08, 2022</td><td>$3,233.27</td><td>$3,301.61</td><td>$3,179.14</td><td>$3,192.07</td><td>$17,557,050,669</td><td style=\"text-align: right;\">$384,004,266,017</td></tr><tr><td style=\"text-align: left;\">Apr 07, 2022</td><td>$3,172.20</td><td>$3,263.47</td><td>$3,155.58</td><td>$3,233.27</td><td>$16,745,496,605</td><td style=\"text-align: right;\">$388,917,301,310</td></tr><tr><td style=\"text-align: left;\">Apr 06, 2022</td><td>$3,411.67</td><td>$3,411.67</td><td>$3,171.20</td><td>$3,171.69</td><td>$25,632,563,639</td><td style=\"text-align: right;\">$381,466,903,809</td></tr><tr><td style=\"text-align: left;\">Apr 05, 2022</td><td>$3,521.24</td><td>$3,546.71</td><td>$3,410.55</td><td>$3,411.79</td><td>$16,681,503,199</td><td style=\"text-align: right;\">$410,298,423,739</td></tr><tr><td style=\"text-align: left;\">Apr 04, 2022</td><td>$3,522.36</td><td>$3,535.15</td><td>$3,422.00</td><td>$3,521.24</td><td>$18,209,969,743</td><td style=\"text-align: right;\">$423,413,008,036</td></tr><tr><td style=\"text-align: left;\">Apr 03, 2022</td><td>$3,444.81</td><td>$3,573.96</td><td>$3,421.26</td><td>$3,522.83</td><td>$15,333,808,649</td><td style=\"text-align: right;\">$423,557,081,705</td></tr><tr><td style=\"text-align: left;\">Apr 02, 2022</td><td>$3,449.79</td><td>$3,521.28</td><td>$3,442.00</td><td>$3,445.06</td><td>$23,571,556,215</td><td style=\"text-align: right;\">$414,159,902,497</td></tr><tr><td style=\"text-align: left;\">Apr 01, 2022</td><td>$3,282.58</td><td>$3,467.56</td><td>$3,223.89</td><td>$3,449.55</td><td>$20,982,988,937</td><td style=\"text-align: right;\">$414,654,032,151</td></tr><tr><td style=\"text-align: left;\">Mar 31, 2022</td><td>$3,385.29</td><td>$3,435.13</td><td>$3,272.93</td><td>$3,281.64</td><td>$17,685,495,686</td><td style=\"text-align: right;\">$394,425,928,251</td></tr><tr><td style=\"text-align: left;\">Mar 30, 2022</td><td>$3,401.53</td><td>$3,435.29</td><td>$3,349.24</td><td>$3,385.16</td><td>$15,302,506,131</td><td style=\"text-align: right;\">$406,821,918,325</td></tr><tr><td style=\"text-align: left;\">Mar 29, 2022</td><td>$3,335.02</td><td>$3,470.19</td><td>$3,335.02</td><td>$3,401.99</td><td>$19,533,323,636</td><td style=\"text-align: right;\">$408,798,491,703</td></tr><tr><td style=\"text-align: left;\">Mar 28, 2022</td><td>$3,292.32</td><td>$3,424.02</td><td>$3,279.03</td><td>$3,336.63</td><td>$20,620,450,770</td><td style=\"text-align: right;\">$400,900,140,647</td></tr><tr><td style=\"text-align: left;\">Mar 27, 2022</td><td>$3,143.80</td><td>$3,291.58</td><td>$3,130.00</td><td>$3,291.58</td><td>$13,431,866,834</td><td style=\"text-align: right;\">$395,441,924,036</td></tr><tr><td style=\"text-align: left;\">Mar 26, 2022</td><td>$3,106.41</td><td>$3,146.83</td><td>$3,091.83</td><td>$3,143.18</td><td>$8,876,420,740</td><td style=\"text-align: right;\">$377,571,096,915</td></tr><tr><td style=\"text-align: left;\">Mar 25, 2022</td><td>$3,108.45</td><td>$3,183.96</td><td>$3,087.49</td><td>$3,106.67</td><td>$17,030,503,831</td><td style=\"text-align: right;\">$373,143,966,537</td></tr><tr><td style=\"text-align: left;\">Mar 24, 2022</td><td>$3,031.06</td><td>$3,118.39</td><td>$3,012.33</td><td>$3,108.06</td><td>$18,070,503,166</td><td style=\"text-align: right;\">$373,268,685,628</td></tr><tr><td style=\"text-align: left;\">Mar 23, 2022</td><td>$2,973.15</td><td>$3,036.75</td><td>$2,933.31</td><td>$3,031.07</td><td>$16,008,767,658</td><td style=\"text-align: right;\">$363,981,070,562</td></tr><tr><td style=\"text-align: left;\">Mar 22, 2022</td><td>$2,897.77</td><td>$3,040.38</td><td>$2,892.54</td><td>$2,973.13</td><td>$16,830,539,230</td><td style=\"text-align: right;\">$356,983,458,904</td></tr><tr><td style=\"text-align: left;\">Mar 21, 2022</td><td>$2,860.10</td><td>$2,954.56</td><td>$2,838.25</td><td>$2,897.98</td><td>$15,206,116,098</td><td style=\"text-align: right;\">$347,920,723,063</td></tr><tr><td style=\"text-align: left;\">Mar 20, 2022</td><td>$2,946.55</td><td>$2,956.97</td><td>$2,826.11</td><td>$2,860.46</td><td>$12,684,727,326</td><td style=\"text-align: right;\">$343,377,833,604</td></tr><tr><td style=\"text-align: left;\">Mar 19, 2022</td><td>$2,944.72</td><td>$2,979.99</td><td>$2,910.80</td><td>$2,946.26</td><td>$11,576,463,120</td><td style=\"text-align: right;\">$353,637,851,553</td></tr><tr><td style=\"text-align: left;\">Mar 18, 2022</td><td>$2,814.43</td><td>$2,973.62</td><td>$2,774.86</td><td>$2,945.34</td><td>$15,830,879,093</td><td style=\"text-align: right;\">$353,488,093,017</td></tr><tr><td style=\"text-align: left;\">Mar 17, 2022</td><td>$2,771.96</td><td>$2,826.16</td><td>$2,751.56</td><td>$2,814.85</td><td>$12,685,265,194</td><td style=\"text-align: right;\">$337,789,077,518</td></tr><tr><td style=\"text-align: left;\">Mar 16, 2022</td><td>$2,620.03</td><td>$2,781.31</td><td>$2,610.76</td><td>$2,772.06</td><td>$17,915,109,769</td><td style=\"text-align: right;\">$332,615,747,238</td></tr><tr><td style=\"text-align: left;\">Mar 15, 2022</td><td>$2,590.67</td><td>$2,662.33</td><td>$2,515.77</td><td>$2,620.15</td><td>$12,861,105,614</td><td style=\"text-align: right;\">$314,353,415,766</td></tr><tr><td style=\"text-align: left;\">Mar 14, 2022</td><td>$2,518.49</td><td>$2,604.03</td><td>$2,505.30</td><td>$2,590.70</td><td>$11,244,398,839</td><td style=\"text-align: right;\">$310,784,628,715</td></tr><tr><td style=\"text-align: left;\">Mar 13, 2022</td><td>$2,573.49</td><td>$2,594.55</td><td>$2,503.89</td><td>$2,518.94</td><td>$8,632,000,379</td><td style=\"text-align: right;\">$302,142,844,336</td></tr><tr><td style=\"text-align: left;\">Mar 12, 2022</td><td>$2,559.66</td><td>$2,606.44</td><td>$2,559.13</td><td>$2,574.75</td><td>$6,532,996,574</td><td style=\"text-align: right;\">$308,802,688,253</td></tr><tr><td style=\"text-align: left;\">Mar 11, 2022</td><td>$2,608.27</td><td>$2,664.56</td><td>$2,534.69</td><td>$2,559.56</td><td>$12,382,419,582</td><td style=\"text-align: right;\">$306,945,646,022</td></tr><tr><td style=\"text-align: left;\">Mar 10, 2022</td><td>$2,729.12</td><td>$2,729.12</td><td>$2,566.19</td><td>$2,608.05</td><td>$13,292,477,213</td><td style=\"text-align: right;\">$312,725,132,203</td></tr><tr><td style=\"text-align: left;\">Mar 09, 2022</td><td>$2,577.17</td><td>$2,761.80</td><td>$2,573.66</td><td>$2,729.78</td><td>$14,173,665,398</td><td style=\"text-align: right;\">$327,284,646,384</td></tr><tr><td style=\"text-align: left;\">Mar 08, 2022</td><td>$2,497.72</td><td>$2,618.17</td><td>$2,489.76</td><td>$2,576.75</td><td>$13,922,922,903</td><td style=\"text-align: right;\">$308,901,634,237</td></tr><tr><td style=\"text-align: left;\">Mar 07, 2022</td><td>$2,555.30</td><td>$2,639.94</td><td>$2,455.59</td><td>$2,497.77</td><td>$14,594,098,731</td><td style=\"text-align: right;\">$299,399,838,914</td></tr><tr><td style=\"text-align: left;\">Mar 06, 2022</td><td>$2,664.94</td><td>$2,673.64</td><td>$2,555.04</td><td>$2,555.04</td><td>$8,872,976,607</td><td style=\"text-align: right;\">$306,229,430,306</td></tr><tr><td style=\"text-align: left;\">Mar 05, 2022</td><td>$2,618.47</td><td>$2,679.10</td><td>$2,596.99</td><td>$2,664.83</td><td>$8,072,368,396</td><td style=\"text-align: right;\">$319,352,820,653</td></tr><tr><td style=\"text-align: left;\">Mar 04, 2022</td><td>$2,834.99</td><td>$2,835.18</td><td>$2,587.75</td><td>$2,617.16</td><td>$14,496,939,024</td><td style=\"text-align: right;\">$313,604,105,839</td></tr><tr><td style=\"text-align: left;\">Mar 03, 2022</td><td>$2,950.16</td><td>$2,964.67</td><td>$2,797.32</td><td>$2,834.47</td><td>$13,091,199,728</td><td style=\"text-align: right;\">$339,605,220,817</td></tr><tr><td style=\"text-align: left;\">Mar 02, 2022</td><td>$2,972.47</td><td>$3,026.87</td><td>$2,919.94</td><td>$2,950.12</td><td>$16,636,517,503</td><td style=\"text-align: right;\">$353,421,574,640</td></tr><tr><td style=\"text-align: left;\">Mar 01, 2022</td><td>$2,919.78</td><td>$3,029.65</td><td>$2,868.94</td><td>$2,972.49</td><td>$18,757,425,786</td><td style=\"text-align: right;\">$356,060,928,142</td></tr><tr><td style=\"text-align: left;\">Feb 28, 2022</td><td>$2,621.17</td><td>$2,929.18</td><td>$2,586.39</td><td>$2,919.20</td><td>$19,266,124,733</td><td style=\"text-align: right;\">$349,638,704,204</td></tr><tr><td style=\"text-align: left;\">Feb 27, 2022</td><td>$2,780.50</td><td>$2,831.13</td><td>$2,581.62</td><td>$2,621.80</td><td>$16,150,857,254</td><td style=\"text-align: right;\">$313,983,181,396</td></tr><tr><td style=\"text-align: left;\">Feb 26, 2022</td><td>$2,764.99</td><td>$2,849.42</td><td>$2,745.01</td><td>$2,781.11</td><td>$11,724,648,351</td><td style=\"text-align: right;\">$333,024,181,663</td></tr><tr><td style=\"text-align: left;\">Feb 25, 2022</td><td>$2,598.44</td><td>$2,821.97</td><td>$2,579.21</td><td>$2,764.54</td><td>$17,208,902,048</td><td style=\"text-align: right;\">$331,001,574,996</td></tr><tr><td style=\"text-align: left;\">Feb 24, 2022</td><td>$2,588.17</td><td>$2,689.05</td><td>$2,308.91</td><td>$2,598.07</td><td>$29,312,342,666</td><td style=\"text-align: right;\">$311,035,019,270</td></tr><tr><td style=\"text-align: left;\">Feb 23, 2022</td><td>$2,639.45</td><td>$2,741.37</td><td>$2,587.41</td><td>$2,590.36</td><td>$13,382,637,240</td><td style=\"text-align: right;\">$310,077,026,340</td></tr><tr><td style=\"text-align: left;\">Feb 22, 2022</td><td>$2,572.90</td><td>$2,648.92</td><td>$2,510.68</td><td>$2,639.30</td><td>$16,360,200,507</td><td style=\"text-align: right;\">$315,899,223,813</td></tr><tr><td style=\"text-align: left;\">Feb 21, 2022</td><td>$2,627.67</td><td>$2,752.46</td><td>$2,568.25</td><td>$2,573.82</td><td>$18,646,392,740</td><td style=\"text-align: right;\">$308,026,942,925</td></tr><tr><td style=\"text-align: left;\">Feb 20, 2022</td><td>$2,763.76</td><td>$2,763.76</td><td>$2,585.95</td><td>$2,628.65</td><td>$11,641,437,834</td><td style=\"text-align: right;\">$314,553,542,349</td></tr><tr><td style=\"text-align: left;\">Feb 19, 2022</td><td>$2,784.87</td><td>$2,826.35</td><td>$2,707.38</td><td>$2,763.70</td><td>$9,774,183,169</td><td style=\"text-align: right;\">$330,676,602,382</td></tr><tr><td style=\"text-align: left;\">Feb 18, 2022</td><td>$2,884.34</td><td>$2,937.31</td><td>$2,761.64</td><td>$2,785.73</td><td>$15,748,173,433</td><td style=\"text-align: right;\">$333,274,482,393</td></tr><tr><td style=\"text-align: left;\">Feb 17, 2022</td><td>$3,126.86</td><td>$3,154.62</td><td>$2,861.85</td><td>$2,881.48</td><td>$15,860,206,214</td><td style=\"text-align: right;\">$344,691,405,366</td></tr><tr><td style=\"text-align: left;\">Feb 16, 2022</td><td>$3,180.45</td><td>$3,181.62</td><td>$3,055.17</td><td>$3,127.83</td><td>$12,352,406,833</td><td style=\"text-align: right;\">$374,117,832,127</td></tr><tr><td style=\"text-align: left;\">Feb 15, 2022</td><td>$2,933.73</td><td>$3,185.52</td><td>$2,917.86</td><td>$3,179.88</td><td>$13,921,257,873</td><td style=\"text-align: right;\">$380,300,250,254</td></tr><tr><td style=\"text-align: left;\">Feb 14, 2022</td><td>$2,880.19</td><td>$2,957.96</td><td>$2,840.26</td><td>$2,933.48</td><td>$12,164,552,172</td><td style=\"text-align: right;\">$350,792,159,064</td></tr><tr><td style=\"text-align: left;\">Feb 13, 2022</td><td>$2,916.79</td><td>$2,947.78</td><td>$2,845.40</td><td>$2,883.46</td><td>$9,054,963,563</td><td style=\"text-align: right;\">$344,772,260,795</td></tr><tr><td style=\"text-align: left;\">Feb 12, 2022</td><td>$2,927.39</td><td>$2,980.08</td><td>$2,870.18</td><td>$2,917.36</td><td>$11,254,355,757</td><td style=\"text-align: right;\">$348,785,733,007</td></tr><tr><td style=\"text-align: left;\">Feb 11, 2022</td><td>$3,077.41</td><td>$3,127.45</td><td>$2,888.71</td><td>$2,927.38</td><td>$16,043,881,065</td><td style=\"text-align: right;\">$349,944,259,218</td></tr><tr><td style=\"text-align: left;\">Feb 10, 2022</td><td>$3,240.11</td><td>$3,271.32</td><td>$3,070.38</td><td>$3,077.48</td><td>$18,629,485,080</td><td style=\"text-align: right;\">$367,845,386,121</td></tr><tr><td style=\"text-align: left;\">Feb 09, 2022</td><td>$3,121.18</td><td>$3,263.16</td><td>$3,063.16</td><td>$3,239.46</td><td>$13,951,308,490</td><td style=\"text-align: right;\">$387,161,915,316</td></tr><tr><td style=\"text-align: left;\">Feb 08, 2022</td><td>$3,143.01</td><td>$3,219.47</td><td>$3,038.38</td><td>$3,122.61</td><td>$17,136,080,906</td><td style=\"text-align: right;\">$373,154,427,925</td></tr><tr><td style=\"text-align: left;\">Feb 07, 2022</td><td>$3,057.42</td><td>$3,182.53</td><td>$3,002.93</td><td>$3,142.47</td><td>$15,197,063,785</td><td style=\"text-align: right;\">$375,485,569,686</td></tr><tr><td style=\"text-align: left;\">Feb 06, 2022</td><td>$3,014.96</td><td>$3,061.26</td><td>$2,965.43</td><td>$3,057.48</td><td>$9,466,018,022</td><td style=\"text-align: right;\">$365,288,302,067</td></tr><tr><td style=\"text-align: left;\">Feb 05, 2022</td><td>$2,984.45</td><td>$3,054.13</td><td>$2,966.78</td><td>$3,014.65</td><td>$13,102,093,957</td><td style=\"text-align: right;\">$360,130,344,738</td></tr><tr><td style=\"text-align: left;\">Feb 04, 2022</td><td>$2,681.06</td><td>$2,983.59</td><td>$2,675.44</td><td>$2,983.59</td><td>$18,987,223,729</td><td style=\"text-align: right;\">$356,379,709,501</td></tr><tr><td style=\"text-align: left;\">Feb 03, 2022</td><td>$2,682.23</td><td>$2,712.48</td><td>$2,587.78</td><td>$2,679.16</td><td>$12,755,505,065</td><td style=\"text-align: right;\">$319,980,125,796</td></tr><tr><td style=\"text-align: left;\">Feb 02, 2022</td><td>$2,791.96</td><td>$2,802.21</td><td>$2,630.12</td><td>$2,682.85</td><td>$13,876,301,217</td><td style=\"text-align: right;\">$320,384,932,826</td></tr><tr><td style=\"text-align: left;\">Feb 01, 2022</td><td>$2,687.90</td><td>$2,802.32</td><td>$2,682.62</td><td>$2,792.12</td><td>$13,194,846,235</td><td style=\"text-align: right;\">$333,395,296,200</td></tr><tr><td style=\"text-align: left;\">Jan 31, 2022</td><td>$2,603.26</td><td>$2,697.74</td><td>$2,489.07</td><td>$2,688.28</td><td>$13,778,234,614</td><td style=\"text-align: right;\">$320,959,888,865</td></tr><tr><td style=\"text-align: left;\">Jan 30, 2022</td><td>$2,598.56</td><td>$2,631.41</td><td>$2,550.46</td><td>$2,603.47</td><td>$9,501,221,177</td><td style=\"text-align: right;\">$310,798,780,839</td></tr><tr><td style=\"text-align: left;\">Jan 29, 2022</td><td>$2,546.59</td><td>$2,627.61</td><td>$2,526.99</td><td>$2,597.08</td><td>$11,172,062,661</td><td style=\"text-align: right;\">$310,001,494,765</td></tr><tr><td style=\"text-align: left;\">Jan 28, 2022</td><td>$2,421.65</td><td>$2,548.78</td><td>$2,367.83</td><td>$2,547.09</td><td>$14,666,227,351</td><td style=\"text-align: right;\">$303,999,533,601</td></tr><tr><td style=\"text-align: left;\">Jan 27, 2022</td><td>$2,467.19</td><td>$2,510.45</td><td>$2,328.45</td><td>$2,423.00</td><td>$16,126,522,783</td><td style=\"text-align: right;\">$289,156,264,094</td></tr><tr><td style=\"text-align: left;\">Jan 26, 2022</td><td>$2,455.58</td><td>$2,705.78</td><td>$2,417.68</td><td>$2,468.03</td><td>$21,229,909,340</td><td style=\"text-align: right;\">$294,496,473,175</td></tr><tr><td style=\"text-align: left;\">Jan 25, 2022</td><td>$2,440.39</td><td>$2,498.51</td><td>$2,359.38</td><td>$2,455.93</td><td>$16,179,776,932</td><td style=\"text-align: right;\">$293,019,902,304</td></tr><tr><td style=\"text-align: left;\">Jan 24, 2022</td><td>$2,535.89</td><td>$2,537.21</td><td>$2,172.30</td><td>$2,440.35</td><td>$28,220,804,648</td><td style=\"text-align: right;\">$291,127,719,901</td></tr><tr><td style=\"text-align: left;\">Jan 23, 2022</td><td>$2,406.92</td><td>$2,542.14</td><td>$2,381.52</td><td>$2,535.04</td><td>$16,481,489,511</td><td style=\"text-align: right;\">$302,389,263,381</td></tr><tr><td style=\"text-align: left;\">Jan 22, 2022</td><td>$2,561.15</td><td>$2,615.25</td><td>$2,330.25</td><td>$2,405.18</td><td>$27,369,692,036</td><td style=\"text-align: right;\">$286,866,655,647</td></tr><tr><td style=\"text-align: left;\">Jan 21, 2022</td><td>$3,002.96</td><td>$3,029.08</td><td>$2,496.81</td><td>$2,557.93</td><td>$26,796,291,874</td><td style=\"text-align: right;\">$305,050,189,407</td></tr><tr><td style=\"text-align: left;\">Jan 20, 2022</td><td>$3,095.27</td><td>$3,265.34</td><td>$3,000.91</td><td>$3,001.12</td><td>$10,645,922,764</td><td style=\"text-align: right;\">$357,862,901,302</td></tr><tr><td style=\"text-align: left;\">Jan 19, 2022</td><td>$3,163.85</td><td>$3,171.16</td><td>$3,055.21</td><td>$3,095.83</td><td>$13,187,424,144</td><td style=\"text-align: right;\">$369,113,617,589</td></tr><tr><td style=\"text-align: left;\">Jan 18, 2022</td><td>$3,212.29</td><td>$3,236.02</td><td>$3,096.12</td><td>$3,164.03</td><td>$13,024,154,091</td><td style=\"text-align: right;\">$377,202,294,416</td></tr><tr><td style=\"text-align: left;\">Jan 17, 2022</td><td>$3,350.95</td><td>$3,355.82</td><td>$3,157.22</td><td>$3,212.30</td><td>$12,344,309,617</td><td style=\"text-align: right;\">$382,914,238,639</td></tr><tr><td style=\"text-align: left;\">Jan 16, 2022</td><td>$3,330.39</td><td>$3,376.40</td><td>$3,291.56</td><td>$3,350.92</td><td>$9,505,934,874</td><td style=\"text-align: right;\">$399,392,136,112</td></tr><tr><td style=\"text-align: left;\">Jan 15, 2022</td><td>$3,309.84</td><td>$3,364.54</td><td>$3,278.67</td><td>$3,330.53</td><td>$9,619,999,078</td><td style=\"text-align: right;\">$396,916,629,873</td></tr><tr><td style=\"text-align: left;\">Jan 14, 2022</td><td>$3,248.65</td><td>$3,330.77</td><td>$3,203.82</td><td>$3,310.00</td><td>$13,562,957,230</td><td style=\"text-align: right;\">$394,425,210,962</td></tr><tr><td style=\"text-align: left;\">Jan 13, 2022</td><td>$3,372.10</td><td>$3,396.97</td><td>$3,247.92</td><td>$3,248.29</td><td>$15,294,466,275</td><td style=\"text-align: right;\">$387,027,270,412</td></tr><tr><td style=\"text-align: left;\">Jan 12, 2022</td><td>$3,238.45</td><td>$3,401.22</td><td>$3,216.72</td><td>$3,372.26</td><td>$16,662,871,689</td><td style=\"text-align: right;\">$401,752,380,546</td></tr><tr><td style=\"text-align: left;\">Jan 11, 2022</td><td>$3,082.99</td><td>$3,247.51</td><td>$3,061.14</td><td>$3,238.11</td><td>$15,211,447,193</td><td style=\"text-align: right;\">$385,726,806,148</td></tr><tr><td style=\"text-align: left;\">Jan 10, 2022</td><td>$3,157.57</td><td>$3,177.21</td><td>$2,947.68</td><td>$3,083.10</td><td>$19,535,744,145</td><td style=\"text-align: right;\">$367,219,283,311</td></tr><tr><td style=\"text-align: left;\">Jan 09, 2022</td><td>$3,091.70</td><td>$3,206.79</td><td>$3,075.91</td><td>$3,157.75</td><td>$12,334,683,863</td><td style=\"text-align: right;\">$376,068,612,894</td></tr><tr><td style=\"text-align: left;\">Jan 08, 2022</td><td>$3,193.50</td><td>$3,240.30</td><td>$3,020.88</td><td>$3,091.97</td><td>$16,037,732,700</td><td style=\"text-align: right;\">$368,192,421,487</td></tr><tr><td style=\"text-align: left;\">Jan 07, 2022</td><td>$3,417.84</td><td>$3,420.46</td><td>$3,117.38</td><td>$3,193.21</td><td>$24,494,179,209</td><td style=\"text-align: right;\">$380,204,321,962</td></tr><tr><td style=\"text-align: left;\">Jan 06, 2022</td><td>$3,549.71</td><td>$3,549.71</td><td>$3,335.38</td><td>$3,418.41</td><td>$24,293,791,313</td><td style=\"text-align: right;\">$406,971,721,364</td></tr><tr><td style=\"text-align: left;\">Jan 05, 2022</td><td>$3,794.27</td><td>$3,842.06</td><td>$3,456.75</td><td>$3,550.39</td><td>$18,061,338,502</td><td style=\"text-align: right;\">$422,636,379,036</td></tr><tr><td style=\"text-align: left;\">Jan 04, 2022</td><td>$3,761.36</td><td>$3,876.79</td><td>$3,723.35</td><td>$3,794.06</td><td>$14,030,925,983</td><td style=\"text-align: right;\">$451,591,466,825</td></tr><tr><td style=\"text-align: left;\">Jan 03, 2022</td><td>$3,829.54</td><td>$3,836.20</td><td>$3,698.05</td><td>$3,761.38</td><td>$12,080,777,893</td><td style=\"text-align: right;\">$447,650,792,404</td></tr><tr><td style=\"text-align: left;\">Jan 02, 2022</td><td>$3,769.30</td><td>$3,836.16</td><td>$3,727.36</td><td>$3,829.57</td><td>$9,881,471,548</td><td style=\"text-align: right;\">$455,713,570,381</td></tr><tr><td style=\"text-align: left;\">Jan 01, 2022</td><td>$3,683.05</td><td>$3,769.92</td><td>$3,682.29</td><td>$3,769.70</td><td>$9,776,191,466</td><td style=\"text-align: right;\">$448,537,615,143</td></tr><tr><td style=\"text-align: left;\">Dec 31, 2021</td><td>$3,713.43</td><td>$3,807.29</td><td>$3,636.87</td><td>$3,682.63</td><td>$14,157,285,268</td><td style=\"text-align: right;\">$438,128,003,491</td></tr><tr><td style=\"text-align: left;\">Dec 30, 2021</td><td>$3,632.22</td><td>$3,767.56</td><td>$3,595.20</td><td>$3,713.85</td><td>$12,925,377,999</td><td style=\"text-align: right;\">$441,792,512,827</td></tr><tr><td style=\"text-align: left;\">Dec 29, 2021</td><td>$3,797.44</td><td>$3,827.98</td><td>$3,612.80</td><td>$3,628.53</td><td>$15,722,555,672</td><td style=\"text-align: right;\">$431,593,692,098</td></tr><tr><td style=\"text-align: left;\">Dec 28, 2021</td><td>$4,037.54</td><td>$4,037.54</td><td>$3,769.28</td><td>$3,800.89</td><td>$17,299,472,803</td><td style=\"text-align: right;\">$452,043,198,574</td></tr><tr><td style=\"text-align: left;\">Dec 27, 2021</td><td>$4,064.75</td><td>$4,126.00</td><td>$4,033.49</td><td>$4,037.55</td><td>$11,424,360,002</td><td style=\"text-align: right;\">$480,134,213,401</td></tr><tr><td style=\"text-align: left;\">Dec 26, 2021</td><td>$4,094.15</td><td>$4,105.02</td><td>$4,013.03</td><td>$4,067.33</td><td>$11,197,244,172</td><td style=\"text-align: right;\">$483,620,188,465</td></tr><tr><td style=\"text-align: left;\">Dec 25, 2021</td><td>$4,049.78</td><td>$4,138.57</td><td>$4,027.93</td><td>$4,093.28</td><td>$10,894,785,525</td><td style=\"text-align: right;\">$486,650,526,450</td></tr><tr><td style=\"text-align: left;\">Dec 24, 2021</td><td>$4,111.34</td><td>$4,134.11</td><td>$4,029.06</td><td>$4,047.98</td><td>$12,769,090,623</td><td style=\"text-align: right;\">$481,210,199,545</td></tr><tr><td style=\"text-align: left;\">Dec 23, 2021</td><td>$3,981.96</td><td>$4,149.03</td><td>$3,897.23</td><td>$4,108.02</td><td>$18,007,273,742</td><td style=\"text-align: right;\">$488,291,028,084</td></tr><tr><td style=\"text-align: left;\">Dec 22, 2021</td><td>$4,018.70</td><td>$4,073.79</td><td>$3,947.69</td><td>$3,982.10</td><td>$13,921,756,199</td><td style=\"text-align: right;\">$473,270,048,864</td></tr><tr><td style=\"text-align: left;\">Dec 21, 2021</td><td>$3,938.46</td><td>$4,058.82</td><td>$3,918.84</td><td>$4,020.26</td><td>$16,388,555,198</td><td style=\"text-align: right;\">$477,751,386,115</td></tr><tr><td style=\"text-align: left;\">Dec 20, 2021</td><td>$3,923.70</td><td>$3,980.10</td><td>$3,759.40</td><td>$3,933.84</td><td>$21,589,690,675</td><td style=\"text-align: right;\">$467,428,565,001</td></tr><tr><td style=\"text-align: left;\">Dec 19, 2021</td><td>$3,960.87</td><td>$4,018.66</td><td>$3,894.40</td><td>$3,922.59</td><td>$16,167,785,597</td><td style=\"text-align: right;\">$466,037,604,379</td></tr><tr><td style=\"text-align: left;\">Dec 18, 2021</td><td>$3,880.29</td><td>$3,993.83</td><td>$3,774.62</td><td>$3,960.86</td><td>$19,530,895,889</td><td style=\"text-align: right;\">$470,530,555,466</td></tr><tr><td style=\"text-align: left;\">Dec 17, 2021</td><td>$3,959.01</td><td>$3,992.79</td><td>$3,711.42</td><td>$3,879.49</td><td>$23,143,541,098</td><td style=\"text-align: right;\">$460,810,766,341</td></tr><tr><td style=\"text-align: left;\">Dec 16, 2021</td><td>$4,020.41</td><td>$4,110.37</td><td>$3,956.06</td><td>$3,962.47</td><td>$19,825,531,254</td><td style=\"text-align: right;\">$470,613,962,761</td></tr><tr><td style=\"text-align: left;\">Dec 15, 2021</td><td>$3,862.25</td><td>$4,086.37</td><td>$3,664.72</td><td>$4,018.39</td><td>$26,411,188,833</td><td style=\"text-align: right;\">$477,201,243,362</td></tr><tr><td style=\"text-align: left;\">Dec 14, 2021</td><td>$3,782.82</td><td>$3,866.63</td><td>$3,700.10</td><td>$3,745.44</td><td>$23,836,759,957</td><td style=\"text-align: right;\">$444,724,220,347</td></tr><tr><td style=\"text-align: left;\">Dec 13, 2021</td><td>$4,136.36</td><td>$4,145.96</td><td>$3,680.61</td><td>$3,784.23</td><td>$23,999,841,386</td><td style=\"text-align: right;\">$449,291,443,953</td></tr><tr><td style=\"text-align: left;\">Dec 12, 2021</td><td>$4,084.81</td><td>$4,173.61</td><td>$3,993.06</td><td>$4,134.45</td><td>$14,057,603,914</td><td style=\"text-align: right;\">$490,816,832,310</td></tr><tr><td style=\"text-align: left;\">Dec 11, 2021</td><td>$3,909.67</td><td>$4,095.65</td><td>$3,846.05</td><td>$4,084.45</td><td>$19,131,502,454</td><td style=\"text-align: right;\">$484,824,810,240</td></tr><tr><td style=\"text-align: left;\">Dec 10, 2021</td><td>$4,113.59</td><td>$4,227.11</td><td>$3,897.77</td><td>$3,908.50</td><td>$28,014,595,631</td><td style=\"text-align: right;\">$463,886,245,130</td></tr><tr><td style=\"text-align: left;\">Dec 09, 2021</td><td>$4,433.03</td><td>$4,482.31</td><td>$4,078.84</td><td>$4,119.82</td><td>$22,296,131,874</td><td style=\"text-align: right;\">$488,911,369,093</td></tr><tr><td style=\"text-align: left;\">Dec 08, 2021</td><td>$4,311.67</td><td>$4,453.11</td><td>$4,234.54</td><td>$4,439.36</td><td>$18,704,315,119</td><td style=\"text-align: right;\">$526,774,233,712</td></tr><tr><td style=\"text-align: left;\">Dec 07, 2021</td><td>$4,358.59</td><td>$4,428.59</td><td>$4,264.32</td><td>$4,315.06</td><td>$22,366,213,354</td><td style=\"text-align: right;\">$511,968,714,781</td></tr><tr><td style=\"text-align: left;\">Dec 06, 2021</td><td>$4,199.00</td><td>$4,375.52</td><td>$3,930.81</td><td>$4,358.74</td><td>$28,229,518,513</td><td style=\"text-align: right;\">$517,093,472,536</td></tr><tr><td style=\"text-align: left;\">Dec 05, 2021</td><td>$4,119.63</td><td>$4,246.92</td><td>$4,040.22</td><td>$4,198.32</td><td>$25,533,062,707</td><td style=\"text-align: right;\">$498,007,875,686</td></tr><tr><td style=\"text-align: left;\">Dec 04, 2021</td><td>$4,227.76</td><td>$4,242.73</td><td>$3,525.49</td><td>$4,119.59</td><td>$38,478,999,182</td><td style=\"text-align: right;\">$488,613,645,062</td></tr><tr><td style=\"text-align: left;\">Dec 03, 2021</td><td>$4,514.36</td><td>$4,647.29</td><td>$4,100.15</td><td>$4,220.71</td><td>$25,879,591,528</td><td style=\"text-align: right;\">$500,552,313,217</td></tr><tr><td style=\"text-align: left;\">Dec 02, 2021</td><td>$4,586.33</td><td>$4,628.92</td><td>$4,441.51</td><td>$4,511.30</td><td>$21,502,671,027</td><td style=\"text-align: right;\">$534,956,208,694</td></tr><tr><td style=\"text-align: left;\">Dec 01, 2021</td><td>$4,623.68</td><td>$4,780.73</td><td>$4,530.27</td><td>$4,586.99</td><td>$27,634,826,695</td><td style=\"text-align: right;\">$543,871,223,795</td></tr><tr><td style=\"text-align: left;\">Nov 30, 2021</td><td>$4,447.77</td><td>$4,753.27</td><td>$4,358.07</td><td>$4,631.48</td><td>$28,626,354,111</td><td style=\"text-align: right;\">$549,085,770,691</td></tr><tr><td style=\"text-align: left;\">Nov 29, 2021</td><td>$4,296.95</td><td>$4,460.85</td><td>$4,284.50</td><td>$4,445.11</td><td>$19,086,475,837</td><td style=\"text-align: right;\">$526,931,291,117</td></tr><tr><td style=\"text-align: left;\">Nov 28, 2021</td><td>$4,101.65</td><td>$4,297.92</td><td>$3,989.97</td><td>$4,294.45</td><td>$15,953,126,340</td><td style=\"text-align: right;\">$509,016,708,179</td></tr><tr><td style=\"text-align: left;\">Nov 27, 2021</td><td>$4,043.00</td><td>$4,187.68</td><td>$4,033.51</td><td>$4,096.91</td><td>$16,515,693,874</td><td style=\"text-align: right;\">$485,548,014,481</td></tr><tr><td style=\"text-align: left;\">Nov 26, 2021</td><td>$4,522.21</td><td>$4,550.84</td><td>$3,933.51</td><td>$4,030.91</td><td>$26,281,795,488</td><td style=\"text-align: right;\">$477,672,051,593</td></tr><tr><td style=\"text-align: left;\">Nov 25, 2021</td><td>$4,271.39</td><td>$4,550.52</td><td>$4,249.77</td><td>$4,274.74</td><td>$18,705,358,318</td><td style=\"text-align: right;\">$506,472,632,401</td></tr><tr><td style=\"text-align: left;\">Nov 24, 2021</td><td>$4,340.04</td><td>$4,376.88</td><td>$4,176.18</td><td>$4,239.98</td><td>$21,838,037,128</td><td style=\"text-align: right;\">$502,285,105,696</td></tr><tr><td style=\"text-align: left;\">Nov 23, 2021</td><td>$4,089.68</td><td>$4,385.48</td><td>$4,069.77</td><td>$4,340.76</td><td>$22,133,497,059</td><td style=\"text-align: right;\">$514,217,959,090</td></tr><tr><td style=\"text-align: left;\">Nov 22, 2021</td><td>$4,266.51</td><td>$4,302.02</td><td>$4,033.57</td><td>$4,088.46</td><td>$19,752,218,877</td><td style=\"text-align: right;\">$484,275,218,142</td></tr><tr><td style=\"text-align: left;\">Nov 21, 2021</td><td>$4,412.20</td><td>$4,422.49</td><td>$4,255.46</td><td>$4,269.73</td><td>$14,094,831,413</td><td style=\"text-align: right;\">$505,690,293,990</td></tr><tr><td style=\"text-align: left;\">Nov 20, 2021</td><td>$4,298.35</td><td>$4,434.39</td><td>$4,209.24</td><td>$4,409.93</td><td>$15,448,261,277</td><td style=\"text-align: right;\">$522,236,291,601</td></tr><tr><td style=\"text-align: left;\">Nov 19, 2021</td><td>$3,995.73</td><td>$4,311.71</td><td>$3,982.92</td><td>$4,298.31</td><td>$20,626,269,711</td><td style=\"text-align: right;\">$508,960,524,908</td></tr><tr><td style=\"text-align: left;\">Nov 18, 2021</td><td>$4,287.80</td><td>$4,343.56</td><td>$3,959.23</td><td>$4,000.65</td><td>$21,383,250,893</td><td style=\"text-align: right;\">$473,663,292,938</td></tr><tr><td style=\"text-align: left;\">Nov 17, 2021</td><td>$4,213.91</td><td>$4,300.31</td><td>$4,107.13</td><td>$4,287.59</td><td>$22,183,461,850</td><td style=\"text-align: right;\">$507,579,384,616</td></tr><tr><td style=\"text-align: left;\">Nov 16, 2021</td><td>$4,570.48</td><td>$4,891.70</td><td>$4,144.33</td><td>$4,216.37</td><td>$27,417,502,801</td><td style=\"text-align: right;\">$499,090,512,787</td></tr><tr><td style=\"text-align: left;\">Nov 15, 2021</td><td>$4,627.09</td><td>$4,764.64</td><td>$4,546.60</td><td>$4,557.50</td><td>$16,275,851,299</td><td style=\"text-align: right;\">$539,410,730,883</td></tr><tr><td style=\"text-align: left;\">Nov 14, 2021</td><td>$4,648.63</td><td>$4,689.84</td><td>$4,516.94</td><td>$4,626.36</td><td>$12,172,962,219</td><td style=\"text-align: right;\">$547,499,259,423</td></tr><tr><td style=\"text-align: left;\">Nov 13, 2021</td><td>$4,666.72</td><td>$4,702.12</td><td>$4,582.18</td><td>$4,651.46</td><td>$14,457,436,261</td><td style=\"text-align: right;\">$550,408,539,446</td></tr><tr><td style=\"text-align: left;\">Nov 12, 2021</td><td>$4,724.31</td><td>$4,808.74</td><td>$4,510.92</td><td>$4,667.12</td><td>$18,316,060,208</td><td style=\"text-align: right;\">$552,199,380,998</td></tr><tr><td style=\"text-align: left;\">Nov 11, 2021</td><td>$4,635.45</td><td>$4,778.06</td><td>$4,580.99</td><td>$4,730.38</td><td>$17,933,201,129</td><td style=\"text-align: right;\">$559,621,726,330</td></tr><tr><td style=\"text-align: left;\">Nov 10, 2021</td><td>$4,733.36</td><td>$4,859.50</td><td>$4,485.09</td><td>$4,636.17</td><td>$22,748,160,545</td><td style=\"text-align: right;\">$548,414,296,327</td></tr><tr><td style=\"text-align: left;\">Nov 09, 2021</td><td>$4,810.07</td><td>$4,837.59</td><td>$4,718.04</td><td>$4,735.07</td><td>$20,834,172,627</td><td style=\"text-align: right;\">$560,049,280,556</td></tr><tr><td style=\"text-align: left;\">Nov 08, 2021</td><td>$4,619.65</td><td>$4,822.36</td><td>$4,619.65</td><td>$4,812.09</td><td>$19,290,896,267</td><td style=\"text-align: right;\">$569,094,330,697</td></tr><tr><td style=\"text-align: left;\">Nov 07, 2021</td><td>$4,523.98</td><td>$4,640.92</td><td>$4,510.98</td><td>$4,620.55</td><td>$13,541,376,033</td><td style=\"text-align: right;\">$546,381,671,971</td></tr><tr><td style=\"text-align: left;\">Nov 06, 2021</td><td>$4,482.65</td><td>$4,531.00</td><td>$4,334.97</td><td>$4,521.58</td><td>$14,429,076,700</td><td style=\"text-align: right;\">$534,616,843,813</td></tr><tr><td style=\"text-align: left;\">Nov 05, 2021</td><td>$4,537.42</td><td>$4,570.90</td><td>$4,447.49</td><td>$4,486.24</td><td>$15,086,003,586</td><td style=\"text-align: right;\">$530,378,899,238</td></tr><tr><td style=\"text-align: left;\">Nov 04, 2021</td><td>$4,604.68</td><td>$4,606.52</td><td>$4,426.62</td><td>$4,537.32</td><td>$18,415,244,464</td><td style=\"text-align: right;\">$536,356,841,434</td></tr><tr><td style=\"text-align: left;\">Nov 03, 2021</td><td>$4,589.68</td><td>$4,664.91</td><td>$4,462.98</td><td>$4,607.19</td><td>$21,220,463,155</td><td style=\"text-align: right;\">$544,555,114,009</td></tr><tr><td style=\"text-align: left;\">Nov 02, 2021</td><td>$4,322.50</td><td>$4,599.95</td><td>$4,288.69</td><td>$4,584.80</td><td>$20,794,448,222</td><td style=\"text-align: right;\">$541,846,540,463</td></tr><tr><td style=\"text-align: left;\">Nov 01, 2021</td><td>$4,288.22</td><td>$4,377.32</td><td>$4,160.97</td><td>$4,324.63</td><td>$17,985,288,261</td><td style=\"text-align: right;\">$511,040,780,623</td></tr><tr><td style=\"text-align: left;\">Oct 31, 2021</td><td>$4,322.74</td><td>$4,394.45</td><td>$4,179.02</td><td>$4,288.07</td><td>$17,498,160,238</td><td style=\"text-align: right;\">$506,663,636,947</td></tr><tr><td style=\"text-align: left;\">Oct 30, 2021</td><td>$4,414.24</td><td>$4,426.85</td><td>$4,252.49</td><td>$4,325.65</td><td>$14,615,490,626</td><td style=\"text-align: right;\">$511,045,675,623</td></tr><tr><td style=\"text-align: left;\">Oct 29, 2021</td><td>$4,288.69</td><td>$4,455.74</td><td>$4,271.71</td><td>$4,414.75</td><td>$22,967,641,914</td><td style=\"text-align: right;\">$521,512,615,610</td></tr><tr><td style=\"text-align: left;\">Oct 28, 2021</td><td>$3,924.82</td><td>$4,293.15</td><td>$3,905.71</td><td>$4,287.32</td><td>$25,958,154,575</td><td style=\"text-align: right;\">$506,402,198,179</td></tr><tr><td style=\"text-align: left;\">Oct 27, 2021</td><td>$4,132.17</td><td>$4,299.15</td><td>$3,930.26</td><td>$3,930.26</td><td>$26,219,530,404</td><td style=\"text-align: right;\">$464,175,061,361</td></tr><tr><td style=\"text-align: left;\">Oct 26, 2021</td><td>$4,217.34</td><td>$4,289.13</td><td>$4,106.82</td><td>$4,131.10</td><td>$17,157,714,562</td><td style=\"text-align: right;\">$487,840,182,030</td></tr><tr><td style=\"text-align: left;\">Oct 25, 2021</td><td>$4,084.43</td><td>$4,236.67</td><td>$4,072.03</td><td>$4,217.88</td><td>$15,995,727,040</td><td style=\"text-align: right;\">$498,030,801,217</td></tr><tr><td style=\"text-align: left;\">Oct 24, 2021</td><td>$4,171.86</td><td>$4,185.73</td><td>$3,967.12</td><td>$4,087.90</td><td>$14,978,083,638</td><td style=\"text-align: right;\">$482,628,847,456</td></tr><tr><td style=\"text-align: left;\">Oct 23, 2021</td><td>$3,971.36</td><td>$4,171.66</td><td>$3,944.63</td><td>$4,171.66</td><td>$14,781,537,792</td><td style=\"text-align: right;\">$492,462,196,227</td></tr><tr><td style=\"text-align: left;\">Oct 22, 2021</td><td>$4,055.69</td><td>$4,162.98</td><td>$3,908.34</td><td>$3,970.18</td><td>$19,432,937,968</td><td style=\"text-align: right;\">$468,623,912,328</td></tr><tr><td style=\"text-align: left;\">Oct 21, 2021</td><td>$4,161.71</td><td>$4,366.09</td><td>$4,032.48</td><td>$4,054.32</td><td>$28,220,661,820</td><td style=\"text-align: right;\">$478,500,948,880</td></tr><tr><td style=\"text-align: left;\">Oct 20, 2021</td><td>$3,877.73</td><td>$4,167.47</td><td>$3,833.29</td><td>$4,155.99</td><td>$20,338,319,988</td><td style=\"text-align: right;\">$490,444,280,909</td></tr><tr><td style=\"text-align: left;\">Oct 19, 2021</td><td>$3,747.16</td><td>$3,883.93</td><td>$3,736.78</td><td>$3,877.65</td><td>$15,998,757,133</td><td style=\"text-align: right;\">$457,545,764,474</td></tr><tr><td style=\"text-align: left;\">Oct 18, 2021</td><td>$3,847.73</td><td>$3,888.21</td><td>$3,686.75</td><td>$3,748.76</td><td>$17,386,204,158</td><td style=\"text-align: right;\">$442,286,890,171</td></tr><tr><td style=\"text-align: left;\">Oct 17, 2021</td><td>$3,829.86</td><td>$3,914.90</td><td>$3,660.72</td><td>$3,847.10</td><td>$15,908,090,346</td><td style=\"text-align: right;\">$453,838,694,184</td></tr><tr><td style=\"text-align: left;\">Oct 16, 2021</td><td>$3,865.67</td><td>$3,962.45</td><td>$3,805.89</td><td>$3,830.38</td><td>$16,578,095,629</td><td style=\"text-align: right;\">$451,814,143,160</td></tr><tr><td style=\"text-align: left;\">Oct 15, 2021</td><td>$3,790.15</td><td>$3,895.47</td><td>$3,735.36</td><td>$3,862.63</td><td>$20,966,841,512</td><td style=\"text-align: right;\">$455,566,504,000</td></tr><tr><td style=\"text-align: left;\">Oct 14, 2021</td><td>$3,604.96</td><td>$3,819.26</td><td>$3,590.28</td><td>$3,786.01</td><td>$19,443,499,909</td><td style=\"text-align: right;\">$446,474,897,131</td></tr><tr><td style=\"text-align: left;\">Oct 13, 2021</td><td>$3,492.75</td><td>$3,607.74</td><td>$3,417.60</td><td>$3,606.20</td><td>$16,211,275,589</td><td style=\"text-align: right;\">$425,218,703,480</td></tr><tr><td style=\"text-align: left;\">Oct 12, 2021</td><td>$3,546.48</td><td>$3,546.48</td><td>$3,407.34</td><td>$3,492.57</td><td>$18,109,578,443</td><td style=\"text-align: right;\">$411,781,081,166</td></tr><tr><td style=\"text-align: left;\">Oct 11, 2021</td><td>$3,419.73</td><td>$3,622.29</td><td>$3,385.76</td><td>$3,545.35</td><td>$18,579,189,588</td><td style=\"text-align: right;\">$417,956,526,087</td></tr><tr><td style=\"text-align: left;\">Oct 10, 2021</td><td>$3,575.02</td><td>$3,603.24</td><td>$3,414.97</td><td>$3,425.85</td><td>$16,171,746,693</td><td style=\"text-align: right;\">$403,822,590,446</td></tr><tr><td style=\"text-align: left;\">Oct 09, 2021</td><td>$3,560.00</td><td>$3,628.24</td><td>$3,544.64</td><td>$3,575.72</td><td>$12,707,036,942</td><td style=\"text-align: right;\">$421,440,173,778</td></tr><tr><td style=\"text-align: left;\">Oct 08, 2021</td><td>$3,587.83</td><td>$3,667.96</td><td>$3,547.83</td><td>$3,563.76</td><td>$16,222,029,488</td><td style=\"text-align: right;\">$419,983,193,014</td></tr><tr><td style=\"text-align: left;\">Oct 07, 2021</td><td>$3,576.81</td><td>$3,650.01</td><td>$3,479.91</td><td>$3,587.97</td><td>$19,090,322,927</td><td style=\"text-align: right;\">$422,788,897,812</td></tr><tr><td style=\"text-align: left;\">Oct 06, 2021</td><td>$3,516.57</td><td>$3,622.55</td><td>$3,354.47</td><td>$3,580.56</td><td>$21,855,226,591</td><td style=\"text-align: right;\">$421,867,592,042</td></tr><tr><td style=\"text-align: left;\">Oct 05, 2021</td><td>$3,381.78</td><td>$3,541.45</td><td>$3,365.82</td><td>$3,518.52</td><td>$16,632,591,670</td><td style=\"text-align: right;\">$414,510,299,768</td></tr><tr><td style=\"text-align: left;\">Oct 04, 2021</td><td>$3,418.78</td><td>$3,434.78</td><td>$3,283.45</td><td>$3,380.09</td><td>$17,747,154,101</td><td style=\"text-align: right;\">$398,156,802,049</td></tr><tr><td style=\"text-align: left;\">Oct 03, 2021</td><td>$3,390.77</td><td>$3,484.61</td><td>$3,348.12</td><td>$3,418.36</td><td>$15,516,566,862</td><td style=\"text-align: right;\">$402,619,122,254</td></tr><tr><td style=\"text-align: left;\">Oct 02, 2021</td><td>$3,308.87</td><td>$3,464.84</td><td>$3,260.03</td><td>$3,391.69</td><td>$19,202,671,704</td><td style=\"text-align: right;\">$399,433,404,741</td></tr><tr><td style=\"text-align: left;\">Oct 01, 2021</td><td>$3,001.13</td><td>$3,329.85</td><td>$2,978.65</td><td>$3,307.52</td><td>$22,307,625,573</td><td style=\"text-align: right;\">$389,475,327,627</td></tr><tr><td style=\"text-align: left;\">Sep 30, 2021</td><td>$2,852.56</td><td>$3,046.52</td><td>$2,840.29</td><td>$3,001.68</td><td>$17,661,065,099</td><td style=\"text-align: right;\">$353,421,264,860</td></tr><tr><td style=\"text-align: left;\">Sep 29, 2021</td><td>$2,809.30</td><td>$2,946.88</td><td>$2,786.99</td><td>$2,853.14</td><td>$15,763,456,158</td><td style=\"text-align: right;\">$335,894,451,616</td></tr><tr><td style=\"text-align: left;\">Sep 28, 2021</td><td>$2,928.96</td><td>$2,970.77</td><td>$2,793.36</td><td>$2,807.30</td><td>$16,895,079,070</td><td style=\"text-align: right;\">$330,459,005,352</td></tr><tr><td style=\"text-align: left;\">Sep 27, 2021</td><td>$3,065.84</td><td>$3,163.67</td><td>$2,932.69</td><td>$2,934.14</td><td>$19,164,053,681</td><td style=\"text-align: right;\">$345,350,983,222</td></tr><tr><td style=\"text-align: left;\">Sep 26, 2021</td><td>$2,926.34</td><td>$3,114.86</td><td>$2,744.58</td><td>$3,062.27</td><td>$21,172,766,310</td><td style=\"text-align: right;\">$360,390,447,457</td></tr><tr><td style=\"text-align: left;\">Sep 25, 2021</td><td>$2,930.88</td><td>$2,968.99</td><td>$2,818.97</td><td>$2,925.57</td><td>$18,932,786,754</td><td style=\"text-align: right;\">$344,263,323,578</td></tr><tr><td style=\"text-align: left;\">Sep 24, 2021</td><td>$3,154.56</td><td>$3,159.64</td><td>$2,747.34</td><td>$2,931.67</td><td>$25,595,422,789</td><td style=\"text-align: right;\">$344,941,570,042</td></tr><tr><td style=\"text-align: left;\">Sep 23, 2021</td><td>$3,077.97</td><td>$3,173.54</td><td>$3,038.10</td><td>$3,155.52</td><td>$18,516,291,047</td><td style=\"text-align: right;\">$371,237,859,101</td></tr><tr><td style=\"text-align: left;\">Sep 22, 2021</td><td>$2,763.21</td><td>$3,089.08</td><td>$2,741.44</td><td>$3,077.87</td><td>$23,742,102,645</td><td style=\"text-align: right;\">$362,060,838,609</td></tr><tr><td style=\"text-align: left;\">Sep 21, 2021</td><td>$2,977.31</td><td>$3,101.70</td><td>$2,676.41</td><td>$2,764.43</td><td>$30,405,062,665</td><td style=\"text-align: right;\">$325,153,006,769</td></tr><tr><td style=\"text-align: left;\">Sep 20, 2021</td><td>$3,329.67</td><td>$3,343.33</td><td>$2,940.84</td><td>$2,958.99</td><td>$27,371,684,581</td><td style=\"text-align: right;\">$347,997,332,693</td></tr><tr><td style=\"text-align: left;\">Sep 19, 2021</td><td>$3,433.29</td><td>$3,448.32</td><td>$3,286.17</td><td>$3,329.45</td><td>$14,257,609,743</td><td style=\"text-align: right;\">$391,520,172,702</td></tr><tr><td style=\"text-align: left;\">Sep 18, 2021</td><td>$3,397.42</td><td>$3,540.81</td><td>$3,371.89</td><td>$3,432.02</td><td>$15,995,220,233</td><td style=\"text-align: right;\">$403,535,591,621</td></tr><tr><td style=\"text-align: left;\">Sep 17, 2021</td><td>$3,569.57</td><td>$3,589.31</td><td>$3,356.45</td><td>$3,398.54</td><td>$17,722,363,229</td><td style=\"text-align: right;\">$399,552,923,890</td></tr><tr><td style=\"text-align: left;\">Sep 16, 2021</td><td>$3,613.07</td><td>$3,673.31</td><td>$3,489.81</td><td>$3,571.29</td><td>$20,093,903,064</td><td style=\"text-align: right;\">$419,815,044,704</td></tr><tr><td style=\"text-align: left;\">Sep 15, 2021</td><td>$3,431.22</td><td>$3,615.28</td><td>$3,365.91</td><td>$3,615.28</td><td>$17,548,551,804</td><td style=\"text-align: right;\">$424,937,147,897</td></tr><tr><td style=\"text-align: left;\">Sep 14, 2021</td><td>$3,286.32</td><td>$3,429.17</td><td>$3,273.63</td><td>$3,429.17</td><td>$19,125,420,848</td><td style=\"text-align: right;\">$403,015,177,032</td></tr><tr><td style=\"text-align: left;\">Sep 13, 2021</td><td>$3,407.47</td><td>$3,426.50</td><td>$3,121.51</td><td>$3,285.51</td><td>$22,721,552,948</td><td style=\"text-align: right;\">$386,087,569,776</td></tr><tr><td style=\"text-align: left;\">Sep 12, 2021</td><td>$3,270.29</td><td>$3,462.47</td><td>$3,235.11</td><td>$3,410.13</td><td>$16,810,411,424</td><td style=\"text-align: right;\">$400,686,506,367</td></tr><tr><td style=\"text-align: left;\">Sep 11, 2021</td><td>$3,209.03</td><td>$3,346.53</td><td>$3,208.96</td><td>$3,270.28</td><td>$18,627,122,934</td><td style=\"text-align: right;\">$384,209,314,701</td></tr><tr><td style=\"text-align: left;\">Sep 10, 2021</td><td>$3,425.56</td><td>$3,512.57</td><td>$3,157.06</td><td>$3,211.51</td><td>$22,355,974,097</td><td style=\"text-align: right;\">$377,261,165,406</td></tr><tr><td style=\"text-align: left;\">Sep 09, 2021</td><td>$3,452.55</td><td>$3,562.99</td><td>$3,400.52</td><td>$3,427.34</td><td>$24,118,055,831</td><td style=\"text-align: right;\">$402,569,602,098</td></tr><tr><td style=\"text-align: left;\">Sep 08, 2021</td><td>$3,428.38</td><td>$3,559.12</td><td>$3,224.76</td><td>$3,497.32</td><td>$31,738,430,771</td><td style=\"text-align: right;\">$410,741,599,782</td></tr><tr><td style=\"text-align: left;\">Sep 07, 2021</td><td>$3,926.53</td><td>$3,945.31</td><td>$3,062.22</td><td>$3,426.39</td><td>$39,131,346,397</td><td style=\"text-align: right;\">$402,365,928,843</td></tr><tr><td style=\"text-align: left;\">Sep 06, 2021</td><td>$3,951.52</td><td>$3,968.43</td><td>$3,868.99</td><td>$3,928.38</td><td>$18,674,691,198</td><td style=\"text-align: right;\">$461,261,434,464</td></tr><tr><td style=\"text-align: left;\">Sep 05, 2021</td><td>$3,886.33</td><td>$3,979.19</td><td>$3,838.49</td><td>$3,952.13</td><td>$18,371,468,576</td><td style=\"text-align: right;\">$463,997,267,858</td></tr><tr><td style=\"text-align: left;\">Sep 04, 2021</td><td>$3,937.91</td><td>$3,969.45</td><td>$3,837.93</td><td>$3,887.83</td><td>$20,806,963,328</td><td style=\"text-align: right;\">$456,394,981,337</td></tr><tr><td style=\"text-align: left;\">Sep 03, 2021</td><td>$3,787.49</td><td>$4,022.47</td><td>$3,712.68</td><td>$3,940.61</td><td>$26,207,765,094</td><td style=\"text-align: right;\">$462,538,485,147</td></tr><tr><td style=\"text-align: left;\">Sep 02, 2021</td><td>$3,825.03</td><td>$3,830.71</td><td>$3,726.75</td><td>$3,790.99</td><td>$24,387,397,330</td><td style=\"text-align: right;\">$444,924,932,307</td></tr><tr><td style=\"text-align: left;\">Sep 01, 2021</td><td>$3,430.76</td><td>$3,836.87</td><td>$3,387.41</td><td>$3,834.83</td><td>$30,070,890,104</td><td style=\"text-align: right;\">$450,017,458,312</td></tr><tr><td style=\"text-align: left;\">Aug 31, 2021</td><td>$3,227.76</td><td>$3,466.99</td><td>$3,195.22</td><td>$3,433.73</td><td>$27,280,502,987</td><td style=\"text-align: right;\">$402,902,770,210</td></tr><tr><td style=\"text-align: left;\">Aug 30, 2021</td><td>$3,227.19</td><td>$3,346.58</td><td>$3,151.44</td><td>$3,224.37</td><td>$19,306,924,485</td><td style=\"text-align: right;\">$378,293,803,192</td></tr><tr><td style=\"text-align: left;\">Aug 29, 2021</td><td>$3,246.77</td><td>$3,283.24</td><td>$3,158.84</td><td>$3,227.00</td><td>$13,296,586,731</td><td style=\"text-align: right;\">$378,558,550,046</td></tr><tr><td style=\"text-align: left;\">Aug 28, 2021</td><td>$3,275.10</td><td>$3,284.85</td><td>$3,217.40</td><td>$3,244.40</td><td>$13,709,633,698</td><td style=\"text-align: right;\">$380,556,000,846</td></tr><tr><td style=\"text-align: left;\">Aug 27, 2021</td><td>$3,096.41</td><td>$3,281.84</td><td>$3,064.49</td><td>$3,270.60</td><td>$18,489,602,004</td><td style=\"text-align: right;\">$383,584,756,115</td></tr><tr><td style=\"text-align: left;\">Aug 26, 2021</td><td>$3,228.75</td><td>$3,249.66</td><td>$3,060.23</td><td>$3,100.33</td><td>$17,405,668,117</td><td style=\"text-align: right;\">$363,573,005,236</td></tr><tr><td style=\"text-align: left;\">Aug 25, 2021</td><td>$3,174.27</td><td>$3,248.73</td><td>$3,086.11</td><td>$3,224.92</td><td>$18,902,728,235</td><td style=\"text-align: right;\">$378,139,623,273</td></tr><tr><td style=\"text-align: left;\">Aug 24, 2021</td><td>$3,324.86</td><td>$3,358.69</td><td>$3,154.12</td><td>$3,172.46</td><td>$20,131,028,906</td><td style=\"text-align: right;\">$371,945,926,397</td></tr><tr><td style=\"text-align: left;\">Aug 23, 2021</td><td>$3,241.36</td><td>$3,373.38</td><td>$3,235.85</td><td>$3,319.26</td><td>$20,511,110,509</td><td style=\"text-align: right;\">$389,112,198,985</td></tr><tr><td style=\"text-align: left;\">Aug 22, 2021</td><td>$3,226.23</td><td>$3,272.73</td><td>$3,142.01</td><td>$3,242.12</td><td>$15,983,278,460</td><td style=\"text-align: right;\">$380,025,418,317</td></tr></tbody>\n"
          ]
        }
      ]
    },
    {
      "cell_type": "code",
      "source": [
        "#getting the first column of the first row \n",
        "print(aa.find('tbody').find_all('td')[0].prettify())\n",
        "\n",
        "#getting the second column of the first row \n",
        "print(aa.find('tbody').find_all('td')[1].prettify())\n",
        "\n",
        "for col in range(7):\n",
        "    print(aa.find('tbody').find_all('td')[col].prettify())"
      ],
      "metadata": {
        "colab": {
          "base_uri": "https://localhost:8080/"
        },
        "id": "glkdbJHRRsH9",
        "outputId": "f858532f-f1ef-4638-c694-9586b4edc83a"
      },
      "execution_count": null,
      "outputs": [
        {
          "output_type": "stream",
          "name": "stdout",
          "text": [
            "<td style=\"text-align: left;\">\n",
            " Apr 21, 2022\n",
            "</td>\n",
            "\n",
            "<td>\n",
            " $3,077.83\n",
            "</td>\n",
            "\n",
            "<td style=\"text-align: left;\">\n",
            " Apr 21, 2022\n",
            "</td>\n",
            "\n",
            "<td>\n",
            " $3,077.83\n",
            "</td>\n",
            "\n",
            "<td>\n",
            " $3,173.45\n",
            "</td>\n",
            "\n",
            "<td>\n",
            " $2,962.41\n",
            "</td>\n",
            "\n",
            "<td>\n",
            " $2,987.48\n",
            "</td>\n",
            "\n",
            "<td>\n",
            " $20,783,591,093\n",
            "</td>\n",
            "\n",
            "<td style=\"text-align: right;\">\n",
            " $359,913,941,107\n",
            "</td>\n"
          ]
        }
      ]
    },
    {
      "cell_type": "code",
      "source": [
        "# print the first 3 rows\n",
        "for row in range(3):\n",
        "    for col in range(5):\n",
        "        print([col][row])\n",
        "        print(aa.find('tbody').find_all('td')[row*7+col].text.strip())\n",
        "    print()"
      ],
      "metadata": {
        "colab": {
          "base_uri": "https://localhost:8080/",
          "height": 436
        },
        "id": "lS1IsjbWRsKU",
        "outputId": "6ec05c9d-fa5f-446e-f0da-7ad2918f8792"
      },
      "execution_count": null,
      "outputs": [
        {
          "output_type": "stream",
          "name": "stdout",
          "text": [
            "0\n",
            "Apr 21, 2022\n",
            "1\n",
            "$3,077.83\n",
            "2\n",
            "$3,173.45\n",
            "3\n",
            "$2,962.41\n",
            "4\n",
            "$2,987.48\n",
            "\n"
          ]
        },
        {
          "output_type": "error",
          "ename": "IndexError",
          "evalue": "ignored",
          "traceback": [
            "\u001b[0;31m---------------------------------------------------------------------------\u001b[0m",
            "\u001b[0;31mIndexError\u001b[0m                                Traceback (most recent call last)",
            "\u001b[0;32m<ipython-input-12-6188b9ef3241>\u001b[0m in \u001b[0;36m<module>\u001b[0;34m()\u001b[0m\n\u001b[1;32m      2\u001b[0m \u001b[0;32mfor\u001b[0m \u001b[0mrow\u001b[0m \u001b[0;32min\u001b[0m \u001b[0mrange\u001b[0m\u001b[0;34m(\u001b[0m\u001b[0;36m3\u001b[0m\u001b[0;34m)\u001b[0m\u001b[0;34m:\u001b[0m\u001b[0;34m\u001b[0m\u001b[0;34m\u001b[0m\u001b[0m\n\u001b[1;32m      3\u001b[0m     \u001b[0;32mfor\u001b[0m \u001b[0mcol\u001b[0m \u001b[0;32min\u001b[0m \u001b[0mrange\u001b[0m\u001b[0;34m(\u001b[0m\u001b[0;36m5\u001b[0m\u001b[0;34m)\u001b[0m\u001b[0;34m:\u001b[0m\u001b[0;34m\u001b[0m\u001b[0;34m\u001b[0m\u001b[0m\n\u001b[0;32m----> 4\u001b[0;31m         \u001b[0mprint\u001b[0m\u001b[0;34m(\u001b[0m\u001b[0;34m[\u001b[0m\u001b[0mcol\u001b[0m\u001b[0;34m]\u001b[0m\u001b[0;34m[\u001b[0m\u001b[0mrow\u001b[0m\u001b[0;34m]\u001b[0m\u001b[0;34m)\u001b[0m\u001b[0;34m\u001b[0m\u001b[0;34m\u001b[0m\u001b[0m\n\u001b[0m\u001b[1;32m      5\u001b[0m         \u001b[0mprint\u001b[0m\u001b[0;34m(\u001b[0m\u001b[0maa\u001b[0m\u001b[0;34m.\u001b[0m\u001b[0mfind\u001b[0m\u001b[0;34m(\u001b[0m\u001b[0;34m'tbody'\u001b[0m\u001b[0;34m)\u001b[0m\u001b[0;34m.\u001b[0m\u001b[0mfind_all\u001b[0m\u001b[0;34m(\u001b[0m\u001b[0;34m'td'\u001b[0m\u001b[0;34m)\u001b[0m\u001b[0;34m[\u001b[0m\u001b[0mrow\u001b[0m\u001b[0;34m*\u001b[0m\u001b[0;36m7\u001b[0m\u001b[0;34m+\u001b[0m\u001b[0mcol\u001b[0m\u001b[0;34m]\u001b[0m\u001b[0;34m.\u001b[0m\u001b[0mtext\u001b[0m\u001b[0;34m.\u001b[0m\u001b[0mstrip\u001b[0m\u001b[0;34m(\u001b[0m\u001b[0;34m)\u001b[0m\u001b[0;34m)\u001b[0m\u001b[0;34m\u001b[0m\u001b[0;34m\u001b[0m\u001b[0m\n\u001b[1;32m      6\u001b[0m     \u001b[0mprint\u001b[0m\u001b[0;34m(\u001b[0m\u001b[0;34m)\u001b[0m\u001b[0;34m\u001b[0m\u001b[0;34m\u001b[0m\u001b[0m\n",
            "\u001b[0;31mIndexError\u001b[0m: list index out of range"
          ]
        }
      ]
    },
    {
      "cell_type": "code",
      "source": [
        "#printing the first 3 rows \n",
        "import csv \n",
        "crypto = \"/content/drive/MyDrive/DMT/Project/CryptoDataset.csv\"\n",
        "for row in range(100):\n",
        "    col1 = 0 \n",
        "    col2 = 0 \n",
        "    col3 = 0 \n",
        "    col4 = 0\n",
        "    col5 = 0\n",
        "    \n",
        "    for col in range(5):\n",
        "        if col == 0:\n",
        "            col1 = aa.find('tbody').find_all('td')[row*7+col].text.strip()\n",
        "        if col == 1:\n",
        "            col2 = aa.find('tbody').find_all('td')[row*7+col].text.strip()\n",
        "        if col == 2:\n",
        "            col3 = aa.find('tbody').find_all('td')[row*7+col].text.strip()\n",
        "        if col == 3:\n",
        "            col4 = aa.find('tbody').find_all('td')[row*7+col].text.strip()\n",
        "        if col == 4:\n",
        "            col5 = aa.find('tbody').find_all('td')[row*7+col].text.strip()\n",
        "            \n",
        "    with open(crypto, 'a', newline = '') as file:\n",
        "        writer = csv.writer(file)\n",
        "        writer.writerow([row, \"Etherium\", col1, col2, col3, col4, col5])\n",
        "#     print(row, col, soup.find('tbody').find_all('td')[row*7+col].text.strip())\n",
        "#     print()"
      ],
      "metadata": {
        "id": "x9_fIpmmRsNP"
      },
      "execution_count": null,
      "outputs": []
    },
    {
      "cell_type": "code",
      "source": [
        ""
      ],
      "metadata": {
        "id": "7tWfU24URsPy"
      },
      "execution_count": null,
      "outputs": []
    },
    {
      "cell_type": "code",
      "source": [
        ""
      ],
      "metadata": {
        "id": "wv9iHN_BSnjA"
      },
      "execution_count": null,
      "outputs": []
    },
    {
      "cell_type": "code",
      "source": [
        "HTMLFileToBeOpened = open(\"/content/drive/MyDrive/DMT/Project/Bitcoin.html\", \"r\")"
      ],
      "metadata": {
        "id": "HzDpIoxpRsS6"
      },
      "execution_count": null,
      "outputs": []
    },
    {
      "cell_type": "code",
      "source": [
        "mainpage = HTMLFileToBeOpened.read()\n",
        "soup = BeautifulSoup(mainpage, 'lxml')"
      ],
      "metadata": {
        "id": "dBLhOWuNSV6m"
      },
      "execution_count": null,
      "outputs": []
    },
    {
      "cell_type": "code",
      "source": [
        "ab = soup.find('div', {\"class\" : 'b4d71h-2 hgYnhQ'})"
      ],
      "metadata": {
        "id": "scf-_m5lScKV"
      },
      "execution_count": null,
      "outputs": []
    },
    {
      "cell_type": "code",
      "source": [
        "print(ab.find('tbody'))"
      ],
      "metadata": {
        "colab": {
          "base_uri": "https://localhost:8080/"
        },
        "id": "W03gT-I0ScNP",
        "outputId": "ea97129c-64d3-4950-d224-3e064205a3e2"
      },
      "execution_count": null,
      "outputs": [
        {
          "output_type": "stream",
          "name": "stdout",
          "text": [
            "<tbody><tr><td style=\"text-align: left;\">Apr 21, 2022</td><td>$41,371.52</td><td>$42,893.58</td><td>$40,063.83</td><td>$40,527.36</td><td>$35,372,786,395</td><td style=\"text-align: right;\">$770,762,297,843</td></tr><tr><td style=\"text-align: left;\">Apr 20, 2022</td><td>$41,501.74</td><td>$42,126.30</td><td>$40,961.10</td><td>$41,374.38</td><td>$27,819,532,341</td><td style=\"text-align: right;\">$786,828,424,699</td></tr><tr><td style=\"text-align: left;\">Apr 19, 2022</td><td>$40,828.17</td><td>$41,672.96</td><td>$40,618.63</td><td>$41,502.75</td><td>$25,303,206,547</td><td style=\"text-align: right;\">$789,227,424,713</td></tr><tr><td style=\"text-align: left;\">Apr 18, 2022</td><td>$39,721.20</td><td>$40,986.32</td><td>$38,696.19</td><td>$40,826.21</td><td>$33,705,182,072</td><td style=\"text-align: right;\">$776,330,593,866</td></tr><tr><td style=\"text-align: left;\">Apr 17, 2022</td><td>$40,417.78</td><td>$40,570.73</td><td>$39,620.89</td><td>$39,716.95</td><td>$19,087,633,042</td><td style=\"text-align: right;\">$755,201,997,823</td></tr><tr><td style=\"text-align: left;\">Apr 16, 2022</td><td>$40,552.32</td><td>$40,633.68</td><td>$40,078.43</td><td>$40,424.48</td><td>$16,833,150,693</td><td style=\"text-align: right;\">$768,615,440,640</td></tr><tr><td style=\"text-align: left;\">Apr 15, 2022</td><td>$39,939.40</td><td>$40,617.72</td><td>$39,866.83</td><td>$40,553.46</td><td>$21,756,855,753</td><td style=\"text-align: right;\">$771,033,872,659</td></tr><tr><td style=\"text-align: left;\">Apr 14, 2022</td><td>$41,160.22</td><td>$41,451.48</td><td>$39,695.74</td><td>$39,935.52</td><td>$24,342,001,973</td><td style=\"text-align: right;\">$759,245,303,311</td></tr><tr><td style=\"text-align: left;\">Apr 13, 2022</td><td>$40,123.57</td><td>$41,430.05</td><td>$39,712.75</td><td>$41,166.73</td><td>$27,691,105,228</td><td style=\"text-align: right;\">$782,617,115,810</td></tr><tr><td style=\"text-align: left;\">Apr 12, 2022</td><td>$39,533.71</td><td>$40,617.59</td><td>$39,388.33</td><td>$40,127.18</td><td>$30,991,500,854</td><td style=\"text-align: right;\">$762,819,737,794</td></tr><tr><td style=\"text-align: left;\">Apr 11, 2022</td><td>$42,201.04</td><td>$42,424.59</td><td>$39,373.06</td><td>$39,521.90</td><td>$33,949,912,166</td><td style=\"text-align: right;\">$751,274,786,459</td></tr><tr><td style=\"text-align: left;\">Apr 10, 2022</td><td>$42,781.09</td><td>$43,376.38</td><td>$42,021.21</td><td>$42,207.67</td><td>$17,654,475,582</td><td style=\"text-align: right;\">$802,293,412,897</td></tr><tr><td style=\"text-align: left;\">Apr 09, 2022</td><td>$42,282.08</td><td>$42,786.82</td><td>$42,183.25</td><td>$42,782.14</td><td>$16,050,772,496</td><td style=\"text-align: right;\">$813,175,789,802</td></tr><tr><td style=\"text-align: left;\">Apr 08, 2022</td><td>$43,505.14</td><td>$43,903.02</td><td>$42,183.29</td><td>$42,287.66</td><td>$27,215,995,394</td><td style=\"text-align: right;\">$803,736,501,494</td></tr><tr><td style=\"text-align: left;\">Apr 07, 2022</td><td>$43,207.50</td><td>$43,860.70</td><td>$42,899.91</td><td>$43,503.85</td><td>$26,101,973,106</td><td style=\"text-align: right;\">$826,814,841,543</td></tr><tr><td style=\"text-align: left;\">Apr 06, 2022</td><td>$45,544.36</td><td>$45,544.36</td><td>$43,193.95</td><td>$43,206.74</td><td>$39,393,395,788</td><td style=\"text-align: right;\">$821,131,605,927</td></tr><tr><td style=\"text-align: left;\">Apr 05, 2022</td><td>$46,624.51</td><td>$47,106.14</td><td>$45,544.81</td><td>$45,555.99</td><td>$29,640,604,055</td><td style=\"text-align: right;\">$865,734,982,991</td></tr><tr><td style=\"text-align: left;\">Apr 04, 2022</td><td>$46,445.27</td><td>$46,791.09</td><td>$45,235.82</td><td>$46,622.67</td><td>$32,499,785,455</td><td style=\"text-align: right;\">$885,964,854,050</td></tr><tr><td style=\"text-align: left;\">Apr 03, 2022</td><td>$45,859.13</td><td>$47,313.48</td><td>$45,634.10</td><td>$46,453.57</td><td>$25,414,397,610</td><td style=\"text-align: right;\">$882,703,992,271</td></tr><tr><td style=\"text-align: left;\">Apr 02, 2022</td><td>$46,285.50</td><td>$47,028.28</td><td>$45,782.51</td><td>$45,868.95</td><td>$29,336,594,194</td><td style=\"text-align: right;\">$871,556,728,553</td></tr><tr><td style=\"text-align: left;\">Apr 01, 2022</td><td>$45,554.16</td><td>$46,616.24</td><td>$44,403.14</td><td>$46,281.64</td><td>$38,162,644,287</td><td style=\"text-align: right;\">$879,359,612,625</td></tr><tr><td style=\"text-align: left;\">Mar 31, 2022</td><td>$47,062.15</td><td>$47,512.03</td><td>$45,390.54</td><td>$45,538.68</td><td>$33,327,427,106</td><td style=\"text-align: right;\">$865,202,119,216</td></tr><tr><td style=\"text-align: left;\">Mar 30, 2022</td><td>$47,456.90</td><td>$47,655.15</td><td>$46,746.21</td><td>$47,062.66</td><td>$29,333,883,962</td><td style=\"text-align: right;\">$894,116,777,852</td></tr><tr><td style=\"text-align: left;\">Mar 29, 2022</td><td>$47,100.44</td><td>$48,022.29</td><td>$47,100.44</td><td>$47,465.73</td><td>$31,397,059,069</td><td style=\"text-align: right;\">$901,733,146,417</td></tr><tr><td style=\"text-align: left;\">Mar 28, 2022</td><td>$46,821.85</td><td>$48,086.84</td><td>$46,690.20</td><td>$47,128.01</td><td>$36,362,175,703</td><td style=\"text-align: right;\">$895,273,041,065</td></tr><tr><td style=\"text-align: left;\">Mar 27, 2022</td><td>$44,505.36</td><td>$46,827.55</td><td>$44,437.29</td><td>$46,820.49</td><td>$28,160,889,722</td><td style=\"text-align: right;\">$889,385,706,663</td></tr><tr><td style=\"text-align: left;\">Mar 26, 2022</td><td>$44,349.86</td><td>$44,736.00</td><td>$44,166.28</td><td>$44,500.83</td><td>$16,950,455,995</td><td style=\"text-align: right;\">$845,283,757,076</td></tr><tr><td style=\"text-align: left;\">Mar 25, 2022</td><td>$43,964.55</td><td>$44,999.49</td><td>$43,706.29</td><td>$44,348.73</td><td>$30,574,413,034</td><td style=\"text-align: right;\">$842,351,457,245</td></tr><tr><td style=\"text-align: left;\">Mar 24, 2022</td><td>$42,886.65</td><td>$44,131.85</td><td>$42,726.16</td><td>$43,960.93</td><td>$31,042,992,291</td><td style=\"text-align: right;\">$834,943,671,214</td></tr><tr><td style=\"text-align: left;\">Mar 23, 2022</td><td>$42,364.38</td><td>$42,893.51</td><td>$41,877.51</td><td>$42,892.96</td><td>$25,242,943,069</td><td style=\"text-align: right;\">$814,620,088,889</td></tr><tr><td style=\"text-align: left;\">Mar 22, 2022</td><td>$41,074.10</td><td>$43,124.71</td><td>$40,948.28</td><td>$42,358.81</td><td>$32,004,652,376</td><td style=\"text-align: right;\">$804,437,952,236</td></tr><tr><td style=\"text-align: left;\">Mar 21, 2022</td><td>$41,246.13</td><td>$41,454.41</td><td>$40,668.04</td><td>$41,078.00</td><td>$24,615,543,271</td><td style=\"text-align: right;\">$780,074,755,650</td></tr><tr><td style=\"text-align: left;\">Mar 20, 2022</td><td>$42,191.41</td><td>$42,241.16</td><td>$41,004.76</td><td>$41,247.82</td><td>$20,127,946,682</td><td style=\"text-align: right;\">$783,260,570,384</td></tr><tr><td style=\"text-align: left;\">Mar 19, 2022</td><td>$41,794.65</td><td>$42,316.55</td><td>$41,602.67</td><td>$42,190.65</td><td>$19,664,853,187</td><td style=\"text-align: right;\">$801,124,017,583</td></tr><tr><td style=\"text-align: left;\">Mar 18, 2022</td><td>$40,944.84</td><td>$42,195.74</td><td>$40,302.40</td><td>$41,801.15</td><td>$34,421,564,942</td><td style=\"text-align: right;\">$793,688,176,484</td></tr><tr><td style=\"text-align: left;\">Mar 17, 2022</td><td>$41,140.84</td><td>$41,287.54</td><td>$40,662.87</td><td>$40,951.38</td><td>$22,009,601,093</td><td style=\"text-align: right;\">$777,515,183,730</td></tr><tr><td style=\"text-align: left;\">Mar 16, 2022</td><td>$39,335.57</td><td>$41,465.45</td><td>$39,022.35</td><td>$41,143.93</td><td>$39,616,916,192</td><td style=\"text-align: right;\">$781,131,586,213</td></tr><tr><td style=\"text-align: left;\">Mar 15, 2022</td><td>$39,664.25</td><td>$39,794.63</td><td>$38,310.21</td><td>$39,338.79</td><td>$23,934,000,868</td><td style=\"text-align: right;\">$746,821,744,421</td></tr><tr><td style=\"text-align: left;\">Mar 14, 2022</td><td>$37,846.32</td><td>$39,742.50</td><td>$37,680.73</td><td>$39,666.76</td><td>$24,322,159,070</td><td style=\"text-align: right;\">$753,013,859,090</td></tr><tr><td style=\"text-align: left;\">Mar 13, 2022</td><td>$38,884.72</td><td>$39,209.35</td><td>$37,728.14</td><td>$37,849.66</td><td>$17,300,745,310</td><td style=\"text-align: right;\">$718,481,905,386</td></tr><tr><td style=\"text-align: left;\">Mar 12, 2022</td><td>$38,794.46</td><td>$39,308.60</td><td>$38,772.54</td><td>$38,904.01</td><td>$14,616,450,657</td><td style=\"text-align: right;\">$738,459,914,964</td></tr><tr><td style=\"text-align: left;\">Mar 11, 2022</td><td>$39,439.97</td><td>$40,081.68</td><td>$38,347.43</td><td>$38,794.97</td><td>$26,364,890,465</td><td style=\"text-align: right;\">$736,353,069,777</td></tr><tr><td style=\"text-align: left;\">Mar 10, 2022</td><td>$41,974.07</td><td>$42,004.73</td><td>$38,832.94</td><td>$39,437.46</td><td>$31,078,064,711</td><td style=\"text-align: right;\">$748,513,363,763</td></tr><tr><td style=\"text-align: left;\">Mar 09, 2022</td><td>$38,742.82</td><td>$42,465.67</td><td>$38,706.09</td><td>$41,982.93</td><td>$32,284,121,034</td><td style=\"text-align: right;\">$796,787,661,849</td></tr><tr><td style=\"text-align: left;\">Mar 08, 2022</td><td>$38,059.90</td><td>$39,304.44</td><td>$37,957.39</td><td>$38,737.27</td><td>$25,776,583,476</td><td style=\"text-align: right;\">$735,156,346,355</td></tr><tr><td style=\"text-align: left;\">Mar 07, 2022</td><td>$38,429.30</td><td>$39,430.23</td><td>$37,260.20</td><td>$38,062.04</td><td>$28,546,143,503</td><td style=\"text-align: right;\">$722,305,696,828</td></tr><tr><td style=\"text-align: left;\">Mar 06, 2022</td><td>$39,404.20</td><td>$39,640.18</td><td>$38,211.65</td><td>$38,419.98</td><td>$19,745,229,902</td><td style=\"text-align: right;\">$729,062,407,067</td></tr><tr><td style=\"text-align: left;\">Mar 05, 2022</td><td>$39,148.45</td><td>$39,566.34</td><td>$38,777.04</td><td>$39,400.58</td><td>$16,975,917,450</td><td style=\"text-align: right;\">$747,638,613,405</td></tr><tr><td style=\"text-align: left;\">Mar 04, 2022</td><td>$42,458.14</td><td>$42,479.61</td><td>$38,805.85</td><td>$39,137.60</td><td>$28,516,271,427</td><td style=\"text-align: right;\">$742,617,908,335</td></tr><tr><td style=\"text-align: left;\">Mar 03, 2022</td><td>$43,925.20</td><td>$44,021.58</td><td>$41,914.75</td><td>$42,451.79</td><td>$24,967,782,593</td><td style=\"text-align: right;\">$805,466,458,785</td></tr><tr><td style=\"text-align: left;\">Mar 02, 2022</td><td>$44,357.62</td><td>$45,077.58</td><td>$43,432.85</td><td>$43,924.12</td><td>$29,183,112,630</td><td style=\"text-align: right;\">$833,361,543,695</td></tr><tr><td style=\"text-align: left;\">Mar 01, 2022</td><td>$43,194.50</td><td>$44,793.60</td><td>$42,952.58</td><td>$44,354.64</td><td>$32,479,047,645</td><td style=\"text-align: right;\">$841,491,170,716</td></tr><tr><td style=\"text-align: left;\">Feb 28, 2022</td><td>$37,706.00</td><td>$43,760.46</td><td>$37,518.21</td><td>$43,193.23</td><td>$35,690,014,104</td><td style=\"text-align: right;\">$819,414,782,676</td></tr><tr><td style=\"text-align: left;\">Feb 27, 2022</td><td>$39,098.70</td><td>$39,778.94</td><td>$37,268.98</td><td>$37,709.78</td><td>$23,450,127,612</td><td style=\"text-align: right;\">$715,351,995,828</td></tr><tr><td style=\"text-align: left;\">Feb 26, 2022</td><td>$39,213.08</td><td>$40,005.35</td><td>$38,702.53</td><td>$39,105.15</td><td>$17,467,554,129</td><td style=\"text-align: right;\">$741,789,694,059</td></tr><tr><td style=\"text-align: left;\">Feb 25, 2022</td><td>$38,333.75</td><td>$39,630.32</td><td>$38,111.34</td><td>$39,214.22</td><td>$26,545,599,159</td><td style=\"text-align: right;\">$743,827,806,938</td></tr><tr><td style=\"text-align: left;\">Feb 24, 2022</td><td>$37,278.57</td><td>$38,968.84</td><td>$34,459.22</td><td>$38,332.61</td><td>$46,383,802,093</td><td style=\"text-align: right;\">$727,072,550,320</td></tr><tr><td style=\"text-align: left;\">Feb 23, 2022</td><td>$38,285.28</td><td>$39,122.39</td><td>$37,201.82</td><td>$37,296.57</td><td>$21,849,073,843</td><td style=\"text-align: right;\">$707,390,766,255</td></tr><tr><td style=\"text-align: left;\">Feb 22, 2022</td><td>$37,068.77</td><td>$38,359.85</td><td>$36,488.93</td><td>$38,286.03</td><td>$25,493,150,450</td><td style=\"text-align: right;\">$726,121,533,658</td></tr><tr><td style=\"text-align: left;\">Feb 21, 2022</td><td>$38,423.21</td><td>$39,394.44</td><td>$36,950.48</td><td>$37,075.28</td><td>$29,280,402,798</td><td style=\"text-align: right;\">$703,124,071,472</td></tr><tr><td style=\"text-align: left;\">Feb 20, 2022</td><td>$40,118.10</td><td>$40,119.89</td><td>$38,112.81</td><td>$38,431.38</td><td>$18,340,576,452</td><td style=\"text-align: right;\">$728,812,385,562</td></tr><tr><td style=\"text-align: left;\">Feb 19, 2022</td><td>$40,026.02</td><td>$40,418.88</td><td>$39,713.06</td><td>$40,122.15</td><td>$13,736,557,863</td><td style=\"text-align: right;\">$760,839,429,984</td></tr><tr><td style=\"text-align: left;\">Feb 18, 2022</td><td>$40,552.13</td><td>$40,929.15</td><td>$39,637.62</td><td>$40,030.98</td><td>$23,310,007,704</td><td style=\"text-align: right;\">$759,074,084,514</td></tr><tr><td style=\"text-align: left;\">Feb 17, 2022</td><td>$43,937.07</td><td>$44,132.97</td><td>$40,249.37</td><td>$40,538.01</td><td>$26,246,662,813</td><td style=\"text-align: right;\">$768,654,436,207</td></tr><tr><td style=\"text-align: left;\">Feb 16, 2022</td><td>$44,578.28</td><td>$44,578.28</td><td>$43,456.69</td><td>$43,961.86</td><td>$19,792,547,657</td><td style=\"text-align: right;\">$833,531,932,920</td></tr><tr><td style=\"text-align: left;\">Feb 15, 2022</td><td>$42,586.46</td><td>$44,667.22</td><td>$42,491.03</td><td>$44,575.20</td><td>$22,721,659,051</td><td style=\"text-align: right;\">$845,117,683,687</td></tr><tr><td style=\"text-align: left;\">Feb 14, 2022</td><td>$42,157.40</td><td>$42,775.78</td><td>$41,681.96</td><td>$42,586.92</td><td>$20,827,783,012</td><td style=\"text-align: right;\">$807,375,855,006</td></tr><tr><td style=\"text-align: left;\">Feb 13, 2022</td><td>$42,236.57</td><td>$42,693.05</td><td>$41,950.94</td><td>$42,197.52</td><td>$14,741,589,015</td><td style=\"text-align: right;\">$799,950,408,997</td></tr><tr><td style=\"text-align: left;\">Feb 12, 2022</td><td>$42,412.30</td><td>$42,992.55</td><td>$41,852.57</td><td>$42,244.47</td><td>$18,152,390,304</td><td style=\"text-align: right;\">$800,797,790,301</td></tr><tr><td style=\"text-align: left;\">Feb 11, 2022</td><td>$43,571.13</td><td>$43,810.83</td><td>$42,114.54</td><td>$42,407.94</td><td>$26,954,925,781</td><td style=\"text-align: right;\">$803,848,273,503</td></tr><tr><td style=\"text-align: left;\">Feb 10, 2022</td><td>$44,347.80</td><td>$45,661.17</td><td>$43,402.81</td><td>$43,565.11</td><td>$32,142,048,537</td><td style=\"text-align: right;\">$825,745,116,530</td></tr><tr><td style=\"text-align: left;\">Feb 09, 2022</td><td>$44,096.70</td><td>$44,727.80</td><td>$43,232.97</td><td>$44,338.80</td><td>$23,245,887,300</td><td style=\"text-align: right;\">$840,369,284,541</td></tr><tr><td style=\"text-align: left;\">Feb 08, 2022</td><td>$43,854.65</td><td>$45,293.87</td><td>$42,807.84</td><td>$44,118.45</td><td>$33,079,398,868</td><td style=\"text-align: right;\">$836,154,543,908</td></tr><tr><td style=\"text-align: left;\">Feb 07, 2022</td><td>$42,406.78</td><td>$44,401.86</td><td>$41,748.16</td><td>$43,840.29</td><td>$28,641,855,926</td><td style=\"text-align: right;\">$830,838,884,165</td></tr><tr><td style=\"text-align: left;\">Feb 06, 2022</td><td>$41,441.12</td><td>$42,500.79</td><td>$41,244.91</td><td>$42,412.43</td><td>$16,142,097,334</td><td style=\"text-align: right;\">$803,744,511,638</td></tr><tr><td style=\"text-align: left;\">Feb 05, 2022</td><td>$41,501.48</td><td>$41,847.16</td><td>$41,038.10</td><td>$41,441.16</td><td>$19,652,846,215</td><td style=\"text-align: right;\">$785,297,889,648</td></tr><tr><td style=\"text-align: left;\">Feb 04, 2022</td><td>$37,149.26</td><td>$41,527.79</td><td>$37,093.63</td><td>$41,500.88</td><td>$29,412,210,792</td><td style=\"text-align: right;\">$786,396,684,548</td></tr><tr><td style=\"text-align: left;\">Feb 03, 2022</td><td>$36,944.81</td><td>$37,154.60</td><td>$36,375.54</td><td>$37,154.60</td><td>$18,591,534,769</td><td style=\"text-align: right;\">$704,010,232,687</td></tr><tr><td style=\"text-align: left;\">Feb 02, 2022</td><td>$38,743.71</td><td>$38,834.62</td><td>$36,832.73</td><td>$36,952.98</td><td>$19,155,189,416</td><td style=\"text-align: right;\">$700,155,817,836</td></tr><tr><td style=\"text-align: left;\">Feb 01, 2022</td><td>$38,481.77</td><td>$39,115.13</td><td>$38,113.66</td><td>$38,743.27</td><td>$20,288,500,328</td><td style=\"text-align: right;\">$734,039,224,255</td></tr><tr><td style=\"text-align: left;\">Jan 31, 2022</td><td>$37,920.28</td><td>$38,647.26</td><td>$36,733.57</td><td>$38,483.13</td><td>$20,734,730,465</td><td style=\"text-align: right;\">$729,073,641,688</td></tr><tr><td style=\"text-align: left;\">Jan 30, 2022</td><td>$38,151.92</td><td>$38,266.34</td><td>$37,437.71</td><td>$37,917.60</td><td>$14,643,548,444</td><td style=\"text-align: right;\">$718,325,967,803</td></tr><tr><td style=\"text-align: left;\">Jan 29, 2022</td><td>$37,780.71</td><td>$38,576.26</td><td>$37,406.47</td><td>$38,138.18</td><td>$17,194,183,075</td><td style=\"text-align: right;\">$722,469,136,410</td></tr><tr><td style=\"text-align: left;\">Jan 28, 2022</td><td>$37,128.44</td><td>$37,952.88</td><td>$36,211.11</td><td>$37,784.33</td><td>$22,238,830,523</td><td style=\"text-align: right;\">$715,731,622,071</td></tr><tr><td style=\"text-align: left;\">Jan 27, 2022</td><td>$36,841.88</td><td>$37,148.32</td><td>$35,629.28</td><td>$37,138.23</td><td>$25,041,426,629</td><td style=\"text-align: right;\">$703,456,873,493</td></tr><tr><td style=\"text-align: left;\">Jan 26, 2022</td><td>$36,950.51</td><td>$38,825.41</td><td>$36,374.91</td><td>$36,852.12</td><td>$31,324,598,034</td><td style=\"text-align: right;\">$698,006,361,956</td></tr><tr><td style=\"text-align: left;\">Jan 25, 2022</td><td>$36,654.81</td><td>$37,444.57</td><td>$35,779.43</td><td>$36,954.00</td><td>$26,428,189,594</td><td style=\"text-align: right;\">$699,907,393,886</td></tr><tr><td style=\"text-align: left;\">Jan 24, 2022</td><td>$36,275.73</td><td>$37,247.52</td><td>$33,184.06</td><td>$36,654.33</td><td>$41,856,658,597</td><td style=\"text-align: right;\">$694,196,560,317</td></tr><tr><td style=\"text-align: left;\">Jan 23, 2022</td><td>$35,047.36</td><td>$36,433.31</td><td>$34,784.97</td><td>$36,276.80</td><td>$26,017,975,951</td><td style=\"text-align: right;\">$687,012,848,062</td></tr><tr><td style=\"text-align: left;\">Jan 22, 2022</td><td>$36,471.59</td><td>$36,688.81</td><td>$34,349.25</td><td>$35,030.25</td><td>$39,714,385,405</td><td style=\"text-align: right;\">$663,374,008,017</td></tr><tr><td style=\"text-align: left;\">Jan 21, 2022</td><td>$40,699.61</td><td>$41,060.53</td><td>$35,791.43</td><td>$36,457.32</td><td>$43,011,992,031</td><td style=\"text-align: right;\">$690,368,973,093</td></tr><tr><td style=\"text-align: left;\">Jan 20, 2022</td><td>$41,744.03</td><td>$43,413.02</td><td>$40,672.82</td><td>$40,680.42</td><td>$20,382,033,940</td><td style=\"text-align: right;\">$770,304,579,439</td></tr><tr><td style=\"text-align: left;\">Jan 19, 2022</td><td>$42,374.04</td><td>$42,478.30</td><td>$41,242.91</td><td>$41,744.33</td><td>$23,091,543,258</td><td style=\"text-align: right;\">$790,406,427,118</td></tr><tr><td style=\"text-align: left;\">Jan 18, 2022</td><td>$42,250.07</td><td>$42,534.40</td><td>$41,392.22</td><td>$42,375.63</td><td>$22,417,209,227</td><td style=\"text-align: right;\">$802,313,747,480</td></tr><tr><td style=\"text-align: left;\">Jan 17, 2022</td><td>$43,118.12</td><td>$43,179.39</td><td>$41,680.32</td><td>$42,250.55</td><td>$21,690,904,261</td><td style=\"text-align: right;\">$799,910,089,279</td></tr><tr><td style=\"text-align: left;\">Jan 16, 2022</td><td>$43,172.04</td><td>$43,436.81</td><td>$42,691.02</td><td>$43,113.88</td><td>$17,902,097,845</td><td style=\"text-align: right;\">$816,211,499,221</td></tr><tr><td style=\"text-align: left;\">Jan 15, 2022</td><td>$43,101.90</td><td>$43,724.67</td><td>$42,669.04</td><td>$43,177.40</td><td>$18,371,348,298</td><td style=\"text-align: right;\">$817,364,571,824</td></tr><tr><td style=\"text-align: left;\">Jan 14, 2022</td><td>$42,598.87</td><td>$43,346.69</td><td>$41,982.62</td><td>$43,099.70</td><td>$23,577,403,399</td><td style=\"text-align: right;\">$815,850,639,036</td></tr><tr><td style=\"text-align: left;\">Jan 13, 2022</td><td>$43,946.74</td><td>$44,278.42</td><td>$42,447.04</td><td>$42,591.57</td><td>$47,691,135,082</td><td style=\"text-align: right;\">$806,189,762,638</td></tr><tr><td style=\"text-align: left;\">Jan 12, 2022</td><td>$42,742.18</td><td>$44,135.37</td><td>$42,528.99</td><td>$43,949.10</td><td>$33,499,938,689</td><td style=\"text-align: right;\">$831,836,978,396</td></tr><tr><td style=\"text-align: left;\">Jan 11, 2022</td><td>$41,819.51</td><td>$43,001.16</td><td>$41,407.75</td><td>$42,735.85</td><td>$26,327,648,900</td><td style=\"text-align: right;\">$808,834,801,011</td></tr><tr><td style=\"text-align: left;\">Jan 10, 2022</td><td>$41,910.23</td><td>$42,199.49</td><td>$39,796.57</td><td>$41,821.26</td><td>$32,104,232,331</td><td style=\"text-align: right;\">$791,484,886,194</td></tr><tr><td style=\"text-align: left;\">Jan 09, 2022</td><td>$41,734.73</td><td>$42,663.95</td><td>$41,338.16</td><td>$41,911.60</td><td>$21,294,384,372</td><td style=\"text-align: right;\">$793,156,354,744</td></tr><tr><td style=\"text-align: left;\">Jan 08, 2022</td><td>$41,561.47</td><td>$42,228.94</td><td>$40,672.28</td><td>$41,733.94</td><td>$28,066,355,845</td><td style=\"text-align: right;\">$789,758,782,727</td></tr><tr><td style=\"text-align: left;\">Jan 07, 2022</td><td>$43,153.57</td><td>$43,153.57</td><td>$41,077.45</td><td>$41,557.90</td><td>$84,196,607,520</td><td style=\"text-align: right;\">$786,389,774,194</td></tr><tr><td style=\"text-align: left;\">Jan 06, 2022</td><td>$43,565.51</td><td>$43,748.72</td><td>$42,645.54</td><td>$43,160.93</td><td>$30,208,048,289</td><td style=\"text-align: right;\">$816,685,390,313</td></tr><tr><td style=\"text-align: left;\">Jan 05, 2022</td><td>$45,899.36</td><td>$46,929.05</td><td>$42,798.22</td><td>$43,569.00</td><td>$36,851,084,859</td><td style=\"text-align: right;\">$824,368,284,530</td></tr><tr><td style=\"text-align: left;\">Jan 04, 2022</td><td>$46,458.85</td><td>$47,406.55</td><td>$45,752.46</td><td>$45,897.58</td><td>$42,494,677,905</td><td style=\"text-align: right;\">$868,383,282,082</td></tr><tr><td style=\"text-align: left;\">Jan 03, 2022</td><td>$47,343.54</td><td>$47,510.73</td><td>$45,835.96</td><td>$46,458.12</td><td>$33,071,628,362</td><td style=\"text-align: right;\">$878,946,596,803</td></tr><tr><td style=\"text-align: left;\">Jan 02, 2022</td><td>$47,680.93</td><td>$47,881.41</td><td>$46,856.94</td><td>$47,345.22</td><td>$27,951,569,547</td><td style=\"text-align: right;\">$895,688,387,523</td></tr><tr><td style=\"text-align: left;\">Jan 01, 2022</td><td>$46,311.74</td><td>$47,827.31</td><td>$46,288.49</td><td>$47,686.81</td><td>$24,582,667,004</td><td style=\"text-align: right;\">$902,104,193,385</td></tr><tr><td style=\"text-align: left;\">Dec 31, 2021</td><td>$47,169.37</td><td>$48,472.53</td><td>$45,819.95</td><td>$46,306.45</td><td>$36,974,172,400</td><td style=\"text-align: right;\">$875,939,356,679</td></tr><tr><td style=\"text-align: left;\">Dec 30, 2021</td><td>$46,490.61</td><td>$47,879.97</td><td>$46,060.31</td><td>$47,178.13</td><td>$26,686,491,018</td><td style=\"text-align: right;\">$892,386,327,929</td></tr><tr><td style=\"text-align: left;\">Dec 29, 2021</td><td>$47,623.87</td><td>$48,119.74</td><td>$46,201.49</td><td>$46,444.71</td><td>$30,049,226,299</td><td style=\"text-align: right;\">$878,478,755,242</td></tr><tr><td style=\"text-align: left;\">Dec 28, 2021</td><td>$50,679.86</td><td>$50,679.86</td><td>$47,414.21</td><td>$47,588.85</td><td>$33,430,376,883</td><td style=\"text-align: right;\">$900,076,230,597</td></tr><tr><td style=\"text-align: left;\">Dec 27, 2021</td><td>$50,802.61</td><td>$51,956.33</td><td>$50,499.47</td><td>$50,640.42</td><td>$24,324,345,758</td><td style=\"text-align: right;\">$957,746,390,396</td></tr><tr><td style=\"text-align: left;\">Dec 26, 2021</td><td>$50,428.69</td><td>$51,196.38</td><td>$49,623.10</td><td>$50,809.52</td><td>$20,964,372,926</td><td style=\"text-align: right;\">$960,899,995,735</td></tr><tr><td style=\"text-align: left;\">Dec 25, 2021</td><td>$50,854.92</td><td>$51,176.60</td><td>$50,236.71</td><td>$50,429.86</td><td>$19,030,650,914</td><td style=\"text-align: right;\">$953,678,082,633</td></tr><tr><td style=\"text-align: left;\">Dec 24, 2021</td><td>$50,806.05</td><td>$51,814.03</td><td>$50,514.49</td><td>$50,822.20</td><td>$24,367,912,228</td><td style=\"text-align: right;\">$961,051,547,919</td></tr><tr><td style=\"text-align: left;\">Dec 23, 2021</td><td>$48,626.34</td><td>$51,332.34</td><td>$48,065.84</td><td>$50,784.54</td><td>$28,223,878,108</td><td style=\"text-align: right;\">$960,290,825,000</td></tr><tr><td style=\"text-align: left;\">Dec 22, 2021</td><td>$48,937.10</td><td>$49,544.80</td><td>$48,450.94</td><td>$48,628.51</td><td>$24,447,979,559</td><td style=\"text-align: right;\">$919,476,035,254</td></tr><tr><td style=\"text-align: left;\">Dec 21, 2021</td><td>$46,886.08</td><td>$49,300.92</td><td>$46,698.77</td><td>$48,936.61</td><td>$27,055,803,928</td><td style=\"text-align: right;\">$925,255,868,119</td></tr><tr><td style=\"text-align: left;\">Dec 20, 2021</td><td>$46,707.06</td><td>$47,401.72</td><td>$45,579.81</td><td>$46,880.28</td><td>$30,961,902,129</td><td style=\"text-align: right;\">$886,331,446,165</td></tr><tr><td style=\"text-align: left;\">Dec 19, 2021</td><td>$46,853.87</td><td>$48,089.66</td><td>$46,502.95</td><td>$46,707.01</td><td>$25,154,053,861</td><td style=\"text-align: right;\">$883,011,296,030</td></tr><tr><td style=\"text-align: left;\">Dec 18, 2021</td><td>$46,219.26</td><td>$47,313.83</td><td>$45,598.44</td><td>$46,848.78</td><td>$26,098,292,690</td><td style=\"text-align: right;\">$885,650,029,984</td></tr><tr><td style=\"text-align: left;\">Dec 17, 2021</td><td>$47,653.73</td><td>$48,004.89</td><td>$45,618.22</td><td>$46,202.14</td><td>$32,902,725,329</td><td style=\"text-align: right;\">$873,389,147,689</td></tr><tr><td style=\"text-align: left;\">Dec 16, 2021</td><td>$48,900.46</td><td>$49,425.57</td><td>$47,529.88</td><td>$47,665.43</td><td>$27,268,150,947</td><td style=\"text-align: right;\">$901,005,821,508</td></tr><tr><td style=\"text-align: left;\">Dec 15, 2021</td><td>$48,379.75</td><td>$49,473.96</td><td>$46,671.97</td><td>$48,896.72</td><td>$36,541,828,520</td><td style=\"text-align: right;\">$924,244,252,417</td></tr><tr><td style=\"text-align: left;\">Dec 14, 2021</td><td>$46,709.82</td><td>$48,431.40</td><td>$46,424.50</td><td>$46,612.63</td><td>$34,638,619,079</td><td style=\"text-align: right;\">$881,018,067,731</td></tr><tr><td style=\"text-align: left;\">Dec 13, 2021</td><td>$50,114.74</td><td>$50,205.00</td><td>$45,894.85</td><td>$46,737.48</td><td>$32,166,727,776</td><td style=\"text-align: right;\">$883,345,705,454</td></tr><tr><td style=\"text-align: left;\">Dec 12, 2021</td><td>$49,354.85</td><td>$50,724.87</td><td>$48,725.85</td><td>$50,098.34</td><td>$21,939,223,599</td><td style=\"text-align: right;\">$946,823,114,555</td></tr><tr><td style=\"text-align: left;\">Dec 11, 2021</td><td>$47,264.63</td><td>$49,458.21</td><td>$46,942.35</td><td>$49,362.51</td><td>$25,775,869,261</td><td style=\"text-align: right;\">$932,873,019,896</td></tr><tr><td style=\"text-align: left;\">Dec 10, 2021</td><td>$47,642.14</td><td>$50,015.25</td><td>$47,023.70</td><td>$47,243.31</td><td>$30,966,005,122</td><td style=\"text-align: right;\">$892,777,676,312</td></tr><tr><td style=\"text-align: left;\">Dec 09, 2021</td><td>$50,450.08</td><td>$50,797.17</td><td>$47,358.35</td><td>$47,672.12</td><td>$29,603,577,251</td><td style=\"text-align: right;\">$900,835,068,960</td></tr><tr><td style=\"text-align: left;\">Dec 08, 2021</td><td>$50,667.65</td><td>$51,171.38</td><td>$48,765.99</td><td>$50,504.80</td><td>$28,479,699,446</td><td style=\"text-align: right;\">$954,312,404,511</td></tr><tr><td style=\"text-align: left;\">Dec 07, 2021</td><td>$50,581.83</td><td>$51,934.78</td><td>$50,175.81</td><td>$50,700.08</td><td>$33,676,814,852</td><td style=\"text-align: right;\">$957,948,940,989</td></tr><tr><td style=\"text-align: left;\">Dec 06, 2021</td><td>$49,413.48</td><td>$50,929.52</td><td>$47,281.04</td><td>$50,582.63</td><td>$37,707,308,001</td><td style=\"text-align: right;\">$955,680,910,792</td></tr><tr><td style=\"text-align: left;\">Dec 05, 2021</td><td>$49,201.52</td><td>$49,768.15</td><td>$47,857.50</td><td>$49,368.85</td><td>$37,198,201,161</td><td style=\"text-align: right;\">$932,695,365,142</td></tr><tr><td style=\"text-align: left;\">Dec 04, 2021</td><td>$53,727.88</td><td>$53,904.68</td><td>$42,874.62</td><td>$49,200.70</td><td>$61,385,677,469</td><td style=\"text-align: right;\">$929,467,386,770</td></tr><tr><td style=\"text-align: left;\">Dec 03, 2021</td><td>$56,509.17</td><td>$57,482.17</td><td>$52,496.59</td><td>$53,598.25</td><td>$39,789,134,215</td><td style=\"text-align: right;\">$1,012,490,599,979</td></tr><tr><td style=\"text-align: left;\">Dec 02, 2021</td><td>$57,217.37</td><td>$57,349.23</td><td>$55,895.13</td><td>$56,477.82</td><td>$32,379,968,686</td><td style=\"text-align: right;\">$1,066,829,261,574</td></tr><tr><td style=\"text-align: left;\">Dec 01, 2021</td><td>$56,907.97</td><td>$59,041.69</td><td>$56,553.08</td><td>$57,229.83</td><td>$36,858,195,307</td><td style=\"text-align: right;\">$1,080,977,744,339</td></tr><tr><td style=\"text-align: left;\">Nov 30, 2021</td><td>$57,830.11</td><td>$59,113.40</td><td>$56,057.28</td><td>$57,005.43</td><td>$36,708,594,618</td><td style=\"text-align: right;\">$1,076,689,232,562</td></tr><tr><td style=\"text-align: left;\">Nov 29, 2021</td><td>$57,291.90</td><td>$58,872.88</td><td>$56,792.53</td><td>$57,806.57</td><td>$32,370,840,356</td><td style=\"text-align: right;\">$1,091,773,828,974</td></tr><tr><td style=\"text-align: left;\">Nov 28, 2021</td><td>$54,813.02</td><td>$57,393.84</td><td>$53,576.74</td><td>$57,248.46</td><td>$28,116,886,357</td><td style=\"text-align: right;\">$1,081,180,416,262</td></tr><tr><td style=\"text-align: left;\">Nov 27, 2021</td><td>$53,736.43</td><td>$55,329.26</td><td>$53,668.36</td><td>$54,815.08</td><td>$30,560,857,714</td><td style=\"text-align: right;\">$1,035,176,249,679</td></tr><tr><td style=\"text-align: left;\">Nov 26, 2021</td><td>$58,960.29</td><td>$59,183.48</td><td>$53,569.76</td><td>$53,569.76</td><td>$41,810,748,221</td><td style=\"text-align: right;\">$1,011,613,083,342</td></tr><tr><td style=\"text-align: left;\">Nov 25, 2021</td><td>$57,165.42</td><td>$59,367.97</td><td>$57,146.69</td><td>$57,274.68</td><td>$34,284,016,248</td><td style=\"text-align: right;\">$1,081,500,188,674</td></tr><tr><td style=\"text-align: left;\">Nov 24, 2021</td><td>$57,565.85</td><td>$57,803.07</td><td>$55,964.22</td><td>$56,280.43</td><td>$36,635,566,789</td><td style=\"text-align: right;\">$1,062,661,698,465</td></tr><tr><td style=\"text-align: left;\">Nov 23, 2021</td><td>$56,304.56</td><td>$57,875.52</td><td>$55,632.76</td><td>$57,569.07</td><td>$37,485,803,899</td><td style=\"text-align: right;\">$1,086,985,075,773</td></tr><tr><td style=\"text-align: left;\">Nov 22, 2021</td><td>$58,706.85</td><td>$59,266.36</td><td>$55,679.84</td><td>$56,289.29</td><td>$35,036,121,783</td><td style=\"text-align: right;\">$1,062,772,703,759</td></tr><tr><td style=\"text-align: left;\">Nov 21, 2021</td><td>$59,730.51</td><td>$60,004.43</td><td>$58,618.93</td><td>$58,730.48</td><td>$26,123,447,605</td><td style=\"text-align: right;\">$1,108,812,311,533</td></tr><tr><td style=\"text-align: left;\">Nov 20, 2021</td><td>$58,115.08</td><td>$59,859.88</td><td>$57,469.73</td><td>$59,697.20</td><td>$30,624,264,863</td><td style=\"text-align: right;\">$1,127,014,430,118</td></tr><tr><td style=\"text-align: left;\">Nov 19, 2021</td><td>$56,896.13</td><td>$58,351.11</td><td>$55,705.18</td><td>$58,119.58</td><td>$38,702,407,772</td><td style=\"text-align: right;\">$1,097,177,697,853</td></tr><tr><td style=\"text-align: left;\">Nov 18, 2021</td><td>$60,360.14</td><td>$60,948.50</td><td>$56,550.79</td><td>$56,942.14</td><td>$41,388,338,699</td><td style=\"text-align: right;\">$1,074,900,976,539</td></tr><tr><td style=\"text-align: left;\">Nov 17, 2021</td><td>$60,139.62</td><td>$60,823.61</td><td>$58,515.41</td><td>$60,368.01</td><td>$39,178,392,930</td><td style=\"text-align: right;\">$1,139,519,389,072</td></tr><tr><td style=\"text-align: left;\">Nov 16, 2021</td><td>$63,721.20</td><td>$63,721.20</td><td>$59,016.34</td><td>$60,161.25</td><td>$46,844,335,592</td><td style=\"text-align: right;\">$1,135,559,300,073</td></tr><tr><td style=\"text-align: left;\">Nov 15, 2021</td><td>$65,521.29</td><td>$66,281.57</td><td>$63,548.14</td><td>$63,557.87</td><td>$30,558,763,548</td><td style=\"text-align: right;\">$1,199,611,097,094</td></tr><tr><td style=\"text-align: left;\">Nov 14, 2021</td><td>$64,455.37</td><td>$65,495.18</td><td>$63,647.81</td><td>$65,466.84</td><td>$25,122,092,191</td><td style=\"text-align: right;\">$1,235,578,996,842</td></tr><tr><td style=\"text-align: left;\">Nov 13, 2021</td><td>$64,158.12</td><td>$64,915.67</td><td>$63,303.73</td><td>$64,469.53</td><td>$30,474,228,777</td><td style=\"text-align: right;\">$1,216,695,126,358</td></tr><tr><td style=\"text-align: left;\">Nov 12, 2021</td><td>$64,863.98</td><td>$65,460.81</td><td>$62,333.91</td><td>$64,155.94</td><td>$36,084,893,887</td><td style=\"text-align: right;\">$1,210,715,199,478</td></tr><tr><td style=\"text-align: left;\">Nov 11, 2021</td><td>$64,978.89</td><td>$65,579.01</td><td>$64,180.49</td><td>$64,949.96</td><td>$35,880,633,236</td><td style=\"text-align: right;\">$1,225,643,127,560</td></tr><tr><td style=\"text-align: left;\">Nov 10, 2021</td><td>$66,953.34</td><td>$68,789.63</td><td>$63,208.11</td><td>$64,995.23</td><td>$48,730,828,378</td><td style=\"text-align: right;\">$1,226,431,510,693</td></tr><tr><td style=\"text-align: left;\">Nov 09, 2021</td><td>$67,549.74</td><td>$68,530.34</td><td>$66,382.06</td><td>$66,971.83</td><td>$42,357,991,721</td><td style=\"text-align: right;\">$1,263,667,113,597</td></tr><tr><td style=\"text-align: left;\">Nov 08, 2021</td><td>$63,344.07</td><td>$67,673.74</td><td>$63,344.07</td><td>$67,566.83</td><td>$41,125,608,330</td><td style=\"text-align: right;\">$1,274,831,490,851</td></tr><tr><td style=\"text-align: left;\">Nov 07, 2021</td><td>$61,554.92</td><td>$63,326.99</td><td>$61,432.49</td><td>$63,326.99</td><td>$24,726,754,302</td><td style=\"text-align: right;\">$1,194,778,776,481</td></tr><tr><td style=\"text-align: left;\">Nov 06, 2021</td><td>$61,068.87</td><td>$61,590.68</td><td>$60,163.78</td><td>$61,527.48</td><td>$29,094,934,221</td><td style=\"text-align: right;\">$1,160,769,349,887</td></tr><tr><td style=\"text-align: left;\">Nov 05, 2021</td><td>$61,460.08</td><td>$62,541.47</td><td>$60,844.61</td><td>$61,125.67</td><td>$30,605,102,446</td><td style=\"text-align: right;\">$1,153,128,571,128</td></tr><tr><td style=\"text-align: left;\">Nov 04, 2021</td><td>$62,941.80</td><td>$63,123.29</td><td>$60,799.66</td><td>$61,452.23</td><td>$32,615,846,901</td><td style=\"text-align: right;\">$1,159,231,375,022</td></tr><tr><td style=\"text-align: left;\">Nov 03, 2021</td><td>$63,254.33</td><td>$63,516.94</td><td>$61,184.24</td><td>$62,970.05</td><td>$36,124,731,509</td><td style=\"text-align: right;\">$1,187,808,286,560</td></tr><tr><td style=\"text-align: left;\">Nov 02, 2021</td><td>$60,963.25</td><td>$64,242.79</td><td>$60,673.06</td><td>$63,226.40</td><td>$37,746,665,647</td><td style=\"text-align: right;\">$1,192,577,136,210</td></tr><tr><td style=\"text-align: left;\">Nov 01, 2021</td><td>$61,320.45</td><td>$62,419.00</td><td>$59,695.18</td><td>$61,004.41</td><td>$36,150,572,843</td><td style=\"text-align: right;\">$1,150,606,762,880</td></tr><tr><td style=\"text-align: left;\">Oct 31, 2021</td><td>$61,850.49</td><td>$62,406.17</td><td>$60,074.33</td><td>$61,318.96</td><td>$32,241,199,927</td><td style=\"text-align: right;\">$1,156,485,845,063</td></tr><tr><td style=\"text-align: left;\">Oct 30, 2021</td><td>$62,239.36</td><td>$62,330.15</td><td>$60,918.39</td><td>$61,888.83</td><td>$32,157,938,616</td><td style=\"text-align: right;\">$1,167,178,054,167</td></tr><tr><td style=\"text-align: left;\">Oct 29, 2021</td><td>$60,624.87</td><td>$62,927.61</td><td>$60,329.97</td><td>$62,227.96</td><td>$36,856,881,767</td><td style=\"text-align: right;\">$1,173,512,442,368</td></tr><tr><td style=\"text-align: left;\">Oct 28, 2021</td><td>$58,470.73</td><td>$62,128.63</td><td>$58,206.92</td><td>$60,622.14</td><td>$45,257,083,247</td><td style=\"text-align: right;\">$1,143,165,999,365</td></tr><tr><td style=\"text-align: left;\">Oct 27, 2021</td><td>$60,352.00</td><td>$61,435.18</td><td>$58,208.19</td><td>$58,482.39</td><td>$43,657,076,893</td><td style=\"text-align: right;\">$1,102,757,767,323</td></tr><tr><td style=\"text-align: left;\">Oct 26, 2021</td><td>$63,032.76</td><td>$63,229.03</td><td>$59,991.16</td><td>$60,363.79</td><td>$34,878,965,587</td><td style=\"text-align: right;\">$1,138,177,770,430</td></tr><tr><td style=\"text-align: left;\">Oct 25, 2021</td><td>$60,893.93</td><td>$63,729.33</td><td>$60,691.80</td><td>$63,039.83</td><td>$31,064,911,614</td><td style=\"text-align: right;\">$1,188,575,312,422</td></tr><tr><td style=\"text-align: left;\">Oct 24, 2021</td><td>$61,368.34</td><td>$61,505.80</td><td>$59,643.35</td><td>$60,930.84</td><td>$27,316,183,882</td><td style=\"text-align: right;\">$1,148,743,134,468</td></tr><tr><td style=\"text-align: left;\">Oct 23, 2021</td><td>$60,694.63</td><td>$61,743.88</td><td>$59,826.52</td><td>$61,393.62</td><td>$26,882,546,034</td><td style=\"text-align: right;\">$1,157,410,091,263</td></tr><tr><td style=\"text-align: left;\">Oct 22, 2021</td><td>$62,237.89</td><td>$63,715.02</td><td>$60,122.80</td><td>$60,692.26</td><td>$38,434,082,775</td><td style=\"text-align: right;\">$1,144,131,483,274</td></tr><tr><td style=\"text-align: left;\">Oct 21, 2021</td><td>$66,002.23</td><td>$66,600.55</td><td>$62,117.41</td><td>$62,210.17</td><td>$45,908,121,370</td><td style=\"text-align: right;\">$1,172,684,282,558</td></tr><tr><td style=\"text-align: left;\">Oct 20, 2021</td><td>$64,284.59</td><td>$66,930.39</td><td>$63,610.67</td><td>$65,992.84</td><td>$40,788,955,582</td><td style=\"text-align: right;\">$1,243,927,428,207</td></tr><tr><td style=\"text-align: left;\">Oct 19, 2021</td><td>$62,043.17</td><td>$64,434.53</td><td>$61,622.93</td><td>$64,261.99</td><td>$40,471,196,346</td><td style=\"text-align: right;\">$1,211,242,526,571</td></tr><tr><td style=\"text-align: left;\">Oct 18, 2021</td><td>$61,548.80</td><td>$62,614.66</td><td>$60,012.76</td><td>$62,026.08</td><td>$38,055,562,075</td><td style=\"text-align: right;\">$1,169,039,169,043</td></tr><tr><td style=\"text-align: left;\">Oct 17, 2021</td><td>$60,887.65</td><td>$61,645.52</td><td>$59,164.47</td><td>$61,553.62</td><td>$29,032,367,511</td><td style=\"text-align: right;\">$1,160,077,513,368</td></tr><tr><td style=\"text-align: left;\">Oct 16, 2021</td><td>$61,609.53</td><td>$62,274.48</td><td>$60,206.12</td><td>$60,892.18</td><td>$34,250,964,237</td><td style=\"text-align: right;\">$1,147,551,202,767</td></tr><tr><td style=\"text-align: left;\">Oct 15, 2021</td><td>$57,345.90</td><td>$62,757.13</td><td>$56,868.14</td><td>$61,593.95</td><td>$51,780,081,801</td><td style=\"text-align: right;\">$1,160,726,409,230</td></tr><tr><td style=\"text-align: left;\">Oct 14, 2021</td><td>$57,372.83</td><td>$58,478.74</td><td>$56,957.08</td><td>$57,321.53</td><td>$36,615,791,366</td><td style=\"text-align: right;\">$1,080,160,001,108</td></tr><tr><td style=\"text-align: left;\">Oct 13, 2021</td><td>$56,038.26</td><td>$57,688.66</td><td>$54,370.97</td><td>$57,401.10</td><td>$41,684,252,783</td><td style=\"text-align: right;\">$1,081,611,750,762</td></tr><tr><td style=\"text-align: left;\">Oct 12, 2021</td><td>$57,526.83</td><td>$57,627.88</td><td>$54,477.97</td><td>$56,041.06</td><td>$41,083,758,949</td><td style=\"text-align: right;\">$1,055,926,265,435</td></tr><tr><td style=\"text-align: left;\">Oct 11, 2021</td><td>$54,734.12</td><td>$57,793.04</td><td>$54,519.77</td><td>$57,484.79</td><td>$42,637,331,698</td><td style=\"text-align: right;\">$1,083,079,138,639</td></tr><tr><td style=\"text-align: left;\">Oct 10, 2021</td><td>$54,952.82</td><td>$56,401.30</td><td>$54,264.26</td><td>$54,771.58</td><td>$39,527,792,364</td><td style=\"text-align: right;\">$1,031,909,532,688</td></tr><tr><td style=\"text-align: left;\">Oct 09, 2021</td><td>$53,929.78</td><td>$55,397.94</td><td>$53,735.14</td><td>$54,968.22</td><td>$32,491,211,414</td><td style=\"text-align: right;\">$1,035,558,748,272</td></tr><tr><td style=\"text-align: left;\">Oct 08, 2021</td><td>$53,802.15</td><td>$55,922.98</td><td>$53,688.06</td><td>$53,967.85</td><td>$34,800,873,924</td><td style=\"text-align: right;\">$1,016,664,484,566</td></tr><tr><td style=\"text-align: left;\">Oct 07, 2021</td><td>$55,338.62</td><td>$55,338.62</td><td>$53,525.47</td><td>$53,805.99</td><td>$36,807,860,413</td><td style=\"text-align: right;\">$1,013,573,258,668</td></tr><tr><td style=\"text-align: left;\">Oct 06, 2021</td><td>$51,486.67</td><td>$55,568.46</td><td>$50,488.19</td><td>$55,361.45</td><td>$49,034,730,168</td><td style=\"text-align: right;\">$1,042,827,678,808</td></tr><tr><td style=\"text-align: left;\">Oct 05, 2021</td><td>$49,174.96</td><td>$51,839.99</td><td>$49,072.84</td><td>$51,514.81</td><td>$35,873,904,236</td><td style=\"text-align: right;\">$970,325,310,417</td></tr><tr><td style=\"text-align: left;\">Oct 04, 2021</td><td>$48,208.91</td><td>$49,456.78</td><td>$47,045.00</td><td>$49,112.90</td><td>$33,383,173,002</td><td style=\"text-align: right;\">$925,033,195,574</td></tr><tr><td style=\"text-align: left;\">Oct 03, 2021</td><td>$47,680.03</td><td>$49,130.69</td><td>$47,157.29</td><td>$48,199.95</td><td>$26,638,115,879</td><td style=\"text-align: right;\">$907,791,525,236</td></tr><tr><td style=\"text-align: left;\">Oct 02, 2021</td><td>$48,137.47</td><td>$48,282.06</td><td>$47,465.50</td><td>$47,711.49</td><td>$30,614,346,492</td><td style=\"text-align: right;\">$898,547,418,743</td></tr><tr><td style=\"text-align: left;\">Oct 01, 2021</td><td>$43,816.74</td><td>$48,436.01</td><td>$43,320.02</td><td>$48,116.94</td><td>$42,850,641,582</td><td style=\"text-align: right;\">$906,127,699,408</td></tr><tr><td style=\"text-align: left;\">Sep 30, 2021</td><td>$41,551.27</td><td>$44,092.60</td><td>$41,444.58</td><td>$43,790.90</td><td>$31,141,681,925</td><td style=\"text-align: right;\">$824,619,217,608</td></tr><tr><td style=\"text-align: left;\">Sep 29, 2021</td><td>$41,064.98</td><td>$42,545.26</td><td>$40,829.67</td><td>$41,564.36</td><td>$30,602,359,905</td><td style=\"text-align: right;\">$782,651,228,474</td></tr><tr><td style=\"text-align: left;\">Sep 28, 2021</td><td>$42,200.90</td><td>$42,775.15</td><td>$40,931.66</td><td>$41,034.54</td><td>$30,214,940,550</td><td style=\"text-align: right;\">$772,639,687,709</td></tr><tr><td style=\"text-align: left;\">Sep 27, 2021</td><td>$43,234.18</td><td>$44,313.25</td><td>$42,190.63</td><td>$42,235.73</td><td>$30,980,029,059</td><td style=\"text-align: right;\">$795,216,175,345</td></tr><tr><td style=\"text-align: left;\">Sep 26, 2021</td><td>$42,721.63</td><td>$43,919.30</td><td>$40,848.46</td><td>$43,208.54</td><td>$30,661,222,077</td><td style=\"text-align: right;\">$813,490,665,613</td></tr><tr><td style=\"text-align: left;\">Sep 25, 2021</td><td>$42,840.89</td><td>$42,996.26</td><td>$41,759.92</td><td>$42,716.59</td><td>$31,604,717,236</td><td style=\"text-align: right;\">$804,192,450,113</td></tr><tr><td style=\"text-align: left;\">Sep 24, 2021</td><td>$44,894.30</td><td>$45,080.49</td><td>$40,936.56</td><td>$42,839.75</td><td>$42,839,345,714</td><td style=\"text-align: right;\">$806,470,363,647</td></tr><tr><td style=\"text-align: left;\">Sep 23, 2021</td><td>$43,560.30</td><td>$44,942.17</td><td>$43,109.34</td><td>$44,895.10</td><td>$34,244,064,430</td><td style=\"text-align: right;\">$845,122,403,460</td></tr><tr><td style=\"text-align: left;\">Sep 22, 2021</td><td>$40,677.95</td><td>$43,978.62</td><td>$40,625.63</td><td>$43,574.51</td><td>$38,139,709,246</td><td style=\"text-align: right;\">$820,218,503,579</td></tr></tbody>\n"
          ]
        }
      ]
    },
    {
      "cell_type": "code",
      "source": [
        "#getting the first column of the first row \n",
        "print(ab.find('tbody').find_all('td')[0].prettify())\n",
        "\n",
        "#getting the second column of the first row \n",
        "print(ab.find('tbody').find_all('td')[1].prettify())\n",
        "\n",
        "for col in range(7):\n",
        "    print(ab.find('tbody').find_all('td')[col].prettify())"
      ],
      "metadata": {
        "colab": {
          "base_uri": "https://localhost:8080/"
        },
        "id": "E9IBWwpyScQD",
        "outputId": "a7b10d82-8401-46a6-e764-4f1e0d7a0363"
      },
      "execution_count": null,
      "outputs": [
        {
          "output_type": "stream",
          "name": "stdout",
          "text": [
            "<td style=\"text-align: left;\">\n",
            " Apr 21, 2022\n",
            "</td>\n",
            "\n",
            "<td>\n",
            " $41,371.52\n",
            "</td>\n",
            "\n",
            "<td style=\"text-align: left;\">\n",
            " Apr 21, 2022\n",
            "</td>\n",
            "\n",
            "<td>\n",
            " $41,371.52\n",
            "</td>\n",
            "\n",
            "<td>\n",
            " $42,893.58\n",
            "</td>\n",
            "\n",
            "<td>\n",
            " $40,063.83\n",
            "</td>\n",
            "\n",
            "<td>\n",
            " $40,527.36\n",
            "</td>\n",
            "\n",
            "<td>\n",
            " $35,372,786,395\n",
            "</td>\n",
            "\n",
            "<td style=\"text-align: right;\">\n",
            " $770,762,297,843\n",
            "</td>\n"
          ]
        }
      ]
    },
    {
      "cell_type": "code",
      "source": [
        "# print the first 3 rows\n",
        "for row in range(3):\n",
        "    for col in range(5):\n",
        "        print([col][row])\n",
        "        print(ab.find('tbody').find_all('td')[row*7+col].text.strip())\n",
        "    print()"
      ],
      "metadata": {
        "colab": {
          "base_uri": "https://localhost:8080/",
          "height": 436
        },
        "id": "6BAbBG0jScS7",
        "outputId": "e643e86f-bd7c-4cf4-d16a-4c72599f2b05"
      },
      "execution_count": null,
      "outputs": [
        {
          "output_type": "stream",
          "name": "stdout",
          "text": [
            "0\n",
            "Apr 21, 2022\n",
            "1\n",
            "$41,371.52\n",
            "2\n",
            "$42,893.58\n",
            "3\n",
            "$40,063.83\n",
            "4\n",
            "$40,527.36\n",
            "\n"
          ]
        },
        {
          "output_type": "error",
          "ename": "IndexError",
          "evalue": "ignored",
          "traceback": [
            "\u001b[0;31m---------------------------------------------------------------------------\u001b[0m",
            "\u001b[0;31mIndexError\u001b[0m                                Traceback (most recent call last)",
            "\u001b[0;32m<ipython-input-24-550be238aa28>\u001b[0m in \u001b[0;36m<module>\u001b[0;34m()\u001b[0m\n\u001b[1;32m      2\u001b[0m \u001b[0;32mfor\u001b[0m \u001b[0mrow\u001b[0m \u001b[0;32min\u001b[0m \u001b[0mrange\u001b[0m\u001b[0;34m(\u001b[0m\u001b[0;36m3\u001b[0m\u001b[0;34m)\u001b[0m\u001b[0;34m:\u001b[0m\u001b[0;34m\u001b[0m\u001b[0;34m\u001b[0m\u001b[0m\n\u001b[1;32m      3\u001b[0m     \u001b[0;32mfor\u001b[0m \u001b[0mcol\u001b[0m \u001b[0;32min\u001b[0m \u001b[0mrange\u001b[0m\u001b[0;34m(\u001b[0m\u001b[0;36m5\u001b[0m\u001b[0;34m)\u001b[0m\u001b[0;34m:\u001b[0m\u001b[0;34m\u001b[0m\u001b[0;34m\u001b[0m\u001b[0m\n\u001b[0;32m----> 4\u001b[0;31m         \u001b[0mprint\u001b[0m\u001b[0;34m(\u001b[0m\u001b[0;34m[\u001b[0m\u001b[0mcol\u001b[0m\u001b[0;34m]\u001b[0m\u001b[0;34m[\u001b[0m\u001b[0mrow\u001b[0m\u001b[0;34m]\u001b[0m\u001b[0;34m)\u001b[0m\u001b[0;34m\u001b[0m\u001b[0;34m\u001b[0m\u001b[0m\n\u001b[0m\u001b[1;32m      5\u001b[0m         \u001b[0mprint\u001b[0m\u001b[0;34m(\u001b[0m\u001b[0mab\u001b[0m\u001b[0;34m.\u001b[0m\u001b[0mfind\u001b[0m\u001b[0;34m(\u001b[0m\u001b[0;34m'tbody'\u001b[0m\u001b[0;34m)\u001b[0m\u001b[0;34m.\u001b[0m\u001b[0mfind_all\u001b[0m\u001b[0;34m(\u001b[0m\u001b[0;34m'td'\u001b[0m\u001b[0;34m)\u001b[0m\u001b[0;34m[\u001b[0m\u001b[0mrow\u001b[0m\u001b[0;34m*\u001b[0m\u001b[0;36m7\u001b[0m\u001b[0;34m+\u001b[0m\u001b[0mcol\u001b[0m\u001b[0;34m]\u001b[0m\u001b[0;34m.\u001b[0m\u001b[0mtext\u001b[0m\u001b[0;34m.\u001b[0m\u001b[0mstrip\u001b[0m\u001b[0;34m(\u001b[0m\u001b[0;34m)\u001b[0m\u001b[0;34m)\u001b[0m\u001b[0;34m\u001b[0m\u001b[0;34m\u001b[0m\u001b[0m\n\u001b[1;32m      6\u001b[0m     \u001b[0mprint\u001b[0m\u001b[0;34m(\u001b[0m\u001b[0;34m)\u001b[0m\u001b[0;34m\u001b[0m\u001b[0;34m\u001b[0m\u001b[0m\n",
            "\u001b[0;31mIndexError\u001b[0m: list index out of range"
          ]
        }
      ]
    },
    {
      "cell_type": "code",
      "source": [
        "#printing the first 3 rows \n",
        "for row in range(100):\n",
        "    col1 = 0 \n",
        "    col2 = 0 \n",
        "    col3 = 0 \n",
        "    col4 = 0\n",
        "    col5 = 0\n",
        "    \n",
        "    for col in range(5):\n",
        "        if col == 0:\n",
        "            col1 = ab.find('tbody').find_all('td')[row*7+col].text.strip()\n",
        "        if col == 1:\n",
        "            col2 = ab.find('tbody').find_all('td')[row*7+col].text.strip()\n",
        "        if col == 2:\n",
        "            col3 = ab.find('tbody').find_all('td')[row*7+col].text.strip()\n",
        "        if col == 3:\n",
        "            col4 = ab.find('tbody').find_all('td')[row*7+col].text.strip()\n",
        "        if col == 4:\n",
        "            col5 = ab.find('tbody').find_all('td')[row*7+col].text.strip()\n",
        "            \n",
        "    with open(crypto, 'a', newline = '') as file:\n",
        "        writer = csv.writer(file)\n",
        "        writer.writerow([row, \"Bitcoin\", col1, col2, col3, col4, col5])\n",
        "#     print(row, col, soup.find('tbody').find_all('td')[row*7+col].text.strip())\n",
        "#     print()"
      ],
      "metadata": {
        "id": "0nVG8KssSV9t"
      },
      "execution_count": null,
      "outputs": []
    },
    {
      "cell_type": "code",
      "source": [
        ""
      ],
      "metadata": {
        "id": "PuFSwgu6SWAC"
      },
      "execution_count": null,
      "outputs": []
    },
    {
      "cell_type": "code",
      "source": [
        ""
      ],
      "metadata": {
        "id": "oEHUgxVXSWCp"
      },
      "execution_count": null,
      "outputs": []
    },
    {
      "cell_type": "code",
      "source": [
        "HTMLFileToBeOpened = open(\"/content/drive/MyDrive/DMT/Project/BNB.html\", \"r\")"
      ],
      "metadata": {
        "id": "2WC5pMnHSowI"
      },
      "execution_count": null,
      "outputs": []
    },
    {
      "cell_type": "code",
      "source": [
        "mainpage = HTMLFileToBeOpened.read()\n",
        "soup = BeautifulSoup(mainpage, 'lxml')"
      ],
      "metadata": {
        "id": "C-0da_BiSoy7"
      },
      "execution_count": null,
      "outputs": []
    },
    {
      "cell_type": "code",
      "source": [
        "ac = soup.find('div', {\"class\" : 'b4d71h-2 hgYnhQ'})"
      ],
      "metadata": {
        "id": "v2PVAowsSo2t"
      },
      "execution_count": null,
      "outputs": []
    },
    {
      "cell_type": "code",
      "source": [
        "print(ac.find('tbody'))"
      ],
      "metadata": {
        "colab": {
          "base_uri": "https://localhost:8080/"
        },
        "id": "VzaymtMSSwn_",
        "outputId": "14abb5b2-dffb-4e6e-f37d-4e87d20ca1da"
      },
      "execution_count": null,
      "outputs": [
        {
          "output_type": "stream",
          "name": "stdout",
          "text": [
            "<tbody><tr><td style=\"text-align: left;\">Apr 21, 2022</td><td>$418.32</td><td>$425.47</td><td>$402.08</td><td>$405.02</td><td>$2,190,281,843</td><td style=\"text-align: right;\">$66,130,679,968</td></tr><tr><td style=\"text-align: left;\">Apr 20, 2022</td><td>$422.36</td><td>$430.98</td><td>$415.73</td><td>$418.35</td><td>$2,035,166,767</td><td style=\"text-align: right;\">$68,307,615,205</td></tr><tr><td style=\"text-align: left;\">Apr 19, 2022</td><td>$417.01</td><td>$424.27</td><td>$415.10</td><td>$422.39</td><td>$1,854,452,731</td><td style=\"text-align: right;\">$68,966,079,720</td></tr><tr><td style=\"text-align: left;\">Apr 18, 2022</td><td>$407.43</td><td>$417.95</td><td>$397.15</td><td>$416.97</td><td>$1,925,668,122</td><td style=\"text-align: right;\">$68,848,474,348</td></tr><tr><td style=\"text-align: left;\">Apr 17, 2022</td><td>$417.41</td><td>$417.88</td><td>$406.17</td><td>$407.38</td><td>$1,088,306,780</td><td style=\"text-align: right;\">$67,264,889,167</td></tr><tr><td style=\"text-align: left;\">Apr 16, 2022</td><td>$417.29</td><td>$418.66</td><td>$411.91</td><td>$417.48</td><td>$1,022,481,382</td><td style=\"text-align: right;\">$68,932,688,179</td></tr><tr><td style=\"text-align: left;\">Apr 15, 2022</td><td>$414.67</td><td>$419.80</td><td>$413.27</td><td>$417.29</td><td>$1,242,920,077</td><td style=\"text-align: right;\">$68,902,190,654</td></tr><tr><td style=\"text-align: left;\">Apr 14, 2022</td><td>$423.07</td><td>$426.81</td><td>$412.05</td><td>$414.66</td><td>$1,615,484,732</td><td style=\"text-align: right;\">$68,467,932,859</td></tr><tr><td style=\"text-align: left;\">Apr 13, 2022</td><td>$413.81</td><td>$424.34</td><td>$411.06</td><td>$423.13</td><td>$1,932,053,164</td><td style=\"text-align: right;\">$69,865,882,647</td></tr><tr><td style=\"text-align: left;\">Apr 12, 2022</td><td>$394.29</td><td>$416.64</td><td>$393.17</td><td>$413.87</td><td>$2,140,526,232</td><td style=\"text-align: right;\">$68,337,523,387</td></tr><tr><td style=\"text-align: left;\">Apr 11, 2022</td><td>$418.66</td><td>$419.49</td><td>$392.11</td><td>$394.09</td><td>$2,192,782,724</td><td style=\"text-align: right;\">$65,070,349,746</td></tr><tr><td style=\"text-align: left;\">Apr 10, 2022</td><td>$427.15</td><td>$429.36</td><td>$418.59</td><td>$418.59</td><td>$1,410,282,903</td><td style=\"text-align: right;\">$69,116,334,131</td></tr><tr><td style=\"text-align: left;\">Apr 09, 2022</td><td>$421.67</td><td>$428.02</td><td>$420.27</td><td>$427.15</td><td>$1,399,108,286</td><td style=\"text-align: right;\">$70,530,128,696</td></tr><tr><td style=\"text-align: left;\">Apr 08, 2022</td><td>$436.93</td><td>$440.64</td><td>$419.43</td><td>$421.68</td><td>$1,951,923,760</td><td style=\"text-align: right;\">$69,625,982,492</td></tr><tr><td style=\"text-align: left;\">Apr 07, 2022</td><td>$420.18</td><td>$438.29</td><td>$417.60</td><td>$436.80</td><td>$2,125,042,415</td><td style=\"text-align: right;\">$72,122,470,078</td></tr><tr><td style=\"text-align: left;\">Apr 06, 2022</td><td>$445.00</td><td>$445.03</td><td>$418.88</td><td>$420.15</td><td>$2,323,241,738</td><td style=\"text-align: right;\">$69,373,208,035</td></tr><tr><td style=\"text-align: left;\">Apr 05, 2022</td><td>$447.63</td><td>$459.81</td><td>$445.04</td><td>$445.17</td><td>$2,268,650,039</td><td style=\"text-align: right;\">$73,505,457,939</td></tr><tr><td style=\"text-align: left;\">Apr 04, 2022</td><td>$450.26</td><td>$450.43</td><td>$434.18</td><td>$447.52</td><td>$2,248,856,403</td><td style=\"text-align: right;\">$73,893,866,574</td></tr><tr><td style=\"text-align: left;\">Apr 03, 2022</td><td>$436.87</td><td>$455.23</td><td>$432.82</td><td>$450.35</td><td>$2,128,734,028</td><td style=\"text-align: right;\">$74,360,146,489</td></tr><tr><td style=\"text-align: left;\">Apr 02, 2022</td><td>$446.84</td><td>$453.56</td><td>$436.78</td><td>$436.96</td><td>$2,272,901,729</td><td style=\"text-align: right;\">$72,148,650,722</td></tr><tr><td style=\"text-align: left;\">Apr 01, 2022</td><td>$429.12</td><td>$446.80</td><td>$414.75</td><td>$446.60</td><td>$2,718,206,274</td><td style=\"text-align: right;\">$73,741,849,989</td></tr><tr><td style=\"text-align: left;\">Mar 31, 2022</td><td>$442.66</td><td>$451.96</td><td>$424.95</td><td>$428.92</td><td>$2,632,534,284</td><td style=\"text-align: right;\">$70,821,236,650</td></tr><tr><td style=\"text-align: left;\">Mar 30, 2022</td><td>$434.43</td><td>$448.95</td><td>$427.69</td><td>$442.68</td><td>$2,181,737,151</td><td style=\"text-align: right;\">$73,094,686,974</td></tr><tr><td style=\"text-align: left;\">Mar 29, 2022</td><td>$430.07</td><td>$441.51</td><td>$430.07</td><td>$434.51</td><td>$1,987,696,098</td><td style=\"text-align: right;\">$71,744,167,467</td></tr><tr><td style=\"text-align: left;\">Mar 28, 2022</td><td>$430.55</td><td>$440.73</td><td>$428.57</td><td>$430.39</td><td>$2,128,699,500</td><td style=\"text-align: right;\">$71,064,748,023</td></tr><tr><td style=\"text-align: left;\">Mar 27, 2022</td><td>$415.93</td><td>$431.03</td><td>$412.38</td><td>$430.50</td><td>$1,499,505,093</td><td style=\"text-align: right;\">$71,083,302,849</td></tr><tr><td style=\"text-align: left;\">Mar 26, 2022</td><td>$410.82</td><td>$416.32</td><td>$407.98</td><td>$415.92</td><td>$1,082,240,527</td><td style=\"text-align: right;\">$68,675,332,555</td></tr><tr><td style=\"text-align: left;\">Mar 25, 2022</td><td>$414.15</td><td>$421.15</td><td>$406.30</td><td>$410.81</td><td>$1,678,265,707</td><td style=\"text-align: right;\">$67,831,809,808</td></tr><tr><td style=\"text-align: left;\">Mar 24, 2022</td><td>$408.55</td><td>$416.51</td><td>$406.01</td><td>$414.13</td><td>$1,831,451,218</td><td style=\"text-align: right;\">$68,379,307,292</td></tr><tr><td style=\"text-align: left;\">Mar 23, 2022</td><td>$404.33</td><td>$411.03</td><td>$398.86</td><td>$408.61</td><td>$1,645,651,129</td><td style=\"text-align: right;\">$67,468,320,449</td></tr><tr><td style=\"text-align: left;\">Mar 22, 2022</td><td>$396.36</td><td>$409.64</td><td>$395.58</td><td>$404.31</td><td>$1,795,119,554</td><td style=\"text-align: right;\">$66,759,172,804</td></tr><tr><td style=\"text-align: left;\">Mar 21, 2022</td><td>$390.74</td><td>$398.96</td><td>$386.56</td><td>$396.45</td><td>$1,657,341,491</td><td style=\"text-align: right;\">$65,460,178,435</td></tr><tr><td style=\"text-align: left;\">Mar 20, 2022</td><td>$399.92</td><td>$400.61</td><td>$386.77</td><td>$390.77</td><td>$1,334,193,471</td><td style=\"text-align: right;\">$64,522,408,664</td></tr><tr><td style=\"text-align: left;\">Mar 19, 2022</td><td>$397.56</td><td>$406.00</td><td>$395.41</td><td>$399.85</td><td>$1,532,550,954</td><td style=\"text-align: right;\">$66,022,524,778</td></tr><tr><td style=\"text-align: left;\">Mar 18, 2022</td><td>$391.78</td><td>$399.92</td><td>$384.25</td><td>$397.65</td><td>$1,666,543,771</td><td style=\"text-align: right;\">$65,657,938,330</td></tr><tr><td style=\"text-align: left;\">Mar 17, 2022</td><td>$385.46</td><td>$392.87</td><td>$382.16</td><td>$391.82</td><td>$1,635,657,390</td><td style=\"text-align: right;\">$64,696,833,098</td></tr><tr><td style=\"text-align: left;\">Mar 16, 2022</td><td>$371.54</td><td>$386.36</td><td>$368.48</td><td>$385.53</td><td>$1,788,844,135</td><td style=\"text-align: right;\">$63,657,170,377</td></tr><tr><td style=\"text-align: left;\">Mar 15, 2022</td><td>$373.47</td><td>$374.33</td><td>$362.68</td><td>$371.63</td><td>$1,360,640,456</td><td style=\"text-align: right;\">$61,362,152,715</td></tr><tr><td style=\"text-align: left;\">Mar 14, 2022</td><td>$361.83</td><td>$373.61</td><td>$360.30</td><td>$373.47</td><td>$1,455,465,550</td><td style=\"text-align: right;\">$61,665,521,276</td></tr><tr><td style=\"text-align: left;\">Mar 13, 2022</td><td>$372.61</td><td>$376.93</td><td>$361.15</td><td>$361.85</td><td>$1,242,011,950</td><td style=\"text-align: right;\">$59,747,472,766</td></tr><tr><td style=\"text-align: left;\">Mar 12, 2022</td><td>$372.19</td><td>$379.20</td><td>$372.13</td><td>$372.73</td><td>$1,211,417,865</td><td style=\"text-align: right;\">$61,544,034,492</td></tr><tr><td style=\"text-align: left;\">Mar 11, 2022</td><td>$372.20</td><td>$379.57</td><td>$365.61</td><td>$372.18</td><td>$1,550,840,418</td><td style=\"text-align: right;\">$61,453,823,267</td></tr><tr><td style=\"text-align: left;\">Mar 10, 2022</td><td>$393.48</td><td>$394.40</td><td>$364.09</td><td>$372.16</td><td>$2,105,808,203</td><td style=\"text-align: right;\">$61,449,692,684</td></tr><tr><td style=\"text-align: left;\">Mar 09, 2022</td><td>$382.04</td><td>$402.03</td><td>$381.84</td><td>$393.56</td><td>$2,425,559,108</td><td style=\"text-align: right;\">$64,982,649,307</td></tr><tr><td style=\"text-align: left;\">Mar 08, 2022</td><td>$381.25</td><td>$387.63</td><td>$377.71</td><td>$381.96</td><td>$1,684,540,144</td><td style=\"text-align: right;\">$63,067,760,640</td></tr><tr><td style=\"text-align: left;\">Mar 07, 2022</td><td>$375.07</td><td>$384.42</td><td>$364.43</td><td>$381.34</td><td>$2,058,321,705</td><td style=\"text-align: right;\">$62,966,388,746</td></tr><tr><td style=\"text-align: left;\">Mar 06, 2022</td><td>$384.91</td><td>$387.16</td><td>$373.02</td><td>$375.01</td><td>$1,305,295,273</td><td style=\"text-align: right;\">$61,920,633,563</td></tr><tr><td style=\"text-align: left;\">Mar 05, 2022</td><td>$374.44</td><td>$386.84</td><td>$368.18</td><td>$384.87</td><td>$1,321,262,776</td><td style=\"text-align: right;\">$63,549,043,023</td></tr><tr><td style=\"text-align: left;\">Mar 04, 2022</td><td>$402.58</td><td>$402.92</td><td>$372.87</td><td>$374.28</td><td>$1,740,563,403</td><td style=\"text-align: right;\">$61,800,046,682</td></tr><tr><td style=\"text-align: left;\">Mar 03, 2022</td><td>$409.03</td><td>$412.80</td><td>$397.91</td><td>$402.55</td><td>$1,598,018,507</td><td style=\"text-align: right;\">$66,467,864,024</td></tr><tr><td style=\"text-align: left;\">Mar 02, 2022</td><td>$408.52</td><td>$414.91</td><td>$404.53</td><td>$409.00</td><td>$2,045,870,796</td><td style=\"text-align: right;\">$67,532,807,578</td></tr><tr><td style=\"text-align: left;\">Mar 01, 2022</td><td>$395.62</td><td>$418.49</td><td>$391.33</td><td>$408.48</td><td>$2,885,318,336</td><td style=\"text-align: right;\">$67,447,273,336</td></tr><tr><td style=\"text-align: left;\">Feb 28, 2022</td><td>$360.38</td><td>$396.46</td><td>$356.62</td><td>$395.61</td><td>$1,868,349,380</td><td style=\"text-align: right;\">$65,322,240,557</td></tr><tr><td style=\"text-align: left;\">Feb 27, 2022</td><td>$373.60</td><td>$380.96</td><td>$359.63</td><td>$360.53</td><td>$1,600,855,952</td><td style=\"text-align: right;\">$59,529,719,165</td></tr><tr><td style=\"text-align: left;\">Feb 26, 2022</td><td>$374.89</td><td>$385.21</td><td>$371.48</td><td>$373.64</td><td>$1,319,208,551</td><td style=\"text-align: right;\">$61,694,020,170</td></tr><tr><td style=\"text-align: left;\">Feb 25, 2022</td><td>$361.22</td><td>$376.80</td><td>$357.37</td><td>$374.91</td><td>$1,839,035,023</td><td style=\"text-align: right;\">$61,904,739,647</td></tr><tr><td style=\"text-align: left;\">Feb 24, 2022</td><td>$366.35</td><td>$368.17</td><td>$324.48</td><td>$361.23</td><td>$2,972,951,900</td><td style=\"text-align: right;\">$59,645,892,983</td></tr><tr><td style=\"text-align: left;\">Feb 23, 2022</td><td>$374.30</td><td>$383.25</td><td>$366.54</td><td>$366.54</td><td>$1,644,707,704</td><td style=\"text-align: right;\">$60,521,812,716</td></tr><tr><td style=\"text-align: left;\">Feb 22, 2022</td><td>$356.73</td><td>$374.86</td><td>$350.15</td><td>$374.31</td><td>$2,037,210,077</td><td style=\"text-align: right;\">$61,804,434,179</td></tr><tr><td style=\"text-align: left;\">Feb 21, 2022</td><td>$380.74</td><td>$393.62</td><td>$356.18</td><td>$356.66</td><td>$2,164,511,484</td><td style=\"text-align: right;\">$58,890,751,692</td></tr><tr><td style=\"text-align: left;\">Feb 20, 2022</td><td>$400.00</td><td>$400.13</td><td>$376.01</td><td>$380.83</td><td>$1,431,745,519</td><td style=\"text-align: right;\">$62,880,741,279</td></tr><tr><td style=\"text-align: left;\">Feb 19, 2022</td><td>$399.52</td><td>$406.38</td><td>$393.93</td><td>$400.04</td><td>$1,192,395,484</td><td style=\"text-align: right;\">$66,053,898,767</td></tr><tr><td style=\"text-align: left;\">Feb 18, 2022</td><td>$402.65</td><td>$410.94</td><td>$393.82</td><td>$399.57</td><td>$1,554,511,893</td><td style=\"text-align: right;\">$65,975,568,167</td></tr><tr><td style=\"text-align: left;\">Feb 17, 2022</td><td>$427.55</td><td>$431.02</td><td>$400.81</td><td>$402.45</td><td>$1,644,013,199</td><td style=\"text-align: right;\">$66,451,246,799</td></tr><tr><td style=\"text-align: left;\">Feb 16, 2022</td><td>$432.49</td><td>$433.43</td><td>$423.08</td><td>$427.92</td><td>$1,670,788,158</td><td style=\"text-align: right;\">$70,656,455,985</td></tr><tr><td style=\"text-align: left;\">Feb 15, 2022</td><td>$403.66</td><td>$436.25</td><td>$403.09</td><td>$432.41</td><td>$2,538,883,559</td><td style=\"text-align: right;\">$71,398,038,456</td></tr><tr><td style=\"text-align: left;\">Feb 14, 2022</td><td>$398.64</td><td>$403.93</td><td>$391.38</td><td>$403.66</td><td>$1,269,083,662</td><td style=\"text-align: right;\">$66,651,161,136</td></tr><tr><td style=\"text-align: left;\">Feb 13, 2022</td><td>$403.27</td><td>$406.71</td><td>$395.66</td><td>$398.89</td><td>$1,151,509,777</td><td style=\"text-align: right;\">$65,862,892,979</td></tr><tr><td style=\"text-align: left;\">Feb 12, 2022</td><td>$400.50</td><td>$407.14</td><td>$394.80</td><td>$403.39</td><td>$1,372,516,416</td><td style=\"text-align: right;\">$66,606,405,568</td></tr><tr><td style=\"text-align: left;\">Feb 11, 2022</td><td>$415.19</td><td>$419.29</td><td>$393.98</td><td>$400.42</td><td>$1,714,654,174</td><td style=\"text-align: right;\">$66,116,449,646</td></tr><tr><td style=\"text-align: left;\">Feb 10, 2022</td><td>$422.51</td><td>$434.17</td><td>$411.25</td><td>$415.12</td><td>$2,037,888,603</td><td style=\"text-align: right;\">$68,543,142,480</td></tr><tr><td style=\"text-align: left;\">Feb 09, 2022</td><td>$408.52</td><td>$427.39</td><td>$407.95</td><td>$422.47</td><td>$1,601,745,132</td><td style=\"text-align: right;\">$69,756,144,860</td></tr><tr><td style=\"text-align: left;\">Feb 08, 2022</td><td>$433.46</td><td>$444.29</td><td>$407.16</td><td>$408.78</td><td>$2,247,004,672</td><td style=\"text-align: right;\">$67,495,894,818</td></tr><tr><td style=\"text-align: left;\">Feb 07, 2022</td><td>$419.67</td><td>$438.64</td><td>$414.25</td><td>$433.23</td><td>$1,755,674,427</td><td style=\"text-align: right;\">$71,533,416,664</td></tr><tr><td style=\"text-align: left;\">Feb 06, 2022</td><td>$414.22</td><td>$421.11</td><td>$408.61</td><td>$419.55</td><td>$1,427,593,921</td><td style=\"text-align: right;\">$69,274,003,461</td></tr><tr><td style=\"text-align: left;\">Feb 05, 2022</td><td>$399.15</td><td>$430.35</td><td>$396.93</td><td>$414.20</td><td>$2,039,010,962</td><td style=\"text-align: right;\">$68,391,365,210</td></tr><tr><td style=\"text-align: left;\">Feb 04, 2022</td><td>$370.71</td><td>$399.22</td><td>$369.82</td><td>$399.03</td><td>$1,711,084,752</td><td style=\"text-align: right;\">$65,886,476,170</td></tr><tr><td style=\"text-align: left;\">Feb 03, 2022</td><td>$367.37</td><td>$370.88</td><td>$360.49</td><td>$370.88</td><td>$1,202,744,039</td><td style=\"text-align: right;\">$61,238,131,890</td></tr><tr><td style=\"text-align: left;\">Feb 02, 2022</td><td>$385.49</td><td>$386.11</td><td>$366.90</td><td>$367.47</td><td>$1,290,849,744</td><td style=\"text-align: right;\">$60,675,734,271</td></tr><tr><td style=\"text-align: left;\">Feb 01, 2022</td><td>$375.10</td><td>$387.77</td><td>$374.33</td><td>$385.46</td><td>$1,392,647,608</td><td style=\"text-align: right;\">$63,646,536,971</td></tr><tr><td style=\"text-align: left;\">Jan 31, 2022</td><td>$377.65</td><td>$384.98</td><td>$366.11</td><td>$375.28</td><td>$1,386,778,184</td><td style=\"text-align: right;\">$61,964,576,590</td></tr><tr><td style=\"text-align: left;\">Jan 30, 2022</td><td>$389.20</td><td>$389.25</td><td>$373.04</td><td>$377.61</td><td>$1,289,330,238</td><td style=\"text-align: right;\">$62,350,221,471</td></tr><tr><td style=\"text-align: left;\">Jan 29, 2022</td><td>$386.07</td><td>$396.77</td><td>$381.68</td><td>$389.13</td><td>$1,330,610,935</td><td style=\"text-align: right;\">$64,252,345,527</td></tr><tr><td style=\"text-align: left;\">Jan 28, 2022</td><td>$390.00</td><td>$393.38</td><td>$376.75</td><td>$386.08</td><td>$1,592,850,476</td><td style=\"text-align: right;\">$63,749,004,175</td></tr><tr><td style=\"text-align: left;\">Jan 27, 2022</td><td>$375.54</td><td>$391.80</td><td>$360.33</td><td>$390.09</td><td>$1,952,844,398</td><td style=\"text-align: right;\">$64,410,112,333</td></tr><tr><td style=\"text-align: left;\">Jan 26, 2022</td><td>$384.59</td><td>$400.15</td><td>$367.58</td><td>$375.76</td><td>$2,226,973,227</td><td style=\"text-align: right;\">$62,043,525,509</td></tr><tr><td style=\"text-align: left;\">Jan 25, 2022</td><td>$371.39</td><td>$387.18</td><td>$358.08</td><td>$384.62</td><td>$2,325,661,159</td><td style=\"text-align: right;\">$63,507,103,572</td></tr><tr><td style=\"text-align: left;\">Jan 24, 2022</td><td>$384.04</td><td>$384.04</td><td>$337.85</td><td>$371.37</td><td>$3,210,871,602</td><td style=\"text-align: right;\">$61,319,239,193</td></tr><tr><td style=\"text-align: left;\">Jan 23, 2022</td><td>$358.33</td><td>$388.59</td><td>$357.17</td><td>$383.93</td><td>$2,786,834,863</td><td style=\"text-align: right;\">$63,393,933,785</td></tr><tr><td style=\"text-align: left;\">Jan 22, 2022</td><td>$383.47</td><td>$388.91</td><td>$340.05</td><td>$358.10</td><td>$4,226,932,408</td><td style=\"text-align: right;\">$59,127,680,060</td></tr><tr><td style=\"text-align: left;\">Jan 21, 2022</td><td>$440.07</td><td>$444.18</td><td>$376.77</td><td>$383.07</td><td>$3,647,221,590</td><td style=\"text-align: right;\">$63,251,925,838</td></tr><tr><td style=\"text-align: left;\">Jan 20, 2022</td><td>$462.86</td><td>$478.35</td><td>$439.98</td><td>$440.01</td><td>$1,881,741,995</td><td style=\"text-align: right;\">$72,652,270,854</td></tr><tr><td style=\"text-align: left;\">Jan 19, 2022</td><td>$471.92</td><td>$472.77</td><td>$454.76</td><td>$462.82</td><td>$1,780,063,381</td><td style=\"text-align: right;\">$76,419,685,290</td></tr><tr><td style=\"text-align: left;\">Jan 18, 2022</td><td>$475.74</td><td>$479.66</td><td>$458.15</td><td>$472.01</td><td>$2,106,859,289</td><td style=\"text-align: right;\">$77,935,945,161</td></tr><tr><td style=\"text-align: left;\">Jan 17, 2022</td><td>$498.51</td><td>$498.94</td><td>$468.58</td><td>$475.71</td><td>$2,134,608,006</td><td style=\"text-align: right;\">$79,348,951,880</td></tr><tr><td style=\"text-align: left;\">Jan 16, 2022</td><td>$494.92</td><td>$505.30</td><td>$489.50</td><td>$498.43</td><td>$1,771,927,950</td><td style=\"text-align: right;\">$83,138,350,006</td></tr><tr><td style=\"text-align: left;\">Jan 15, 2022</td><td>$489.92</td><td>$501.31</td><td>$486.31</td><td>$494.99</td><td>$1,766,015,929</td><td style=\"text-align: right;\">$82,564,578,043</td></tr><tr><td style=\"text-align: left;\">Jan 14, 2022</td><td>$475.13</td><td>$491.66</td><td>$468.94</td><td>$489.87</td><td>$3,112,235,914</td><td style=\"text-align: right;\">$81,710,448,741</td></tr><tr><td style=\"text-align: left;\">Jan 13, 2022</td><td>$487.04</td><td>$488.21</td><td>$467.88</td><td>$475.03</td><td>$4,151,007,744</td><td style=\"text-align: right;\">$79,235,401,456</td></tr><tr><td style=\"text-align: left;\">Jan 12, 2022</td><td>$463.56</td><td>$489.33</td><td>$457.12</td><td>$487.01</td><td>$4,131,335,431</td><td style=\"text-align: right;\">$81,233,396,504</td></tr><tr><td style=\"text-align: left;\">Jan 11, 2022</td><td>$424.89</td><td>$467.28</td><td>$422.00</td><td>$463.52</td><td>$4,600,615,710</td><td style=\"text-align: right;\">$77,315,387,871</td></tr><tr><td style=\"text-align: left;\">Jan 10, 2022</td><td>$438.79</td><td>$445.04</td><td>$408.70</td><td>$424.93</td><td>$4,156,063,326</td><td style=\"text-align: right;\">$70,879,440,367</td></tr><tr><td style=\"text-align: left;\">Jan 09, 2022</td><td>$430.25</td><td>$444.49</td><td>$428.24</td><td>$438.80</td><td>$3,347,862,691</td><td style=\"text-align: right;\">$73,192,856,244</td></tr><tr><td style=\"text-align: left;\">Jan 08, 2022</td><td>$447.86</td><td>$458.48</td><td>$419.20</td><td>$430.25</td><td>$4,068,139,021</td><td style=\"text-align: right;\">$71,765,554,064</td></tr><tr><td style=\"text-align: left;\">Jan 07, 2022</td><td>$473.00</td><td>$474.30</td><td>$439.26</td><td>$447.79</td><td>$4,613,172,287</td><td style=\"text-align: right;\">$74,691,631,587</td></tr><tr><td style=\"text-align: left;\">Jan 06, 2022</td><td>$475.08</td><td>$481.06</td><td>$460.25</td><td>$473.28</td><td>$4,400,228,627</td><td style=\"text-align: right;\">$78,942,916,084</td></tr><tr><td style=\"text-align: left;\">Jan 05, 2022</td><td>$507.60</td><td>$515.24</td><td>$462.06</td><td>$475.06</td><td>$2,870,757,788</td><td style=\"text-align: right;\">$79,240,041,765</td></tr><tr><td style=\"text-align: left;\">Jan 04, 2022</td><td>$512.13</td><td>$519.70</td><td>$503.22</td><td>$507.51</td><td>$2,200,879,165</td><td style=\"text-align: right;\">$84,652,601,973</td></tr><tr><td style=\"text-align: left;\">Jan 03, 2022</td><td>$531.39</td><td>$532.10</td><td>$510.65</td><td>$512.14</td><td>$1,949,153,130</td><td style=\"text-align: right;\">$85,424,866,707</td></tr><tr><td style=\"text-align: left;\">Jan 02, 2022</td><td>$527.29</td><td>$533.37</td><td>$518.75</td><td>$531.40</td><td>$1,462,276,185</td><td style=\"text-align: right;\">$88,637,570,485</td></tr><tr><td style=\"text-align: left;\">Jan 01, 2022</td><td>$511.91</td><td>$527.35</td><td>$511.90</td><td>$527.35</td><td>$1,622,547,014</td><td style=\"text-align: right;\">$87,963,039,449</td></tr><tr><td style=\"text-align: left;\">Dec 31, 2021</td><td>$519.12</td><td>$527.70</td><td>$507.89</td><td>$511.71</td><td>$2,020,489,898</td><td style=\"text-align: right;\">$85,353,536,222</td></tr><tr><td style=\"text-align: left;\">Dec 30, 2021</td><td>$514.57</td><td>$527.57</td><td>$509.00</td><td>$518.91</td><td>$1,950,603,827</td><td style=\"text-align: right;\">$86,554,742,526</td></tr><tr><td style=\"text-align: left;\">Dec 29, 2021</td><td>$534.85</td><td>$540.62</td><td>$511.75</td><td>$514.00</td><td>$2,159,325,741</td><td style=\"text-align: right;\">$85,735,918,898</td></tr><tr><td style=\"text-align: left;\">Dec 28, 2021</td><td>$563.59</td><td>$563.59</td><td>$530.06</td><td>$534.93</td><td>$2,791,585,162</td><td style=\"text-align: right;\">$89,226,607,256</td></tr><tr><td style=\"text-align: left;\">Dec 27, 2021</td><td>$546.51</td><td>$571.55</td><td>$543.51</td><td>$562.64</td><td>$2,180,356,553</td><td style=\"text-align: right;\">$93,849,249,478</td></tr><tr><td style=\"text-align: left;\">Dec 26, 2021</td><td>$547.32</td><td>$549.41</td><td>$537.46</td><td>$546.99</td><td>$1,576,727,325</td><td style=\"text-align: right;\">$91,239,389,442</td></tr><tr><td style=\"text-align: left;\">Dec 25, 2021</td><td>$542.47</td><td>$550.87</td><td>$540.55</td><td>$547.33</td><td>$1,305,388,019</td><td style=\"text-align: right;\">$91,294,641,313</td></tr><tr><td style=\"text-align: left;\">Dec 24, 2021</td><td>$549.00</td><td>$554.13</td><td>$538.23</td><td>$541.90</td><td>$1,677,259,160</td><td style=\"text-align: right;\">$90,389,882,921</td></tr><tr><td style=\"text-align: left;\">Dec 23, 2021</td><td>$533.72</td><td>$552.53</td><td>$524.78</td><td>$548.73</td><td>$1,867,124,970</td><td style=\"text-align: right;\">$91,528,095,407</td></tr><tr><td style=\"text-align: left;\">Dec 22, 2021</td><td>$528.77</td><td>$544.65</td><td>$527.64</td><td>$533.64</td><td>$1,597,323,976</td><td style=\"text-align: right;\">$89,012,591,912</td></tr><tr><td style=\"text-align: left;\">Dec 21, 2021</td><td>$523.39</td><td>$535.11</td><td>$517.76</td><td>$528.71</td><td>$1,461,697,111</td><td style=\"text-align: right;\">$88,189,598,447</td></tr><tr><td style=\"text-align: left;\">Dec 20, 2021</td><td>$529.73</td><td>$534.78</td><td>$506.37</td><td>$523.16</td><td>$1,467,380,399</td><td style=\"text-align: right;\">$87,264,103,150</td></tr><tr><td style=\"text-align: left;\">Dec 19, 2021</td><td>$534.02</td><td>$543.75</td><td>$527.77</td><td>$529.97</td><td>$1,199,582,659</td><td style=\"text-align: right;\">$88,399,940,790</td></tr><tr><td style=\"text-align: left;\">Dec 18, 2021</td><td>$526.17</td><td>$537.82</td><td>$517.32</td><td>$533.89</td><td>$1,294,574,825</td><td style=\"text-align: right;\">$89,053,694,756</td></tr><tr><td style=\"text-align: left;\">Dec 17, 2021</td><td>$526.15</td><td>$535.43</td><td>$511.70</td><td>$525.71</td><td>$1,804,795,681</td><td style=\"text-align: right;\">$87,688,418,217</td></tr><tr><td style=\"text-align: left;\">Dec 16, 2021</td><td>$541.40</td><td>$545.15</td><td>$525.12</td><td>$526.25</td><td>$1,500,825,557</td><td style=\"text-align: right;\">$87,778,523,353</td></tr><tr><td style=\"text-align: left;\">Dec 15, 2021</td><td>$528.43</td><td>$546.58</td><td>$503.04</td><td>$541.03</td><td>$2,079,796,859</td><td style=\"text-align: right;\">$90,243,922,553</td></tr><tr><td style=\"text-align: left;\">Dec 14, 2021</td><td>$520.63</td><td>$536.30</td><td>$510.42</td><td>$511.23</td><td>$2,232,411,089</td><td style=\"text-align: right;\">$85,273,644,407</td></tr><tr><td style=\"text-align: left;\">Dec 13, 2021</td><td>$571.18</td><td>$572.88</td><td>$512.00</td><td>$521.01</td><td>$1,900,967,743</td><td style=\"text-align: right;\">$86,905,337,453</td></tr><tr><td style=\"text-align: left;\">Dec 12, 2021</td><td>$564.14</td><td>$574.19</td><td>$559.52</td><td>$570.82</td><td>$1,307,635,490</td><td style=\"text-align: right;\">$95,214,089,647</td></tr><tr><td style=\"text-align: left;\">Dec 11, 2021</td><td>$553.67</td><td>$572.19</td><td>$542.57</td><td>$564.32</td><td>$1,824,951,693</td><td style=\"text-align: right;\">$94,129,640,886</td></tr><tr><td style=\"text-align: left;\">Dec 10, 2021</td><td>$570.98</td><td>$594.60</td><td>$551.74</td><td>$552.97</td><td>$2,089,946,472</td><td style=\"text-align: right;\">$92,235,504,807</td></tr><tr><td style=\"text-align: left;\">Dec 09, 2021</td><td>$606.64</td><td>$616.65</td><td>$568.04</td><td>$571.65</td><td>$2,132,955,304</td><td style=\"text-align: right;\">$95,351,710,277</td></tr><tr><td style=\"text-align: left;\">Dec 08, 2021</td><td>$579.18</td><td>$607.78</td><td>$567.62</td><td>$607.59</td><td>$2,245,501,623</td><td style=\"text-align: right;\">$101,347,173,539</td></tr><tr><td style=\"text-align: left;\">Dec 07, 2021</td><td>$589.11</td><td>$593.80</td><td>$573.34</td><td>$579.69</td><td>$2,112,954,675</td><td style=\"text-align: right;\">$96,692,935,325</td></tr><tr><td style=\"text-align: left;\">Dec 06, 2021</td><td>$557.95</td><td>$593.38</td><td>$534.26</td><td>$589.26</td><td>$3,567,503,629</td><td style=\"text-align: right;\">$98,288,607,021</td></tr><tr><td style=\"text-align: left;\">Dec 05, 2021</td><td>$568.65</td><td>$581.81</td><td>$543.64</td><td>$557.78</td><td>$2,394,235,567</td><td style=\"text-align: right;\">$93,038,857,104</td></tr><tr><td style=\"text-align: left;\">Dec 04, 2021</td><td>$596.15</td><td>$596.15</td><td>$495.13</td><td>$569.08</td><td>$4,458,419,873</td><td style=\"text-align: right;\">$94,922,740,404</td></tr><tr><td style=\"text-align: left;\">Dec 03, 2021</td><td>$620.30</td><td>$628.32</td><td>$579.85</td><td>$594.64</td><td>$2,483,348,354</td><td style=\"text-align: right;\">$99,185,970,165</td></tr><tr><td style=\"text-align: left;\">Dec 02, 2021</td><td>$627.57</td><td>$629.88</td><td>$606.65</td><td>$619.47</td><td>$2,378,758,113</td><td style=\"text-align: right;\">$103,328,330,617</td></tr><tr><td style=\"text-align: left;\">Dec 01, 2021</td><td>$621.81</td><td>$650.25</td><td>$619.20</td><td>$627.97</td><td>$2,806,563,703</td><td style=\"text-align: right;\">$104,746,377,981</td></tr><tr><td style=\"text-align: left;\">Nov 30, 2021</td><td>$623.96</td><td>$635.13</td><td>$604.87</td><td>$622.67</td><td>$2,781,531,694</td><td style=\"text-align: right;\">$103,862,047,714</td></tr><tr><td style=\"text-align: left;\">Nov 29, 2021</td><td>$611.76</td><td>$628.50</td><td>$602.44</td><td>$624.31</td><td>$2,425,803,182</td><td style=\"text-align: right;\">$104,135,632,934</td></tr><tr><td style=\"text-align: left;\">Nov 28, 2021</td><td>$601.01</td><td>$612.74</td><td>$574.55</td><td>$611.37</td><td>$2,731,676,788</td><td style=\"text-align: right;\">$101,976,683,739</td></tr><tr><td style=\"text-align: left;\">Nov 27, 2021</td><td>$587.10</td><td>$621.39</td><td>$584.79</td><td>$600.34</td><td>$2,485,529,516</td><td style=\"text-align: right;\">$100,136,862,348</td></tr><tr><td style=\"text-align: left;\">Nov 26, 2021</td><td>$639.00</td><td>$657.51</td><td>$566.53</td><td>$585.15</td><td>$4,254,504,824</td><td style=\"text-align: right;\">$97,603,244,497</td></tr><tr><td style=\"text-align: left;\">Nov 25, 2021</td><td>$590.36</td><td>$646.96</td><td>$587.86</td><td>$603.73</td><td>$2,537,227,998</td><td style=\"text-align: right;\">$100,702,892,061</td></tr><tr><td style=\"text-align: left;\">Nov 24, 2021</td><td>$591.20</td><td>$594.83</td><td>$577.51</td><td>$581.40</td><td>$2,917,418,688</td><td style=\"text-align: right;\">$96,977,406,579</td></tr><tr><td style=\"text-align: left;\">Nov 23, 2021</td><td>$559.57</td><td>$605.09</td><td>$559.04</td><td>$591.44</td><td>$2,927,434,189</td><td style=\"text-align: right;\">$98,652,799,496</td></tr><tr><td style=\"text-align: left;\">Nov 22, 2021</td><td>$584.82</td><td>$585.15</td><td>$554.27</td><td>$559.13</td><td>$2,251,971,535</td><td style=\"text-align: right;\">$93,263,023,437</td></tr><tr><td style=\"text-align: left;\">Nov 21, 2021</td><td>$604.41</td><td>$605.18</td><td>$580.59</td><td>$585.29</td><td>$2,055,539,646</td><td style=\"text-align: right;\">$97,627,756,571</td></tr><tr><td style=\"text-align: left;\">Nov 20, 2021</td><td>$581.48</td><td>$604.88</td><td>$574.02</td><td>$603.84</td><td>$2,336,197,759</td><td style=\"text-align: right;\">$100,721,213,324</td></tr><tr><td style=\"text-align: left;\">Nov 19, 2021</td><td>$531.51</td><td>$585.90</td><td>$525.24</td><td>$581.53</td><td>$2,481,119,529</td><td style=\"text-align: right;\">$97,000,012,441</td></tr><tr><td style=\"text-align: left;\">Nov 18, 2021</td><td>$578.03</td><td>$587.91</td><td>$518.42</td><td>$532.24</td><td>$2,917,116,815</td><td style=\"text-align: right;\">$88,777,841,988</td></tr><tr><td style=\"text-align: left;\">Nov 17, 2021</td><td>$589.33</td><td>$593.11</td><td>$554.32</td><td>$578.09</td><td>$2,704,847,734</td><td style=\"text-align: right;\">$96,426,540,285</td></tr><tr><td style=\"text-align: left;\">Nov 16, 2021</td><td>$634.95</td><td>$635.26</td><td>$574.18</td><td>$589.82</td><td>$3,772,957,260</td><td style=\"text-align: right;\">$98,383,134,422</td></tr><tr><td style=\"text-align: left;\">Nov 15, 2021</td><td>$650.94</td><td>$660.04</td><td>$631.94</td><td>$633.05</td><td>$2,146,877,925</td><td style=\"text-align: right;\">$105,593,244,417</td></tr><tr><td style=\"text-align: left;\">Nov 14, 2021</td><td>$650.06</td><td>$659.99</td><td>$634.55</td><td>$650.92</td><td>$2,101,401,990</td><td style=\"text-align: right;\">$108,573,881,514</td></tr><tr><td style=\"text-align: left;\">Nov 13, 2021</td><td>$627.08</td><td>$655.32</td><td>$620.59</td><td>$650.10</td><td>$2,106,170,805</td><td style=\"text-align: right;\">$108,438,116,767</td></tr><tr><td style=\"text-align: left;\">Nov 12, 2021</td><td>$629.14</td><td>$634.52</td><td>$604.16</td><td>$626.64</td><td>$2,209,163,398</td><td style=\"text-align: right;\">$104,524,694,777</td></tr><tr><td style=\"text-align: left;\">Nov 11, 2021</td><td>$615.46</td><td>$634.84</td><td>$606.41</td><td>$629.89</td><td>$2,341,652,507</td><td style=\"text-align: right;\">$105,066,764,551</td></tr><tr><td style=\"text-align: left;\">Nov 10, 2021</td><td>$635.04</td><td>$662.31</td><td>$578.07</td><td>$615.28</td><td>$3,653,998,344</td><td style=\"text-align: right;\">$102,629,087,023</td></tr><tr><td style=\"text-align: left;\">Nov 09, 2021</td><td>$654.00</td><td>$657.04</td><td>$632.33</td><td>$635.19</td><td>$2,198,989,754</td><td style=\"text-align: right;\">$105,950,520,458</td></tr><tr><td style=\"text-align: left;\">Nov 08, 2021</td><td>$650.47</td><td>$655.71</td><td>$632.69</td><td>$654.32</td><td>$2,828,112,534</td><td style=\"text-align: right;\">$109,140,493,553</td></tr><tr><td style=\"text-align: left;\">Nov 07, 2021</td><td>$638.19</td><td>$669.35</td><td>$632.08</td><td>$650.45</td><td>$3,017,167,868</td><td style=\"text-align: right;\">$108,496,484,781</td></tr><tr><td style=\"text-align: left;\">Nov 06, 2021</td><td>$608.26</td><td>$636.11</td><td>$596.76</td><td>$636.11</td><td>$2,779,927,044</td><td style=\"text-align: right;\">$106,104,537,237</td></tr><tr><td style=\"text-align: left;\">Nov 05, 2021</td><td>$559.39</td><td>$615.58</td><td>$555.06</td><td>$608.65</td><td>$3,675,930,507</td><td style=\"text-align: right;\">$101,523,193,207</td></tr><tr><td style=\"text-align: left;\">Nov 04, 2021</td><td>$568.58</td><td>$569.12</td><td>$544.88</td><td>$559.74</td><td>$2,260,479,871</td><td style=\"text-align: right;\">$93,364,822,674</td></tr><tr><td style=\"text-align: left;\">Nov 03, 2021</td><td>$554.56</td><td>$570.26</td><td>$538.53</td><td>$568.58</td><td>$2,567,651,316</td><td style=\"text-align: right;\">$94,839,595,201</td></tr><tr><td style=\"text-align: left;\">Nov 02, 2021</td><td>$551.75</td><td>$564.02</td><td>$538.40</td><td>$554.45</td><td>$2,401,108,112</td><td style=\"text-align: right;\">$92,482,499,526</td></tr><tr><td style=\"text-align: left;\">Nov 01, 2021</td><td>$524.74</td><td>$552.07</td><td>$512.18</td><td>$551.26</td><td>$2,535,579,529</td><td style=\"text-align: right;\">$91,950,123,403</td></tr><tr><td style=\"text-align: left;\">Oct 31, 2021</td><td>$528.55</td><td>$534.77</td><td>$510.57</td><td>$524.36</td><td>$2,076,289,915</td><td style=\"text-align: right;\">$87,464,591,883</td></tr><tr><td style=\"text-align: left;\">Oct 30, 2021</td><td>$529.82</td><td>$539.94</td><td>$511.93</td><td>$527.92</td><td>$2,194,893,915</td><td style=\"text-align: right;\">$88,057,857,876</td></tr><tr><td style=\"text-align: left;\">Oct 29, 2021</td><td>$492.43</td><td>$533.48</td><td>$488.87</td><td>$529.62</td><td>$2,667,451,365</td><td style=\"text-align: right;\">$88,341,575,257</td></tr><tr><td style=\"text-align: left;\">Oct 28, 2021</td><td>$448.89</td><td>$494.91</td><td>$447.62</td><td>$492.02</td><td>$2,626,956,133</td><td style=\"text-align: right;\">$82,068,758,214</td></tr><tr><td style=\"text-align: left;\">Oct 27, 2021</td><td>$478.12</td><td>$486.17</td><td>$440.45</td><td>$449.01</td><td>$2,340,091,135</td><td style=\"text-align: right;\">$74,895,051,000</td></tr><tr><td style=\"text-align: left;\">Oct 26, 2021</td><td>$484.71</td><td>$489.77</td><td>$475.29</td><td>$478.03</td><td>$1,486,193,826</td><td style=\"text-align: right;\">$79,735,125,437</td></tr><tr><td style=\"text-align: left;\">Oct 25, 2021</td><td>$475.92</td><td>$488.89</td><td>$474.87</td><td>$484.65</td><td>$1,337,787,876</td><td style=\"text-align: right;\">$80,839,354,325</td></tr><tr><td style=\"text-align: left;\">Oct 24, 2021</td><td>$485.99</td><td>$486.80</td><td>$468.20</td><td>$476.63</td><td>$1,246,191,889</td><td style=\"text-align: right;\">$79,502,953,197</td></tr><tr><td style=\"text-align: left;\">Oct 23, 2021</td><td>$478.94</td><td>$485.91</td><td>$473.11</td><td>$485.91</td><td>$1,170,864,603</td><td style=\"text-align: right;\">$81,049,752,405</td></tr><tr><td style=\"text-align: left;\">Oct 22, 2021</td><td>$470.96</td><td>$498.01</td><td>$470.96</td><td>$478.64</td><td>$1,962,748,496</td><td style=\"text-align: right;\">$79,838,228,572</td></tr><tr><td style=\"text-align: left;\">Oct 21, 2021</td><td>$501.35</td><td>$504.65</td><td>$467.42</td><td>$471.26</td><td>$3,081,793,454</td><td style=\"text-align: right;\">$78,606,195,340</td></tr><tr><td style=\"text-align: left;\">Oct 20, 2021</td><td>$488.05</td><td>$505.27</td><td>$482.25</td><td>$501.02</td><td>$1,890,415,594</td><td style=\"text-align: right;\">$83,570,766,547</td></tr><tr><td style=\"text-align: left;\">Oct 19, 2021</td><td>$485.10</td><td>$497.26</td><td>$481.97</td><td>$488.15</td><td>$1,844,483,840</td><td style=\"text-align: right;\">$81,423,791,416</td></tr><tr><td style=\"text-align: left;\">Oct 18, 2021</td><td>$470.91</td><td>$487.50</td><td>$467.58</td><td>$485.11</td><td>$1,999,805,026</td><td style=\"text-align: right;\">$80,917,073,472</td></tr><tr><td style=\"text-align: left;\">Oct 17, 2021</td><td>$465.72</td><td>$472.30</td><td>$455.41</td><td>$470.63</td><td>$1,646,437,501</td><td style=\"text-align: right;\">$79,129,584,115</td></tr><tr><td style=\"text-align: left;\">Oct 16, 2021</td><td>$473.99</td><td>$483.56</td><td>$463.51</td><td>$465.64</td><td>$1,904,086,807</td><td style=\"text-align: right;\">$78,291,740,271</td></tr><tr><td style=\"text-align: left;\">Oct 15, 2021</td><td>$472.60</td><td>$476.76</td><td>$453.90</td><td>$473.70</td><td>$2,804,538,828</td><td style=\"text-align: right;\">$79,646,957,974</td></tr><tr><td style=\"text-align: left;\">Oct 14, 2021</td><td>$470.54</td><td>$482.64</td><td>$461.86</td><td>$472.02</td><td>$2,486,819,344</td><td style=\"text-align: right;\">$79,364,447,301</td></tr><tr><td style=\"text-align: left;\">Oct 13, 2021</td><td>$444.41</td><td>$471.66</td><td>$434.45</td><td>$470.75</td><td>$5,149,146,903</td><td style=\"text-align: right;\">$79,150,456,720</td></tr><tr><td style=\"text-align: left;\">Oct 12, 2021</td><td>$413.49</td><td>$443.87</td><td>$392.57</td><td>$443.87</td><td>$3,142,304,145</td><td style=\"text-align: right;\">$74,630,567,195</td></tr><tr><td style=\"text-align: left;\">Oct 11, 2021</td><td>$404.53</td><td>$423.55</td><td>$401.22</td><td>$413.46</td><td>$1,473,121,389</td><td style=\"text-align: right;\">$69,517,303,385</td></tr><tr><td style=\"text-align: left;\">Oct 10, 2021</td><td>$421.80</td><td>$422.05</td><td>$402.83</td><td>$405.07</td><td>$1,437,068,558</td><td style=\"text-align: right;\">$68,107,150,217</td></tr><tr><td style=\"text-align: left;\">Oct 09, 2021</td><td>$418.76</td><td>$425.97</td><td>$416.82</td><td>$421.55</td><td>$1,404,867,667</td><td style=\"text-align: right;\">$70,878,080,193</td></tr><tr><td style=\"text-align: left;\">Oct 08, 2021</td><td>$438.48</td><td>$441.51</td><td>$416.71</td><td>$419.10</td><td>$2,678,048,368</td><td style=\"text-align: right;\">$70,466,575,273</td></tr><tr><td style=\"text-align: left;\">Oct 07, 2021</td><td>$434.96</td><td>$449.94</td><td>$424.31</td><td>$438.76</td><td>$1,962,989,705</td><td style=\"text-align: right;\">$73,772,100,893</td></tr><tr><td style=\"text-align: left;\">Oct 06, 2021</td><td>$442.41</td><td>$442.48</td><td>$415.67</td><td>$435.40</td><td>$2,006,344,571</td><td style=\"text-align: right;\">$73,207,096,124</td></tr><tr><td style=\"text-align: left;\">Oct 05, 2021</td><td>$426.21</td><td>$443.91</td><td>$424.11</td><td>$442.71</td><td>$1,526,827,785</td><td style=\"text-align: right;\">$74,435,300,873</td></tr><tr><td style=\"text-align: left;\">Oct 04, 2021</td><td>$430.58</td><td>$430.73</td><td>$411.95</td><td>$425.75</td><td>$1,647,171,955</td><td style=\"text-align: right;\">$71,584,155,969</td></tr><tr><td style=\"text-align: left;\">Oct 03, 2021</td><td>$427.35</td><td>$437.10</td><td>$421.94</td><td>$430.51</td><td>$1,470,899,248</td><td style=\"text-align: right;\">$72,384,475,442</td></tr><tr><td style=\"text-align: left;\">Oct 02, 2021</td><td>$421.48</td><td>$438.11</td><td>$411.04</td><td>$428.10</td><td>$1,740,937,420</td><td style=\"text-align: right;\">$71,979,183,952</td></tr><tr><td style=\"text-align: left;\">Oct 01, 2021</td><td>$387.64</td><td>$423.34</td><td>$382.13</td><td>$421.64</td><td>$2,162,493,378</td><td style=\"text-align: right;\">$70,893,833,854</td></tr><tr><td style=\"text-align: left;\">Sep 30, 2021</td><td>$367.79</td><td>$388.27</td><td>$366.64</td><td>$387.06</td><td>$1,796,235,646</td><td style=\"text-align: right;\">$65,078,675,600</td></tr><tr><td style=\"text-align: left;\">Sep 29, 2021</td><td>$333.40</td><td>$375.01</td><td>$331.45</td><td>$367.99</td><td>$2,385,693,434</td><td style=\"text-align: right;\">$61,872,678,075</td></tr><tr><td style=\"text-align: left;\">Sep 28, 2021</td><td>$335.81</td><td>$344.28</td><td>$330.07</td><td>$333.03</td><td>$1,294,330,921</td><td style=\"text-align: right;\">$55,995,113,612</td></tr><tr><td style=\"text-align: left;\">Sep 27, 2021</td><td>$344.65</td><td>$357.29</td><td>$335.79</td><td>$336.19</td><td>$1,507,056,912</td><td style=\"text-align: right;\">$56,526,197,213</td></tr><tr><td style=\"text-align: left;\">Sep 26, 2021</td><td>$349.88</td><td>$352.70</td><td>$320.37</td><td>$344.18</td><td>$1,958,526,741</td><td style=\"text-align: right;\">$57,869,701,517</td></tr><tr><td style=\"text-align: left;\">Sep 25, 2021</td><td>$355.41</td><td>$360.63</td><td>$344.19</td><td>$349.88</td><td>$1,388,464,569</td><td style=\"text-align: right;\">$58,827,802,628</td></tr><tr><td style=\"text-align: left;\">Sep 24, 2021</td><td>$383.81</td><td>$385.32</td><td>$335.51</td><td>$355.32</td><td>$2,081,157,733</td><td style=\"text-align: right;\">$59,741,824,473</td></tr><tr><td style=\"text-align: left;\">Sep 23, 2021</td><td>$379.16</td><td>$384.78</td><td>$369.65</td><td>$383.82</td><td>$1,576,382,603</td><td style=\"text-align: right;\">$64,534,425,211</td></tr><tr><td style=\"text-align: left;\">Sep 22, 2021</td><td>$343.67</td><td>$380.01</td><td>$342.68</td><td>$379.44</td><td>$1,678,913,732</td><td style=\"text-align: right;\">$63,797,974,297</td></tr></tbody>\n"
          ]
        }
      ]
    },
    {
      "cell_type": "code",
      "source": [
        "#getting the first column of the first row \n",
        "print(ac.find('tbody').find_all('td')[0].prettify())\n",
        "\n",
        "#getting the second column of the first row \n",
        "print(ac.find('tbody').find_all('td')[1].prettify())\n",
        "\n",
        "for col in range(7):\n",
        "    print(ac.find('tbody').find_all('td')[col].prettify())"
      ],
      "metadata": {
        "colab": {
          "base_uri": "https://localhost:8080/"
        },
        "id": "QqqK21mQSwrI",
        "outputId": "2adaf5ef-28cd-46c2-dd7a-742f5c57da03"
      },
      "execution_count": null,
      "outputs": [
        {
          "output_type": "stream",
          "name": "stdout",
          "text": [
            "<td style=\"text-align: left;\">\n",
            " Apr 21, 2022\n",
            "</td>\n",
            "\n",
            "<td>\n",
            " $418.32\n",
            "</td>\n",
            "\n",
            "<td style=\"text-align: left;\">\n",
            " Apr 21, 2022\n",
            "</td>\n",
            "\n",
            "<td>\n",
            " $418.32\n",
            "</td>\n",
            "\n",
            "<td>\n",
            " $425.47\n",
            "</td>\n",
            "\n",
            "<td>\n",
            " $402.08\n",
            "</td>\n",
            "\n",
            "<td>\n",
            " $405.02\n",
            "</td>\n",
            "\n",
            "<td>\n",
            " $2,190,281,843\n",
            "</td>\n",
            "\n",
            "<td style=\"text-align: right;\">\n",
            " $66,130,679,968\n",
            "</td>\n"
          ]
        }
      ]
    },
    {
      "cell_type": "code",
      "source": [
        "# print the first 3 rows\n",
        "for row in range(3):\n",
        "    for col in range(7):\n",
        "        print([col][row])\n",
        "        print(ac.find('tbody').find_all('td')[row*7+col].text.strip())\n",
        "    print()"
      ],
      "metadata": {
        "colab": {
          "base_uri": "https://localhost:8080/",
          "height": 508
        },
        "id": "P48vOtG8Swtr",
        "outputId": "bf7f5629-140b-4a96-caee-41b390e241dc"
      },
      "execution_count": null,
      "outputs": [
        {
          "output_type": "stream",
          "name": "stdout",
          "text": [
            "0\n",
            "Apr 21, 2022\n",
            "1\n",
            "$418.32\n",
            "2\n",
            "$425.47\n",
            "3\n",
            "$402.08\n",
            "4\n",
            "$405.02\n",
            "5\n",
            "$2,190,281,843\n",
            "6\n",
            "$66,130,679,968\n",
            "\n"
          ]
        },
        {
          "output_type": "error",
          "ename": "IndexError",
          "evalue": "ignored",
          "traceback": [
            "\u001b[0;31m---------------------------------------------------------------------------\u001b[0m",
            "\u001b[0;31mIndexError\u001b[0m                                Traceback (most recent call last)",
            "\u001b[0;32m<ipython-input-31-4d1fa52e3293>\u001b[0m in \u001b[0;36m<module>\u001b[0;34m()\u001b[0m\n\u001b[1;32m      2\u001b[0m \u001b[0;32mfor\u001b[0m \u001b[0mrow\u001b[0m \u001b[0;32min\u001b[0m \u001b[0mrange\u001b[0m\u001b[0;34m(\u001b[0m\u001b[0;36m3\u001b[0m\u001b[0;34m)\u001b[0m\u001b[0;34m:\u001b[0m\u001b[0;34m\u001b[0m\u001b[0;34m\u001b[0m\u001b[0m\n\u001b[1;32m      3\u001b[0m     \u001b[0;32mfor\u001b[0m \u001b[0mcol\u001b[0m \u001b[0;32min\u001b[0m \u001b[0mrange\u001b[0m\u001b[0;34m(\u001b[0m\u001b[0;36m7\u001b[0m\u001b[0;34m)\u001b[0m\u001b[0;34m:\u001b[0m\u001b[0;34m\u001b[0m\u001b[0;34m\u001b[0m\u001b[0m\n\u001b[0;32m----> 4\u001b[0;31m         \u001b[0mprint\u001b[0m\u001b[0;34m(\u001b[0m\u001b[0;34m[\u001b[0m\u001b[0mcol\u001b[0m\u001b[0;34m]\u001b[0m\u001b[0;34m[\u001b[0m\u001b[0mrow\u001b[0m\u001b[0;34m]\u001b[0m\u001b[0;34m)\u001b[0m\u001b[0;34m\u001b[0m\u001b[0;34m\u001b[0m\u001b[0m\n\u001b[0m\u001b[1;32m      5\u001b[0m         \u001b[0mprint\u001b[0m\u001b[0;34m(\u001b[0m\u001b[0mac\u001b[0m\u001b[0;34m.\u001b[0m\u001b[0mfind\u001b[0m\u001b[0;34m(\u001b[0m\u001b[0;34m'tbody'\u001b[0m\u001b[0;34m)\u001b[0m\u001b[0;34m.\u001b[0m\u001b[0mfind_all\u001b[0m\u001b[0;34m(\u001b[0m\u001b[0;34m'td'\u001b[0m\u001b[0;34m)\u001b[0m\u001b[0;34m[\u001b[0m\u001b[0mrow\u001b[0m\u001b[0;34m*\u001b[0m\u001b[0;36m7\u001b[0m\u001b[0;34m+\u001b[0m\u001b[0mcol\u001b[0m\u001b[0;34m]\u001b[0m\u001b[0;34m.\u001b[0m\u001b[0mtext\u001b[0m\u001b[0;34m.\u001b[0m\u001b[0mstrip\u001b[0m\u001b[0;34m(\u001b[0m\u001b[0;34m)\u001b[0m\u001b[0;34m)\u001b[0m\u001b[0;34m\u001b[0m\u001b[0;34m\u001b[0m\u001b[0m\n\u001b[1;32m      6\u001b[0m     \u001b[0mprint\u001b[0m\u001b[0;34m(\u001b[0m\u001b[0;34m)\u001b[0m\u001b[0;34m\u001b[0m\u001b[0;34m\u001b[0m\u001b[0m\n",
            "\u001b[0;31mIndexError\u001b[0m: list index out of range"
          ]
        }
      ]
    },
    {
      "cell_type": "code",
      "source": [
        "#printing the first 3 rows \n",
        "for row in range(100):\n",
        "    col1 = 0 \n",
        "    col2 = 0 \n",
        "    col3 = 0 \n",
        "    col4 = 0\n",
        "    col5 = 0\n",
        "    \n",
        "    for col in range(5):\n",
        "        if col == 0:\n",
        "            col1 = ac.find('tbody').find_all('td')[row*7+col].text.strip()\n",
        "        if col == 1:\n",
        "            col2 = ac.find('tbody').find_all('td')[row*7+col].text.strip()\n",
        "        if col == 2:\n",
        "            col3 = ac.find('tbody').find_all('td')[row*7+col].text.strip()\n",
        "        if col == 3:\n",
        "            col4 = ac.find('tbody').find_all('td')[row*7+col].text.strip()\n",
        "        if col == 4:\n",
        "            col5 = ac.find('tbody').find_all('td')[row*7+col].text.strip()\n",
        "            \n",
        "    with open(crypto, 'a', newline = '') as file:\n",
        "        writer = csv.writer(file)\n",
        "        writer.writerow([row, \"BNB\", col1, col2, col3, col4, col5])\n",
        "#     print(row, col, soup.find('tbody').find_all('td')[row*7+col].text.strip())\n",
        "#     print()"
      ],
      "metadata": {
        "id": "WWLXLrwqSwwm"
      },
      "execution_count": null,
      "outputs": []
    },
    {
      "cell_type": "code",
      "source": [
        ""
      ],
      "metadata": {
        "id": "Yr4GaxFCSwzN"
      },
      "execution_count": null,
      "outputs": []
    },
    {
      "cell_type": "code",
      "source": [
        ""
      ],
      "metadata": {
        "id": "mAv2Jr-3So4r"
      },
      "execution_count": null,
      "outputs": []
    },
    {
      "cell_type": "code",
      "source": [
        "HTMLFileToBeOpened = open(\"/content/drive/MyDrive/DMT/Project/Terra.html\", \"r\")"
      ],
      "metadata": {
        "id": "sB7y0BVwS5dH"
      },
      "execution_count": null,
      "outputs": []
    },
    {
      "cell_type": "code",
      "source": [
        "mainpage = HTMLFileToBeOpened.read()\n",
        "soup = BeautifulSoup(mainpage, 'lxml')"
      ],
      "metadata": {
        "id": "vbyDJGs7S5gR"
      },
      "execution_count": null,
      "outputs": []
    },
    {
      "cell_type": "code",
      "source": [
        "ad = soup.find('div', {\"class\" : 'b4d71h-2 hgYnhQ'})"
      ],
      "metadata": {
        "id": "DEUzEme8S-FN"
      },
      "execution_count": null,
      "outputs": []
    },
    {
      "cell_type": "code",
      "source": [
        "print(ad.find('tbody'))"
      ],
      "metadata": {
        "colab": {
          "base_uri": "https://localhost:8080/"
        },
        "id": "uFFpQVzhS-IP",
        "outputId": "80b328c6-4890-44bf-b360-0b0e2c96476d"
      },
      "execution_count": null,
      "outputs": [
        {
          "output_type": "stream",
          "name": "stdout",
          "text": [
            "<tbody><tr><td style=\"text-align: left;\">Apr 21, 2022</td><td>$94.94</td><td>$99.24</td><td>$90.33</td><td>$90.80</td><td>$2,322,037,265</td><td style=\"text-align: right;\">$31,945,582,074</td></tr><tr><td style=\"text-align: left;\">Apr 20, 2022</td><td>$95.57</td><td>$97.25</td><td>$93.63</td><td>$94.96</td><td>$2,149,057,802</td><td style=\"text-align: right;\">$33,513,619,180</td></tr><tr><td style=\"text-align: left;\">Apr 19, 2022</td><td>$91.03</td><td>$95.82</td><td>$88.65</td><td>$95.62</td><td>$2,480,163,480</td><td style=\"text-align: right;\">$33,854,438,396</td></tr><tr><td style=\"text-align: left;\">Apr 18, 2022</td><td>$77.45</td><td>$91.26</td><td>$75.95</td><td>$91.07</td><td>$3,130,301,688</td><td style=\"text-align: right;\">$32,369,755,711</td></tr><tr><td style=\"text-align: left;\">Apr 17, 2022</td><td>$81.00</td><td>$82.40</td><td>$77.29</td><td>$77.43</td><td>$1,068,176,019</td><td style=\"text-align: right;\">$27,618,721,595</td></tr><tr><td style=\"text-align: left;\">Apr 16, 2022</td><td>$80.35</td><td>$81.74</td><td>$80.11</td><td>$81.01</td><td>$818,452,363</td><td style=\"text-align: right;\">$29,012,469,979</td></tr><tr><td style=\"text-align: left;\">Apr 15, 2022</td><td>$81.66</td><td>$82.61</td><td>$79.42</td><td>$80.35</td><td>$1,252,593,352</td><td style=\"text-align: right;\">$28,889,012,392</td></tr><tr><td style=\"text-align: left;\">Apr 14, 2022</td><td>$87.73</td><td>$89.65</td><td>$79.86</td><td>$81.65</td><td>$1,954,695,691</td><td style=\"text-align: right;\">$29,469,613,153</td></tr><tr><td style=\"text-align: left;\">Apr 13, 2022</td><td>$84.51</td><td>$87.90</td><td>$82.91</td><td>$87.64</td><td>$1,844,888,166</td><td style=\"text-align: right;\">$30,874,402,173</td></tr><tr><td style=\"text-align: left;\">Apr 12, 2022</td><td>$82.44</td><td>$88.24</td><td>$81.51</td><td>$84.50</td><td>$2,398,039,345</td><td style=\"text-align: right;\">$29,880,066,688</td></tr><tr><td style=\"text-align: left;\">Apr 11, 2022</td><td>$92.31</td><td>$92.31</td><td>$81.20</td><td>$82.39</td><td>$3,370,955,347</td><td style=\"text-align: right;\">$29,233,156,024</td></tr><tr><td style=\"text-align: left;\">Apr 10, 2022</td><td>$97.39</td><td>$97.45</td><td>$92.53</td><td>$92.58</td><td>$1,463,279,242</td><td style=\"text-align: right;\">$32,861,203,910</td></tr><tr><td style=\"text-align: left;\">Apr 09, 2022</td><td>$94.56</td><td>$97.42</td><td>$92.64</td><td>$97.42</td><td>$1,883,185,416</td><td style=\"text-align: right;\">$34,573,799,015</td></tr><tr><td style=\"text-align: left;\">Apr 08, 2022</td><td>$103.58</td><td>$106.46</td><td>$93.75</td><td>$94.57</td><td>$3,129,936,888</td><td style=\"text-align: right;\">$33,552,949,615</td></tr><tr><td style=\"text-align: left;\">Apr 07, 2022</td><td>$107.90</td><td>$109.39</td><td>$100.88</td><td>$103.56</td><td>$2,526,633,558</td><td style=\"text-align: right;\">$36,434,053,283</td></tr><tr><td style=\"text-align: left;\">Apr 06, 2022</td><td>$116.13</td><td>$117.94</td><td>$105.84</td><td>$107.87</td><td>$3,561,484,349</td><td style=\"text-align: right;\">$37,952,961,341</td></tr><tr><td style=\"text-align: left;\">Apr 05, 2022</td><td>$116.42</td><td>$119.18</td><td>$114.11</td><td>$116.11</td><td>$2,478,502,338</td><td style=\"text-align: right;\">$40,881,699,067</td></tr><tr><td style=\"text-align: left;\">Apr 04, 2022</td><td>$113.01</td><td>$117.30</td><td>$109.73</td><td>$116.41</td><td>$2,531,135,817</td><td style=\"text-align: right;\">$41,045,442,327</td></tr><tr><td style=\"text-align: left;\">Apr 03, 2022</td><td>$115.14</td><td>$117.91</td><td>$111.79</td><td>$113.07</td><td>$2,169,660,757</td><td style=\"text-align: right;\">$39,928,188,007</td></tr><tr><td style=\"text-align: left;\">Apr 02, 2022</td><td>$105.82</td><td>$117.03</td><td>$105.76</td><td>$115.19</td><td>$2,935,534,125</td><td style=\"text-align: right;\">$40,735,917,822</td></tr><tr><td style=\"text-align: left;\">Apr 01, 2022</td><td>$103.05</td><td>$107.87</td><td>$99.01</td><td>$105.78</td><td>$2,187,214,184</td><td style=\"text-align: right;\">$37,448,049,358</td></tr><tr><td style=\"text-align: left;\">Mar 31, 2022</td><td>$106.00</td><td>$108.68</td><td>$102.02</td><td>$103.01</td><td>$2,047,329,362</td><td style=\"text-align: right;\">$36,521,590,818</td></tr><tr><td style=\"text-align: left;\">Mar 30, 2022</td><td>$108.98</td><td>$111.01</td><td>$104.26</td><td>$106.02</td><td>$2,627,552,470</td><td style=\"text-align: right;\">$37,639,127,611</td></tr><tr><td style=\"text-align: left;\">Mar 29, 2022</td><td>$97.27</td><td>$109.66</td><td>$97.23</td><td>$108.99</td><td>$4,234,627,174</td><td style=\"text-align: right;\">$38,741,471,175</td></tr><tr><td style=\"text-align: left;\">Mar 28, 2022</td><td>$94.15</td><td>$101.51</td><td>$93.03</td><td>$97.33</td><td>$2,840,626,725</td><td style=\"text-align: right;\">$34,634,369,137</td></tr><tr><td style=\"text-align: left;\">Mar 27, 2022</td><td>$91.38</td><td>$94.39</td><td>$89.80</td><td>$94.15</td><td>$1,014,543,759</td><td style=\"text-align: right;\">$33,552,358,835</td></tr><tr><td style=\"text-align: left;\">Mar 26, 2022</td><td>$90.42</td><td>$91.88</td><td>$89.11</td><td>$91.39</td><td>$998,200,982</td><td style=\"text-align: right;\">$32,647,394,369</td></tr><tr><td style=\"text-align: left;\">Mar 25, 2022</td><td>$93.85</td><td>$94.81</td><td>$89.22</td><td>$90.42</td><td>$1,605,307,742</td><td style=\"text-align: right;\">$32,430,534,262</td></tr><tr><td style=\"text-align: left;\">Mar 24, 2022</td><td>$94.91</td><td>$95.66</td><td>$92.02</td><td>$93.86</td><td>$1,966,311,344</td><td style=\"text-align: right;\">$33,779,762,262</td></tr><tr><td style=\"text-align: left;\">Mar 23, 2022</td><td>$93.02</td><td>$96.48</td><td>$92.47</td><td>$94.92</td><td>$1,747,359,666</td><td style=\"text-align: right;\">$34,317,252,565</td></tr><tr><td style=\"text-align: left;\">Mar 22, 2022</td><td>$95.92</td><td>$96.30</td><td>$92.41</td><td>$93.00</td><td>$1,998,402,048</td><td style=\"text-align: right;\">$33,687,300,091</td></tr><tr><td style=\"text-align: left;\">Mar 21, 2022</td><td>$90.53</td><td>$97.55</td><td>$90.52</td><td>$95.95</td><td>$2,861,632,220</td><td style=\"text-align: right;\">$34,874,561,450</td></tr><tr><td style=\"text-align: left;\">Mar 20, 2022</td><td>$92.11</td><td>$94.43</td><td>$90.15</td><td>$90.53</td><td>$1,843,608,272</td><td style=\"text-align: right;\">$33,016,693,269</td></tr><tr><td style=\"text-align: left;\">Mar 19, 2022</td><td>$88.58</td><td>$93.39</td><td>$87.59</td><td>$92.10</td><td>$2,230,564,968</td><td style=\"text-align: right;\">$33,677,187,744</td></tr><tr><td style=\"text-align: left;\">Mar 18, 2022</td><td>$86.89</td><td>$88.64</td><td>$82.85</td><td>$88.61</td><td>$2,524,611,974</td><td style=\"text-align: right;\">$32,448,937,292</td></tr><tr><td style=\"text-align: left;\">Mar 17, 2022</td><td>$89.26</td><td>$90.23</td><td>$86.66</td><td>$86.91</td><td>$1,846,049,132</td><td style=\"text-align: right;\">$31,944,969,343</td></tr><tr><td style=\"text-align: left;\">Mar 16, 2022</td><td>$88.64</td><td>$90.44</td><td>$86.48</td><td>$89.28</td><td>$3,129,319,666</td><td style=\"text-align: right;\">$32,943,789,834</td></tr><tr><td style=\"text-align: left;\">Mar 15, 2022</td><td>$94.87</td><td>$95.46</td><td>$88.06</td><td>$88.63</td><td>$2,865,155,111</td><td style=\"text-align: right;\">$32,842,256,043</td></tr><tr><td style=\"text-align: left;\">Mar 14, 2022</td><td>$87.59</td><td>$94.85</td><td>$86.90</td><td>$94.85</td><td>$3,472,398,646</td><td style=\"text-align: right;\">$35,307,179,078</td></tr><tr><td style=\"text-align: left;\">Mar 13, 2022</td><td>$86.12</td><td>$92.42</td><td>$85.84</td><td>$87.62</td><td>$2,537,512,234</td><td style=\"text-align: right;\">$32,678,817,859</td></tr><tr><td style=\"text-align: left;\">Mar 12, 2022</td><td>$88.25</td><td>$92.35</td><td>$86.13</td><td>$86.14</td><td>$2,270,725,064</td><td style=\"text-align: right;\">$32,203,317,176</td></tr><tr><td style=\"text-align: left;\">Mar 11, 2022</td><td>$101.60</td><td>$101.60</td><td>$88.18</td><td>$88.22</td><td>$4,871,129,056</td><td style=\"text-align: right;\">$33,106,373,327</td></tr><tr><td style=\"text-align: left;\">Mar 10, 2022</td><td>$99.38</td><td>$103.92</td><td>$93.52</td><td>$101.59</td><td>$5,826,319,007</td><td style=\"text-align: right;\">$36,748,141,331</td></tr><tr><td style=\"text-align: left;\">Mar 09, 2022</td><td>$85.50</td><td>$104.58</td><td>$85.18</td><td>$99.45</td><td>$6,039,117,098</td><td style=\"text-align: right;\">$36,120,890,992</td></tr><tr><td style=\"text-align: left;\">Mar 08, 2022</td><td>$77.95</td><td>$86.83</td><td>$77.60</td><td>$85.50</td><td>$3,265,421,261</td><td style=\"text-align: right;\">$31,177,518,571</td></tr><tr><td style=\"text-align: left;\">Mar 07, 2022</td><td>$79.14</td><td>$83.79</td><td>$75.82</td><td>$77.94</td><td>$3,100,537,030</td><td style=\"text-align: right;\">$28,562,987,231</td></tr><tr><td style=\"text-align: left;\">Mar 06, 2022</td><td>$87.42</td><td>$88.18</td><td>$78.75</td><td>$79.12</td><td>$2,728,755,239</td><td style=\"text-align: right;\">$29,114,643,342</td></tr><tr><td style=\"text-align: left;\">Mar 05, 2022</td><td>$83.34</td><td>$88.40</td><td>$80.63</td><td>$87.41</td><td>$2,911,211,299</td><td style=\"text-align: right;\">$32,294,799,217</td></tr><tr><td style=\"text-align: left;\">Mar 04, 2022</td><td>$90.38</td><td>$93.20</td><td>$83.27</td><td>$83.27</td><td>$3,795,185,337</td><td style=\"text-align: right;\">$30,884,811,352</td></tr><tr><td style=\"text-align: left;\">Mar 03, 2022</td><td>$92.18</td><td>$94.01</td><td>$86.98</td><td>$90.31</td><td>$3,252,740,401</td><td style=\"text-align: right;\">$33,623,226,001</td></tr><tr><td style=\"text-align: left;\">Mar 02, 2022</td><td>$89.55</td><td>$96.45</td><td>$88.53</td><td>$92.11</td><td>$4,701,589,889</td><td style=\"text-align: right;\">$34,422,033,521</td></tr><tr><td style=\"text-align: left;\">Mar 01, 2022</td><td>$91.17</td><td>$94.41</td><td>$86.28</td><td>$89.54</td><td>$4,662,381,579</td><td style=\"text-align: right;\">$33,589,191,563</td></tr><tr><td style=\"text-align: left;\">Feb 28, 2022</td><td>$72.60</td><td>$92.41</td><td>$70.57</td><td>$91.14</td><td>$5,007,692,834</td><td style=\"text-align: right;\">$34,300,483,896</td></tr><tr><td style=\"text-align: left;\">Feb 27, 2022</td><td>$78.06</td><td>$78.80</td><td>$71.44</td><td>$72.64</td><td>$3,108,800,926</td><td style=\"text-align: right;\">$27,433,571,502</td></tr><tr><td style=\"text-align: left;\">Feb 26, 2022</td><td>$73.16</td><td>$79.51</td><td>$72.42</td><td>$78.08</td><td>$3,159,163,058</td><td style=\"text-align: right;\">$29,621,245,348</td></tr><tr><td style=\"text-align: left;\">Feb 25, 2022</td><td>$65.37</td><td>$73.29</td><td>$64.06</td><td>$73.17</td><td>$4,158,265,095</td><td style=\"text-align: right;\">$27,868,114,968</td></tr><tr><td style=\"text-align: left;\">Feb 24, 2022</td><td>$59.63</td><td>$65.46</td><td>$50.52</td><td>$65.39</td><td>$6,147,402,521</td><td style=\"text-align: right;\">$25,017,719,459</td></tr><tr><td style=\"text-align: left;\">Feb 23, 2022</td><td>$54.77</td><td>$63.99</td><td>$54.71</td><td>$59.65</td><td>$3,103,073,199</td><td style=\"text-align: right;\">$22,977,426,376</td></tr><tr><td style=\"text-align: left;\">Feb 22, 2022</td><td>$50.16</td><td>$55.25</td><td>$48.59</td><td>$54.78</td><td>$2,312,184,928</td><td style=\"text-align: right;\">$21,195,466,382</td></tr><tr><td style=\"text-align: left;\">Feb 21, 2022</td><td>$49.35</td><td>$53.61</td><td>$49.02</td><td>$50.18</td><td>$2,011,987,505</td><td style=\"text-align: right;\">$19,482,679,629</td></tr><tr><td style=\"text-align: left;\">Feb 20, 2022</td><td>$50.44</td><td>$50.66</td><td>$47.48</td><td>$49.36</td><td>$1,092,855,688</td><td style=\"text-align: right;\">$19,226,836,917</td></tr><tr><td style=\"text-align: left;\">Feb 19, 2022</td><td>$50.70</td><td>$52.82</td><td>$50.12</td><td>$50.43</td><td>$881,733,436</td><td style=\"text-align: right;\">$19,670,261,385</td></tr><tr><td style=\"text-align: left;\">Feb 18, 2022</td><td>$50.27</td><td>$51.80</td><td>$49.23</td><td>$50.73</td><td>$1,263,578,810</td><td style=\"text-align: right;\">$19,887,151,941</td></tr><tr><td style=\"text-align: left;\">Feb 17, 2022</td><td>$56.03</td><td>$56.95</td><td>$50.22</td><td>$50.25</td><td>$1,165,569,230</td><td style=\"text-align: right;\">$19,821,801,772</td></tr><tr><td style=\"text-align: left;\">Feb 16, 2022</td><td>$56.81</td><td>$58.18</td><td>$55.23</td><td>$56.06</td><td>$963,196,469</td><td style=\"text-align: right;\">$22,203,787,935</td></tr><tr><td style=\"text-align: left;\">Feb 15, 2022</td><td>$53.86</td><td>$56.98</td><td>$53.81</td><td>$56.81</td><td>$1,116,001,640</td><td style=\"text-align: right;\">$22,580,748,407</td></tr><tr><td style=\"text-align: left;\">Feb 14, 2022</td><td>$51.76</td><td>$54.47</td><td>$51.57</td><td>$53.85</td><td>$1,188,035,703</td><td style=\"text-align: right;\">$21,475,672,814</td></tr><tr><td style=\"text-align: left;\">Feb 13, 2022</td><td>$52.01</td><td>$53.68</td><td>$51.10</td><td>$51.79</td><td>$879,534,650</td><td style=\"text-align: right;\">$20,575,427,609</td></tr><tr><td style=\"text-align: left;\">Feb 12, 2022</td><td>$50.39</td><td>$53.57</td><td>$49.58</td><td>$52.00</td><td>$1,242,345,746</td><td style=\"text-align: right;\">$20,732,710,633</td></tr><tr><td style=\"text-align: left;\">Feb 11, 2022</td><td>$52.21</td><td>$54.76</td><td>$50.01</td><td>$50.39</td><td>$1,668,320,882</td><td style=\"text-align: right;\">$20,166,929,922</td></tr><tr><td style=\"text-align: left;\">Feb 10, 2022</td><td>$57.34</td><td>$57.53</td><td>$52.10</td><td>$52.17</td><td>$2,020,644,023</td><td style=\"text-align: right;\">$20,941,543,527</td></tr><tr><td style=\"text-align: left;\">Feb 09, 2022</td><td>$57.26</td><td>$57.87</td><td>$54.63</td><td>$57.29</td><td>$1,369,057,270</td><td style=\"text-align: right;\">$22,993,560,423</td></tr><tr><td style=\"text-align: left;\">Feb 08, 2022</td><td>$59.49</td><td>$59.79</td><td>$55.14</td><td>$57.29</td><td>$1,900,551,969</td><td style=\"text-align: right;\">$22,992,841,139</td></tr><tr><td style=\"text-align: left;\">Feb 07, 2022</td><td>$56.10</td><td>$60.56</td><td>$54.51</td><td>$59.47</td><td>$2,145,919,403</td><td style=\"text-align: right;\">$23,858,556,765</td></tr><tr><td style=\"text-align: left;\">Feb 06, 2022</td><td>$55.40</td><td>$57.16</td><td>$53.39</td><td>$56.10</td><td>$1,300,455,898</td><td style=\"text-align: right;\">$22,492,358,594</td></tr><tr><td style=\"text-align: left;\">Feb 05, 2022</td><td>$53.92</td><td>$57.91</td><td>$53.56</td><td>$55.37</td><td>$1,974,965,818</td><td style=\"text-align: right;\">$22,199,250,933</td></tr><tr><td style=\"text-align: left;\">Feb 04, 2022</td><td>$50.95</td><td>$53.89</td><td>$49.33</td><td>$53.89</td><td>$2,017,445,569</td><td style=\"text-align: right;\">$21,602,021,597</td></tr><tr><td style=\"text-align: left;\">Feb 03, 2022</td><td>$47.55</td><td>$51.37</td><td>$46.65</td><td>$51.03</td><td>$1,708,879,754</td><td style=\"text-align: right;\">$20,447,193,968</td></tr><tr><td style=\"text-align: left;\">Feb 02, 2022</td><td>$52.04</td><td>$53.37</td><td>$47.45</td><td>$47.57</td><td>$1,684,337,257</td><td style=\"text-align: right;\">$19,063,904,000</td></tr><tr><td style=\"text-align: left;\">Feb 01, 2022</td><td>$52.27</td><td>$53.99</td><td>$50.82</td><td>$52.02</td><td>$1,901,818,935</td><td style=\"text-align: right;\">$20,853,950,523</td></tr><tr><td style=\"text-align: left;\">Jan 31, 2022</td><td>$46.31</td><td>$52.37</td><td>$43.57</td><td>$52.34</td><td>$2,522,178,621</td><td style=\"text-align: right;\">$20,974,931,807</td></tr><tr><td style=\"text-align: left;\">Jan 30, 2022</td><td>$50.83</td><td>$51.24</td><td>$45.61</td><td>$46.27</td><td>$1,589,568,944</td><td style=\"text-align: right;\">$18,545,785,693</td></tr><tr><td style=\"text-align: left;\">Jan 29, 2022</td><td>$50.60</td><td>$53.53</td><td>$50.34</td><td>$50.79</td><td>$2,190,728,655</td><td style=\"text-align: right;\">$20,361,122,029</td></tr><tr><td style=\"text-align: left;\">Jan 28, 2022</td><td>$54.27</td><td>$55.19</td><td>$47.72</td><td>$50.60</td><td>$3,337,573,995</td><td style=\"text-align: right;\">$20,273,301,828</td></tr><tr><td style=\"text-align: left;\">Jan 27, 2022</td><td>$58.83</td><td>$61.25</td><td>$50.99</td><td>$54.32</td><td>$2,296,699,260</td><td style=\"text-align: right;\">$21,781,385,852</td></tr><tr><td style=\"text-align: left;\">Jan 26, 2022</td><td>$62.82</td><td>$66.18</td><td>$58.08</td><td>$58.84</td><td>$2,865,279,574</td><td style=\"text-align: right;\">$23,643,379,341</td></tr><tr><td style=\"text-align: left;\">Jan 25, 2022</td><td>$65.97</td><td>$66.74</td><td>$62.02</td><td>$62.83</td><td>$2,595,272,077</td><td style=\"text-align: right;\">$25,254,791,133</td></tr><tr><td style=\"text-align: left;\">Jan 24, 2022</td><td>$69.76</td><td>$69.77</td><td>$59.46</td><td>$65.97</td><td>$4,266,933,267</td><td style=\"text-align: right;\">$26,533,998,032</td></tr><tr><td style=\"text-align: left;\">Jan 23, 2022</td><td>$62.69</td><td>$70.05</td><td>$62.69</td><td>$69.79</td><td>$2,761,811,982</td><td style=\"text-align: right;\">$28,144,622,469</td></tr><tr><td style=\"text-align: left;\">Jan 22, 2022</td><td>$64.88</td><td>$65.78</td><td>$54.35</td><td>$62.57</td><td>$4,383,257,980</td><td style=\"text-align: right;\">$25,322,234,538</td></tr><tr><td style=\"text-align: left;\">Jan 21, 2022</td><td>$77.14</td><td>$80.55</td><td>$62.16</td><td>$64.84</td><td>$3,814,759,779</td><td style=\"text-align: right;\">$23,067,562,970</td></tr><tr><td style=\"text-align: left;\">Jan 20, 2022</td><td>$81.26</td><td>$84.83</td><td>$76.46</td><td>$76.99</td><td>$1,145,730,437</td><td style=\"text-align: right;\">$27,485,414,822</td></tr><tr><td style=\"text-align: left;\">Jan 19, 2022</td><td>$80.61</td><td>$81.92</td><td>$75.98</td><td>$81.25</td><td>$2,094,065,955</td><td style=\"text-align: right;\">$29,039,621,483</td></tr><tr><td style=\"text-align: left;\">Jan 18, 2022</td><td>$77.16</td><td>$81.31</td><td>$74.16</td><td>$80.57</td><td>$2,126,201,592</td><td style=\"text-align: right;\">$28,841,926,603</td></tr><tr><td style=\"text-align: left;\">Jan 17, 2022</td><td>$87.02</td><td>$87.14</td><td>$76.08</td><td>$77.18</td><td>$1,858,065,127</td><td style=\"text-align: right;\">$27,632,715,825</td></tr><tr><td style=\"text-align: left;\">Jan 16, 2022</td><td>$87.51</td><td>$87.52</td><td>$84.80</td><td>$86.96</td><td>$1,423,445,475</td><td style=\"text-align: right;\">$31,185,198,012</td></tr><tr><td style=\"text-align: left;\">Jan 15, 2022</td><td>$81.60</td><td>$87.80</td><td>$80.56</td><td>$87.57</td><td>$1,586,855,347</td><td style=\"text-align: right;\">$31,440,738,502</td></tr><tr><td style=\"text-align: left;\">Jan 14, 2022</td><td>$78.06</td><td>$82.95</td><td>$76.76</td><td>$81.63</td><td>$1,828,747,076</td><td style=\"text-align: right;\">$29,322,521,129</td></tr><tr><td style=\"text-align: left;\">Jan 13, 2022</td><td>$82.03</td><td>$83.77</td><td>$78.00</td><td>$78.00</td><td>$2,445,145,680</td><td style=\"text-align: right;\">$27,814,111,078</td></tr><tr><td style=\"text-align: left;\">Jan 12, 2022</td><td>$73.64</td><td>$82.91</td><td>$72.59</td><td>$82.07</td><td>$2,508,763,810</td><td style=\"text-align: right;\">$29,301,624,229</td></tr><tr><td style=\"text-align: left;\">Jan 11, 2022</td><td>$69.45</td><td>$74.88</td><td>$68.49</td><td>$73.67</td><td>$2,026,652,480</td><td style=\"text-align: right;\">$26,313,326,423</td></tr><tr><td style=\"text-align: left;\">Jan 10, 2022</td><td>$74.49</td><td>$74.49</td><td>$65.66</td><td>$69.45</td><td>$2,852,394,573</td><td style=\"text-align: right;\">$24,846,080,429</td></tr><tr><td style=\"text-align: left;\">Jan 09, 2022</td><td>$66.95</td><td>$75.55</td><td>$65.88</td><td>$74.48</td><td>$2,317,080,034</td><td style=\"text-align: right;\">$26,692,037,535</td></tr><tr><td style=\"text-align: left;\">Jan 08, 2022</td><td>$68.72</td><td>$71.57</td><td>$62.88</td><td>$66.93</td><td>$2,330,265,265</td><td style=\"text-align: right;\">$23,989,418,206</td></tr><tr><td style=\"text-align: left;\">Jan 07, 2022</td><td>$78.48</td><td>$78.61</td><td>$68.57</td><td>$68.67</td><td>$3,323,322,055</td><td style=\"text-align: right;\">$24,624,044,148</td></tr><tr><td style=\"text-align: left;\">Jan 06, 2022</td><td>$78.58</td><td>$80.23</td><td>$74.38</td><td>$78.44</td><td>$2,115,914,311</td><td style=\"text-align: right;\">$28,161,441,399</td></tr><tr><td style=\"text-align: left;\">Jan 05, 2022</td><td>$84.58</td><td>$87.34</td><td>$74.14</td><td>$78.59</td><td>$2,186,902,547</td><td style=\"text-align: right;\">$28,253,414,359</td></tr><tr><td style=\"text-align: left;\">Jan 04, 2022</td><td>$88.80</td><td>$89.44</td><td>$84.57</td><td>$84.58</td><td>$1,648,664,157</td><td style=\"text-align: right;\">$30,443,069,521</td></tr><tr><td style=\"text-align: left;\">Jan 03, 2022</td><td>$89.38</td><td>$93.79</td><td>$88.69</td><td>$88.75</td><td>$1,769,621,856</td><td style=\"text-align: right;\">$32,025,873,981</td></tr><tr><td style=\"text-align: left;\">Jan 02, 2022</td><td>$91.40</td><td>$92.48</td><td>$88.30</td><td>$89.37</td><td>$1,332,237,742</td><td style=\"text-align: right;\">$32,335,168,165</td></tr><tr><td style=\"text-align: left;\">Jan 01, 2022</td><td>$85.51</td><td>$91.51</td><td>$85.51</td><td>$91.36</td><td>$1,533,679,848</td><td style=\"text-align: right;\">$33,053,437,381</td></tr><tr><td style=\"text-align: left;\">Dec 31, 2021</td><td>$84.77</td><td>$90.90</td><td>$84.18</td><td>$85.47</td><td>$2,046,640,966</td><td style=\"text-align: right;\">$30,922,351,070</td></tr><tr><td style=\"text-align: left;\">Dec 30, 2021</td><td>$84.10</td><td>$87.76</td><td>$81.08</td><td>$84.71</td><td>$2,142,642,372</td><td style=\"text-align: right;\">$30,667,157,583</td></tr><tr><td style=\"text-align: left;\">Dec 29, 2021</td><td>$85.21</td><td>$87.73</td><td>$82.69</td><td>$84.06</td><td>$2,573,529,251</td><td style=\"text-align: right;\">$30,459,294,937</td></tr><tr><td style=\"text-align: left;\">Dec 28, 2021</td><td>$90.85</td><td>$93.64</td><td>$83.67</td><td>$85.37</td><td>$3,402,432,487</td><td style=\"text-align: right;\">$30,960,298,694</td></tr><tr><td style=\"text-align: left;\">Dec 27, 2021</td><td>$99.56</td><td>$103.33</td><td>$89.82</td><td>$90.80</td><td>$2,986,686,990</td><td style=\"text-align: right;\">$32,955,737,524</td></tr><tr><td style=\"text-align: left;\">Dec 26, 2021</td><td>$98.25</td><td>$100.86</td><td>$95.97</td><td>$99.72</td><td>$2,316,030,431</td><td style=\"text-align: right;\">$36,262,543,328</td></tr><tr><td style=\"text-align: left;\">Dec 25, 2021</td><td>$95.83</td><td>$100.93</td><td>$95.41</td><td>$98.18</td><td>$2,719,645,648</td><td style=\"text-align: right;\">$35,766,128,646</td></tr><tr><td style=\"text-align: left;\">Dec 24, 2021</td><td>$94.20</td><td>$101.27</td><td>$93.86</td><td>$95.97</td><td>$3,887,299,961</td><td style=\"text-align: right;\">$35,074,946,311</td></tr><tr><td style=\"text-align: left;\">Dec 23, 2021</td><td>$85.37</td><td>$95.04</td><td>$84.49</td><td>$93.85</td><td>$3,941,887,685</td><td style=\"text-align: right;\">$34,456,377,975</td></tr><tr><td style=\"text-align: left;\">Dec 22, 2021</td><td>$87.30</td><td>$97.88</td><td>$84.54</td><td>$85.48</td><td>$4,658,621,232</td><td style=\"text-align: right;\">$31,512,674,410</td></tr><tr><td style=\"text-align: left;\">Dec 21, 2021</td><td>$81.92</td><td>$88.90</td><td>$79.69</td><td>$87.45</td><td>$3,025,504,029</td><td style=\"text-align: right;\">$32,396,133,628</td></tr><tr><td style=\"text-align: left;\">Dec 20, 2021</td><td>$78.21</td><td>$82.56</td><td>$72.29</td><td>$82.07</td><td>$4,116,185,091</td><td style=\"text-align: right;\">$30,550,192,156</td></tr><tr><td style=\"text-align: left;\">Dec 19, 2021</td><td>$74.24</td><td>$78.78</td><td>$72.35</td><td>$78.23</td><td>$2,292,707,388</td><td style=\"text-align: right;\">$29,259,639,595</td></tr><tr><td style=\"text-align: left;\">Dec 18, 2021</td><td>$65.73</td><td>$74.00</td><td>$62.41</td><td>$74.00</td><td>$2,114,385,682</td><td style=\"text-align: right;\">$27,742,412,135</td></tr><tr><td style=\"text-align: left;\">Dec 17, 2021</td><td>$64.22</td><td>$68.95</td><td>$60.82</td><td>$65.71</td><td>$1,975,391,453</td><td style=\"text-align: right;\">$24,715,389,880</td></tr><tr><td style=\"text-align: left;\">Dec 16, 2021</td><td>$61.67</td><td>$68.01</td><td>$61.10</td><td>$64.32</td><td>$1,919,582,737</td><td style=\"text-align: right;\">$24,202,851,315</td></tr><tr><td style=\"text-align: left;\">Dec 15, 2021</td><td>$60.18</td><td>$63.99</td><td>$54.48</td><td>$61.53</td><td>$2,167,599,311</td><td style=\"text-align: right;\">$23,151,030,077</td></tr><tr><td style=\"text-align: left;\">Dec 14, 2021</td><td>$52.83</td><td>$60.54</td><td>$52.38</td><td>$57.28</td><td>$2,466,163,255</td><td style=\"text-align: right;\">$21,580,950,141</td></tr><tr><td style=\"text-align: left;\">Dec 13, 2021</td><td>$62.03</td><td>$62.49</td><td>$52.52</td><td>$52.75</td><td>$1,883,487,110</td><td style=\"text-align: right;\">$19,913,349,878</td></tr><tr><td style=\"text-align: left;\">Dec 12, 2021</td><td>$60.09</td><td>$62.52</td><td>$57.59</td><td>$61.92</td><td>$1,424,627,922</td><td style=\"text-align: right;\">$23,430,129,954</td></tr><tr><td style=\"text-align: left;\">Dec 11, 2021</td><td>$60.99</td><td>$63.86</td><td>$57.82</td><td>$59.98</td><td>$1,958,065,105</td><td style=\"text-align: right;\">$22,718,139,559</td></tr><tr><td style=\"text-align: left;\">Dec 10, 2021</td><td>$66.53</td><td>$71.94</td><td>$60.55</td><td>$60.93</td><td>$2,603,599,691</td><td style=\"text-align: right;\">$23,081,785,080</td></tr><tr><td style=\"text-align: left;\">Dec 09, 2021</td><td>$74.98</td><td>$76.48</td><td>$65.69</td><td>$66.48</td><td>$2,964,505,735</td><td style=\"text-align: right;\">$25,249,721,551</td></tr><tr><td style=\"text-align: left;\">Dec 08, 2021</td><td>$68.78</td><td>$75.79</td><td>$65.37</td><td>$75.04</td><td>$2,701,933,809</td><td style=\"text-align: right;\">$28,605,583,673</td></tr><tr><td style=\"text-align: left;\">Dec 07, 2021</td><td>$67.24</td><td>$74.43</td><td>$65.72</td><td>$68.98</td><td>$2,996,218,671</td><td style=\"text-align: right;\">$26,428,124,894</td></tr><tr><td style=\"text-align: left;\">Dec 06, 2021</td><td>$68.15</td><td>$68.29</td><td>$59.97</td><td>$67.29</td><td>$4,041,694,460</td><td style=\"text-align: right;\">$25,847,539,653</td></tr><tr><td style=\"text-align: left;\">Dec 05, 2021</td><td>$75.11</td><td>$78.19</td><td>$65.58</td><td>$68.11</td><td>$4,569,096,546</td><td style=\"text-align: right;\">$26,270,930,242</td></tr><tr><td style=\"text-align: left;\">Dec 04, 2021</td><td>$63.66</td><td>$78.06</td><td>$50.18</td><td>$75.56</td><td>$5,655,306,465</td><td style=\"text-align: right;\">$29,300,011,878</td></tr><tr><td style=\"text-align: left;\">Dec 03, 2021</td><td>$66.32</td><td>$70.40</td><td>$63.27</td><td>$63.34</td><td>$2,679,583,113</td><td style=\"text-align: right;\">$24,490,346,892</td></tr><tr><td style=\"text-align: left;\">Dec 02, 2021</td><td>$64.07</td><td>$66.21</td><td>$61.30</td><td>$66.18</td><td>$2,352,185,242</td><td style=\"text-align: right;\">$25,702,617,285</td></tr><tr><td style=\"text-align: left;\">Dec 01, 2021</td><td>$59.63</td><td>$64.79</td><td>$55.82</td><td>$64.23</td><td>$2,289,911,025</td><td style=\"text-align: right;\">$25,043,380,158</td></tr><tr><td style=\"text-align: left;\">Nov 30, 2021</td><td>$51.67</td><td>$60.07</td><td>$50.56</td><td>$59.72</td><td>$2,490,127,674</td><td style=\"text-align: right;\">$23,349,087,738</td></tr><tr><td style=\"text-align: left;\">Nov 29, 2021</td><td>$50.15</td><td>$52.84</td><td>$47.69</td><td>$51.70</td><td>$1,406,805,745</td><td style=\"text-align: right;\">$20,260,435,121</td></tr><tr><td style=\"text-align: left;\">Nov 28, 2021</td><td>$43.96</td><td>$50.17</td><td>$42.29</td><td>$50.10</td><td>$2,095,741,475</td><td style=\"text-align: right;\">$19,698,712,520</td></tr><tr><td style=\"text-align: left;\">Nov 27, 2021</td><td>$41.03</td><td>$44.33</td><td>$40.91</td><td>$43.89</td><td>$776,747,335</td><td style=\"text-align: right;\">$17,311,830,252</td></tr><tr><td style=\"text-align: left;\">Nov 26, 2021</td><td>$43.54</td><td>$45.06</td><td>$38.10</td><td>$40.77</td><td>$1,558,835,495</td><td style=\"text-align: right;\">$16,135,323,901</td></tr><tr><td style=\"text-align: left;\">Nov 25, 2021</td><td>$38.58</td><td>$43.77</td><td>$38.40</td><td>$40.05</td><td>$805,934,946</td><td style=\"text-align: right;\">$15,961,274,866</td></tr><tr><td style=\"text-align: left;\">Nov 24, 2021</td><td>$42.70</td><td>$43.06</td><td>$37.92</td><td>$41.36</td><td>$630,703,839</td><td style=\"text-align: right;\">$16,501,279,231</td></tr><tr><td style=\"text-align: left;\">Nov 23, 2021</td><td>$41.11</td><td>$43.38</td><td>$39.94</td><td>$42.69</td><td>$630,251,536</td><td style=\"text-align: right;\">$17,032,021,534</td></tr><tr><td style=\"text-align: left;\">Nov 22, 2021</td><td>$43.55</td><td>$43.90</td><td>$40.45</td><td>$41.07</td><td>$758,565,968</td><td style=\"text-align: right;\">$16,400,019,062</td></tr><tr><td style=\"text-align: left;\">Nov 21, 2021</td><td>$45.18</td><td>$45.37</td><td>$42.65</td><td>$43.60</td><td>$560,747,252</td><td style=\"text-align: right;\">$17,424,097,190</td></tr><tr><td style=\"text-align: left;\">Nov 20, 2021</td><td>$42.43</td><td>$45.44</td><td>$41.47</td><td>$45.12</td><td>$676,350,983</td><td style=\"text-align: right;\">$18,030,190,601</td></tr><tr><td style=\"text-align: left;\">Nov 19, 2021</td><td>$40.21</td><td>$43.49</td><td>$39.65</td><td>$42.42</td><td>$886,790,582</td><td style=\"text-align: right;\">$17,229,179,372</td></tr><tr><td style=\"text-align: left;\">Nov 18, 2021</td><td>$43.24</td><td>$45.10</td><td>$38.95</td><td>$40.28</td><td>$1,328,419,061</td><td style=\"text-align: right;\">$16,712,850,197</td></tr><tr><td style=\"text-align: left;\">Nov 17, 2021</td><td>$43.26</td><td>$43.86</td><td>$40.54</td><td>$43.15</td><td>$1,070,057,759</td><td style=\"text-align: right;\">$18,273,447,841</td></tr><tr><td style=\"text-align: left;\">Nov 16, 2021</td><td>$48.18</td><td>$48.18</td><td>$41.31</td><td>$43.25</td><td>$1,306,541,128</td><td style=\"text-align: right;\">$18,686,861,951</td></tr><tr><td style=\"text-align: left;\">Nov 15, 2021</td><td>$51.08</td><td>$51.54</td><td>$48.04</td><td>$48.05</td><td>$500,668,396</td><td style=\"text-align: right;\">$21,162,291,382</td></tr><tr><td style=\"text-align: left;\">Nov 14, 2021</td><td>$52.08</td><td>$52.47</td><td>$49.11</td><td>$51.07</td><td>$417,524,170</td><td style=\"text-align: right;\">$22,934,566,871</td></tr><tr><td style=\"text-align: left;\">Nov 13, 2021</td><td>$49.56</td><td>$53.38</td><td>$48.46</td><td>$52.17</td><td>$573,207,316</td><td style=\"text-align: right;\">$23,867,815,089</td></tr><tr><td style=\"text-align: left;\">Nov 12, 2021</td><td>$50.47</td><td>$50.64</td><td>$47.04</td><td>$49.56</td><td>$809,639,806</td><td style=\"text-align: right;\">$23,088,093,945</td></tr><tr><td style=\"text-align: left;\">Nov 11, 2021</td><td>$48.79</td><td>$51.90</td><td>$47.60</td><td>$50.60</td><td>$901,227,769</td><td style=\"text-align: right;\">$24,035,916,149</td></tr><tr><td style=\"text-align: left;\">Nov 10, 2021</td><td>$50.23</td><td>$54.68</td><td>$44.54</td><td>$48.79</td><td>$1,387,394,913</td><td style=\"text-align: right;\">$23,591,291,166</td></tr><tr><td style=\"text-align: left;\">Nov 09, 2021</td><td>$54.12</td><td>$54.13</td><td>$50.06</td><td>$50.24</td><td>$782,405,470</td><td style=\"text-align: right;\">$20,047,147,304</td></tr><tr><td style=\"text-align: left;\">Nov 08, 2021</td><td>$50.58</td><td>$54.77</td><td>$49.73</td><td>$54.16</td><td>$983,210,921</td><td style=\"text-align: right;\">$21,611,655,257</td></tr><tr><td style=\"text-align: left;\">Nov 07, 2021</td><td>$51.25</td><td>$52.63</td><td>$50.48</td><td>$50.61</td><td>$537,619,575</td><td style=\"text-align: right;\">$20,200,920,571</td></tr><tr><td style=\"text-align: left;\">Nov 06, 2021</td><td>$49.97</td><td>$51.18</td><td>$47.54</td><td>$51.18</td><td>$663,787,147</td><td style=\"text-align: right;\">$20,428,667,017</td></tr><tr><td style=\"text-align: left;\">Nov 05, 2021</td><td>$51.96</td><td>$52.99</td><td>$48.87</td><td>$49.97</td><td>$890,950,359</td><td style=\"text-align: right;\">$19,947,478,575</td></tr><tr><td style=\"text-align: left;\">Nov 04, 2021</td><td>$47.99</td><td>$52.17</td><td>$46.16</td><td>$51.92</td><td>$1,409,802,677</td><td style=\"text-align: right;\">$20,744,378,607</td></tr><tr><td style=\"text-align: left;\">Nov 03, 2021</td><td>$44.77</td><td>$49.71</td><td>$43.91</td><td>$48.06</td><td>$1,387,485,594</td><td style=\"text-align: right;\">$19,218,142,155</td></tr><tr><td style=\"text-align: left;\">Nov 02, 2021</td><td>$44.09</td><td>$45.49</td><td>$42.79</td><td>$44.76</td><td>$586,225,495</td><td style=\"text-align: right;\">$17,906,111,861</td></tr><tr><td style=\"text-align: left;\">Nov 01, 2021</td><td>$42.88</td><td>$44.35</td><td>$41.59</td><td>$44.06</td><td>$559,201,533</td><td style=\"text-align: right;\">$17,636,177,669</td></tr><tr><td style=\"text-align: left;\">Oct 31, 2021</td><td>$43.26</td><td>$43.64</td><td>$41.27</td><td>$42.89</td><td>$533,866,227</td><td style=\"text-align: right;\">$17,185,456,899</td></tr><tr><td style=\"text-align: left;\">Oct 30, 2021</td><td>$45.62</td><td>$45.71</td><td>$42.54</td><td>$43.34</td><td>$492,508,763</td><td style=\"text-align: right;\">$17,366,915,389</td></tr><tr><td style=\"text-align: left;\">Oct 29, 2021</td><td>$43.01</td><td>$45.96</td><td>$42.22</td><td>$45.58</td><td>$773,298,347</td><td style=\"text-align: right;\">$18,268,887,434</td></tr><tr><td style=\"text-align: left;\">Oct 28, 2021</td><td>$39.90</td><td>$43.68</td><td>$39.65</td><td>$42.96</td><td>$926,270,556</td><td style=\"text-align: right;\">$17,234,134,472</td></tr><tr><td style=\"text-align: left;\">Oct 27, 2021</td><td>$43.85</td><td>$44.88</td><td>$38.54</td><td>$39.87</td><td>$1,397,247,761</td><td style=\"text-align: right;\">$16,009,771,501</td></tr><tr><td style=\"text-align: left;\">Oct 26, 2021</td><td>$42.76</td><td>$46.91</td><td>$42.76</td><td>$43.87</td><td>$1,258,425,599</td><td style=\"text-align: right;\">$17,595,213,093</td></tr><tr><td style=\"text-align: left;\">Oct 25, 2021</td><td>$41.41</td><td>$43.77</td><td>$41.23</td><td>$42.79</td><td>$754,871,874</td><td style=\"text-align: right;\">$17,169,878,348</td></tr><tr><td style=\"text-align: left;\">Oct 24, 2021</td><td>$43.19</td><td>$43.56</td><td>$39.95</td><td>$41.48</td><td>$709,523,190</td><td style=\"text-align: right;\">$16,651,413,285</td></tr><tr><td style=\"text-align: left;\">Oct 23, 2021</td><td>$43.70</td><td>$44.04</td><td>$41.58</td><td>$43.19</td><td>$838,316,867</td><td style=\"text-align: right;\">$17,337,793,703</td></tr><tr><td style=\"text-align: left;\">Oct 22, 2021</td><td>$40.95</td><td>$45.48</td><td>$40.91</td><td>$43.62</td><td>$1,745,307,758</td><td style=\"text-align: right;\">$17,515,686,438</td></tr><tr><td style=\"text-align: left;\">Oct 21, 2021</td><td>$42.59</td><td>$43.62</td><td>$39.31</td><td>$40.91</td><td>$1,458,679,342</td><td style=\"text-align: right;\">$16,426,274,266</td></tr><tr><td style=\"text-align: left;\">Oct 20, 2021</td><td>$37.71</td><td>$43.96</td><td>$37.71</td><td>$42.55</td><td>$1,427,182,894</td><td style=\"text-align: right;\">$17,105,262,479</td></tr><tr><td style=\"text-align: left;\">Oct 19, 2021</td><td>$35.81</td><td>$38.36</td><td>$35.59</td><td>$37.73</td><td>$640,136,051</td><td style=\"text-align: right;\">$15,162,722,248</td></tr><tr><td style=\"text-align: left;\">Oct 18, 2021</td><td>$36.16</td><td>$37.32</td><td>$35.34</td><td>$35.82</td><td>$555,343,720</td><td style=\"text-align: right;\">$14,393,005,951</td></tr><tr><td style=\"text-align: left;\">Oct 17, 2021</td><td>$36.60</td><td>$37.39</td><td>$35.04</td><td>$36.19</td><td>$550,171,058</td><td style=\"text-align: right;\">$14,544,589,781</td></tr><tr><td style=\"text-align: left;\">Oct 16, 2021</td><td>$36.97</td><td>$38.40</td><td>$36.26</td><td>$36.59</td><td>$547,860,557</td><td style=\"text-align: right;\">$14,707,016,574</td></tr><tr><td style=\"text-align: left;\">Oct 15, 2021</td><td>$37.16</td><td>$37.96</td><td>$35.81</td><td>$36.95</td><td>$921,371,631</td><td style=\"text-align: right;\">$14,847,934,197</td></tr><tr><td style=\"text-align: left;\">Oct 14, 2021</td><td>$36.59</td><td>$39.73</td><td>$36.14</td><td>$37.15</td><td>$1,040,303,496</td><td style=\"text-align: right;\">$14,929,258,214</td></tr><tr><td style=\"text-align: left;\">Oct 13, 2021</td><td>$37.61</td><td>$38.88</td><td>$35.23</td><td>$36.62</td><td>$975,059,267</td><td style=\"text-align: right;\">$14,714,383,036</td></tr><tr><td style=\"text-align: left;\">Oct 12, 2021</td><td>$39.20</td><td>$39.20</td><td>$35.33</td><td>$37.60</td><td>$1,196,283,749</td><td style=\"text-align: right;\">$15,109,152,540</td></tr><tr><td style=\"text-align: left;\">Oct 11, 2021</td><td>$39.27</td><td>$40.73</td><td>$37.57</td><td>$39.21</td><td>$971,250,431</td><td style=\"text-align: right;\">$15,755,491,477</td></tr><tr><td style=\"text-align: left;\">Oct 10, 2021</td><td>$42.49</td><td>$43.21</td><td>$39.09</td><td>$39.37</td><td>$762,535,836</td><td style=\"text-align: right;\">$15,825,955,225</td></tr><tr><td style=\"text-align: left;\">Oct 09, 2021</td><td>$43.26</td><td>$44.38</td><td>$42.09</td><td>$42.47</td><td>$674,240,819</td><td style=\"text-align: right;\">$17,068,693,504</td></tr><tr><td style=\"text-align: left;\">Oct 08, 2021</td><td>$46.51</td><td>$48.53</td><td>$43.11</td><td>$43.29</td><td>$1,288,643,414</td><td style=\"text-align: right;\">$17,397,091,455</td></tr><tr><td style=\"text-align: left;\">Oct 07, 2021</td><td>$42.04</td><td>$47.41</td><td>$40.89</td><td>$46.54</td><td>$1,659,946,039</td><td style=\"text-align: right;\">$18,715,908,351</td></tr><tr><td style=\"text-align: left;\">Oct 06, 2021</td><td>$44.69</td><td>$44.79</td><td>$40.46</td><td>$41.95</td><td>$1,440,155,700</td><td style=\"text-align: right;\">$16,881,462,443</td></tr><tr><td style=\"text-align: left;\">Oct 05, 2021</td><td>$46.79</td><td>$47.18</td><td>$43.65</td><td>$44.71</td><td>$1,359,206,096</td><td style=\"text-align: right;\">$17,864,944,286</td></tr><tr><td style=\"text-align: left;\">Oct 04, 2021</td><td>$42.74</td><td>$49.45</td><td>$41.61</td><td>$46.72</td><td>$2,567,463,682</td><td style=\"text-align: right;\">$18,669,080,529</td></tr><tr><td style=\"text-align: left;\">Oct 03, 2021</td><td>$41.52</td><td>$46.09</td><td>$41.52</td><td>$42.74</td><td>$2,042,994,989</td><td style=\"text-align: right;\">$17,088,164,886</td></tr><tr><td style=\"text-align: left;\">Oct 02, 2021</td><td>$37.75</td><td>$43.51</td><td>$37.11</td><td>$41.48</td><td>$1,495,129,308</td><td style=\"text-align: right;\">$16,582,996,197</td></tr><tr><td style=\"text-align: left;\">Oct 01, 2021</td><td>$38.83</td><td>$39.98</td><td>$36.56</td><td>$37.74</td><td>$1,270,901,115</td><td style=\"text-align: right;\">$15,087,200,252</td></tr><tr><td style=\"text-align: left;\">Sep 30, 2021</td><td>$34.18</td><td>$38.67</td><td>$33.85</td><td>$38.60</td><td>$1,118,584,914</td><td style=\"text-align: right;\">$15,428,148,596</td></tr><tr><td style=\"text-align: left;\">Sep 29, 2021</td><td>$33.19</td><td>$36.25</td><td>$33.08</td><td>$34.19</td><td>$1,141,052,735</td><td style=\"text-align: right;\">$13,660,911,954</td></tr><tr><td style=\"text-align: left;\">Sep 28, 2021</td><td>$36.80</td><td>$37.17</td><td>$33.03</td><td>$33.16</td><td>$1,162,571,320</td><td style=\"text-align: right;\">$13,261,522,224</td></tr><tr><td style=\"text-align: left;\">Sep 27, 2021</td><td>$34.78</td><td>$39.63</td><td>$33.93</td><td>$36.91</td><td>$1,668,539,770</td><td style=\"text-align: right;\">$14,762,296,162</td></tr><tr><td style=\"text-align: left;\">Sep 26, 2021</td><td>$37.92</td><td>$37.94</td><td>$33.47</td><td>$34.64</td><td>$1,445,419,957</td><td style=\"text-align: right;\">$13,860,154,750</td></tr><tr><td style=\"text-align: left;\">Sep 25, 2021</td><td>$40.19</td><td>$40.84</td><td>$36.25</td><td>$37.91</td><td>$1,701,515,538</td><td style=\"text-align: right;\">$15,161,409,706</td></tr><tr><td style=\"text-align: left;\">Sep 24, 2021</td><td>$36.19</td><td>$41.19</td><td>$32.79</td><td>$40.20</td><td>$3,099,624,572</td><td style=\"text-align: right;\">$16,077,093,013</td></tr><tr><td style=\"text-align: left;\">Sep 23, 2021</td><td>$33.19</td><td>$36.81</td><td>$32.59</td><td>$36.20</td><td>$1,590,514,201</td><td style=\"text-align: right;\">$14,487,995,727</td></tr><tr><td style=\"text-align: left;\">Sep 22, 2021</td><td>$25.12</td><td>$33.57</td><td>$25.12</td><td>$33.27</td><td>$1,532,026,066</td><td style=\"text-align: right;\">$13,329,646,881</td></tr><tr><td style=\"text-align: left;\">Sep 21, 2021</td><td>$27.46</td><td>$29.36</td><td>$24.02</td><td>$25.15</td><td>$1,472,262,108</td><td style=\"text-align: right;\">$10,069,113,233</td></tr><tr><td style=\"text-align: left;\">Sep 20, 2021</td><td>$32.95</td><td>$33.01</td><td>$26.40</td><td>$27.22</td><td>$1,708,336,400</td><td style=\"text-align: right;\">$10,906,609,143</td></tr><tr><td style=\"text-align: left;\">Sep 19, 2021</td><td>$34.76</td><td>$36.35</td><td>$32.08</td><td>$32.96</td><td>$990,813,740</td><td style=\"text-align: right;\">$13,237,316,523</td></tr><tr><td style=\"text-align: left;\">Sep 18, 2021</td><td>$34.42</td><td>$36.30</td><td>$34.12</td><td>$34.78</td><td>$729,598,618</td><td style=\"text-align: right;\">$13,972,232,863</td></tr><tr><td style=\"text-align: left;\">Sep 17, 2021</td><td>$37.46</td><td>$39.15</td><td>$34.11</td><td>$34.43</td><td>$1,080,030,468</td><td style=\"text-align: right;\">$13,830,142,951</td></tr><tr><td style=\"text-align: left;\">Sep 16, 2021</td><td>$36.79</td><td>$39.72</td><td>$35.27</td><td>$37.52</td><td>$1,391,655,775</td><td style=\"text-align: right;\">$15,085,666,507</td></tr><tr><td style=\"text-align: left;\">Sep 15, 2021</td><td>$35.68</td><td>$37.63</td><td>$34.95</td><td>$36.69</td><td>$927,045,770</td><td style=\"text-align: right;\">$14,751,644,289</td></tr><tr><td style=\"text-align: left;\">Sep 14, 2021</td><td>$37.22</td><td>$37.91</td><td>$34.68</td><td>$35.67</td><td>$1,060,890,017</td><td style=\"text-align: right;\">$14,353,096,383</td></tr><tr><td style=\"text-align: left;\">Sep 13, 2021</td><td>$39.25</td><td>$39.57</td><td>$33.91</td><td>$37.19</td><td>$1,659,584,527</td><td style=\"text-align: right;\">$14,979,667,862</td></tr><tr><td style=\"text-align: left;\">Sep 12, 2021</td><td>$39.25</td><td>$43.47</td><td>$37.90</td><td>$39.23</td><td>$1,665,426,442</td><td style=\"text-align: right;\">$15,805,551,331</td></tr><tr><td style=\"text-align: left;\">Sep 11, 2021</td><td>$43.34</td><td>$44.34</td><td>$37.66</td><td>$39.09</td><td>$2,407,101,903</td><td style=\"text-align: right;\">$15,755,719,818</td></tr><tr><td style=\"text-align: left;\">Sep 10, 2021</td><td>$30.58</td><td>$43.90</td><td>$30.58</td><td>$43.54</td><td>$4,841,271,134</td><td style=\"text-align: right;\">$17,575,084,977</td></tr><tr><td style=\"text-align: left;\">Sep 09, 2021</td><td>$29.96</td><td>$31.45</td><td>$28.38</td><td>$30.51</td><td>$1,266,811,409</td><td style=\"text-align: right;\">$12,345,510,658</td></tr><tr><td style=\"text-align: left;\">Sep 08, 2021</td><td>$27.83</td><td>$31.87</td><td>$25.05</td><td>$29.43</td><td>$1,879,435,300</td><td style=\"text-align: right;\">$11,773,036,545</td></tr><tr><td style=\"text-align: left;\">Sep 07, 2021</td><td>$32.32</td><td>$32.59</td><td>$23.07</td><td>$27.79</td><td>$1,655,694,428</td><td style=\"text-align: right;\">$11,123,148,932</td></tr><tr><td style=\"text-align: left;\">Sep 06, 2021</td><td>$34.48</td><td>$35.07</td><td>$30.59</td><td>$32.35</td><td>$915,283,582</td><td style=\"text-align: right;\">$12,957,414,316</td></tr><tr><td style=\"text-align: left;\">Sep 05, 2021</td><td>$31.40</td><td>$35.30</td><td>$31.12</td><td>$34.49</td><td>$863,282,667</td><td style=\"text-align: right;\">$13,814,651,400</td></tr><tr><td style=\"text-align: left;\">Sep 04, 2021</td><td>$31.74</td><td>$32.45</td><td>$31.01</td><td>$31.41</td><td>$470,370,428</td><td style=\"text-align: right;\">$12,585,984,146</td></tr><tr><td style=\"text-align: left;\">Sep 03, 2021</td><td>$32.86</td><td>$33.83</td><td>$31.14</td><td>$31.74</td><td>$943,267,183</td><td style=\"text-align: right;\">$12,720,485,518</td></tr><tr><td style=\"text-align: left;\">Sep 02, 2021</td><td>$31.77</td><td>$33.87</td><td>$31.39</td><td>$32.87</td><td>$982,030,149</td><td style=\"text-align: right;\">$13,178,104,836</td></tr><tr><td style=\"text-align: left;\">Sep 01, 2021</td><td>$31.55</td><td>$32.51</td><td>$30.58</td><td>$31.66</td><td>$991,867,137</td><td style=\"text-align: right;\">$12,710,172,823</td></tr><tr><td style=\"text-align: left;\">Aug 31, 2021</td><td>$33.35</td><td>$34.46</td><td>$30.64</td><td>$31.56</td><td>$1,260,620,631</td><td style=\"text-align: right;\">$12,684,295,258</td></tr><tr><td style=\"text-align: left;\">Aug 30, 2021</td><td>$33.32</td><td>$35.92</td><td>$32.23</td><td>$33.47</td><td>$1,599,656,377</td><td style=\"text-align: right;\">$13,460,399,790</td></tr><tr><td style=\"text-align: left;\">Aug 29, 2021</td><td>$35.04</td><td>$36.76</td><td>$33.26</td><td>$33.33</td><td>$1,279,733,853</td><td style=\"text-align: right;\">$13,431,859,391</td></tr><tr><td style=\"text-align: left;\">Aug 28, 2021</td><td>$32.68</td><td>$35.83</td><td>$30.49</td><td>$34.96</td><td>$1,713,437,372</td><td style=\"text-align: right;\">$14,092,025,656</td></tr><tr><td style=\"text-align: left;\">Aug 27, 2021</td><td>$27.00</td><td>$32.88</td><td>$26.43</td><td>$32.66</td><td>$1,582,868,934</td><td style=\"text-align: right;\">$13,174,645,442</td></tr><tr><td style=\"text-align: left;\">Aug 26, 2021</td><td>$30.07</td><td>$30.07</td><td>$26.20</td><td>$27.01</td><td>$1,026,422,114</td><td style=\"text-align: right;\">$10,903,998,577</td></tr><tr><td style=\"text-align: left;\">Aug 25, 2021</td><td>$29.67</td><td>$31.20</td><td>$28.49</td><td>$29.99</td><td>$1,096,045,146</td><td style=\"text-align: right;\">$12,121,896,955</td></tr><tr><td style=\"text-align: left;\">Aug 24, 2021</td><td>$30.00</td><td>$34.51</td><td>$29.67</td><td>$29.67</td><td>$2,318,015,351</td><td style=\"text-align: right;\">$12,002,536,827</td></tr><tr><td style=\"text-align: left;\">Aug 23, 2021</td><td>$28.02</td><td>$30.14</td><td>$27.24</td><td>$29.92</td><td>$1,071,776,171</td><td style=\"text-align: right;\">$12,113,707,739</td></tr><tr><td style=\"text-align: left;\">Aug 22, 2021</td><td>$27.56</td><td>$28.84</td><td>$26.42</td><td>$28.03</td><td>$736,460,920</td><td style=\"text-align: right;\">$11,354,909,437</td></tr></tbody>\n"
          ]
        }
      ]
    },
    {
      "cell_type": "code",
      "source": [
        "#getting the first column of the first row \n",
        "print(ad.find('tbody').find_all('td')[0].prettify())\n",
        "\n",
        "#getting the second column of the first row \n",
        "print(ad.find('tbody').find_all('td')[1].prettify())\n",
        "\n",
        "for col in range(7):\n",
        "    print(ad.find('tbody').find_all('td')[col].prettify())"
      ],
      "metadata": {
        "colab": {
          "base_uri": "https://localhost:8080/"
        },
        "id": "m8iJK_fdS-K0",
        "outputId": "6b161266-bfb9-467b-dfd4-d2b87ddf2712"
      },
      "execution_count": null,
      "outputs": [
        {
          "output_type": "stream",
          "name": "stdout",
          "text": [
            "<td style=\"text-align: left;\">\n",
            " Apr 21, 2022\n",
            "</td>\n",
            "\n",
            "<td>\n",
            " $94.94\n",
            "</td>\n",
            "\n",
            "<td style=\"text-align: left;\">\n",
            " Apr 21, 2022\n",
            "</td>\n",
            "\n",
            "<td>\n",
            " $94.94\n",
            "</td>\n",
            "\n",
            "<td>\n",
            " $99.24\n",
            "</td>\n",
            "\n",
            "<td>\n",
            " $90.33\n",
            "</td>\n",
            "\n",
            "<td>\n",
            " $90.80\n",
            "</td>\n",
            "\n",
            "<td>\n",
            " $2,322,037,265\n",
            "</td>\n",
            "\n",
            "<td style=\"text-align: right;\">\n",
            " $31,945,582,074\n",
            "</td>\n"
          ]
        }
      ]
    },
    {
      "cell_type": "code",
      "source": [
        "# print the first 3 rows\n",
        "for row in range(3):\n",
        "    for col in range(5):\n",
        "        print([col][row])\n",
        "        print(ad.find('tbody').find_all('td')[row*7+col].text.strip())\n",
        "    print()"
      ],
      "metadata": {
        "colab": {
          "base_uri": "https://localhost:8080/",
          "height": 436
        },
        "id": "L5juqMK8TEfG",
        "outputId": "bafe2634-3345-4a25-cab7-ff5fdf67bc7f"
      },
      "execution_count": null,
      "outputs": [
        {
          "output_type": "stream",
          "name": "stdout",
          "text": [
            "0\n",
            "Apr 21, 2022\n",
            "1\n",
            "$94.94\n",
            "2\n",
            "$99.24\n",
            "3\n",
            "$90.33\n",
            "4\n",
            "$90.80\n",
            "\n"
          ]
        },
        {
          "output_type": "error",
          "ename": "IndexError",
          "evalue": "ignored",
          "traceback": [
            "\u001b[0;31m---------------------------------------------------------------------------\u001b[0m",
            "\u001b[0;31mIndexError\u001b[0m                                Traceback (most recent call last)",
            "\u001b[0;32m<ipython-input-38-c7c7f8cfcddc>\u001b[0m in \u001b[0;36m<module>\u001b[0;34m()\u001b[0m\n\u001b[1;32m      2\u001b[0m \u001b[0;32mfor\u001b[0m \u001b[0mrow\u001b[0m \u001b[0;32min\u001b[0m \u001b[0mrange\u001b[0m\u001b[0;34m(\u001b[0m\u001b[0;36m3\u001b[0m\u001b[0;34m)\u001b[0m\u001b[0;34m:\u001b[0m\u001b[0;34m\u001b[0m\u001b[0;34m\u001b[0m\u001b[0m\n\u001b[1;32m      3\u001b[0m     \u001b[0;32mfor\u001b[0m \u001b[0mcol\u001b[0m \u001b[0;32min\u001b[0m \u001b[0mrange\u001b[0m\u001b[0;34m(\u001b[0m\u001b[0;36m5\u001b[0m\u001b[0;34m)\u001b[0m\u001b[0;34m:\u001b[0m\u001b[0;34m\u001b[0m\u001b[0;34m\u001b[0m\u001b[0m\n\u001b[0;32m----> 4\u001b[0;31m         \u001b[0mprint\u001b[0m\u001b[0;34m(\u001b[0m\u001b[0;34m[\u001b[0m\u001b[0mcol\u001b[0m\u001b[0;34m]\u001b[0m\u001b[0;34m[\u001b[0m\u001b[0mrow\u001b[0m\u001b[0;34m]\u001b[0m\u001b[0;34m)\u001b[0m\u001b[0;34m\u001b[0m\u001b[0;34m\u001b[0m\u001b[0m\n\u001b[0m\u001b[1;32m      5\u001b[0m         \u001b[0mprint\u001b[0m\u001b[0;34m(\u001b[0m\u001b[0mad\u001b[0m\u001b[0;34m.\u001b[0m\u001b[0mfind\u001b[0m\u001b[0;34m(\u001b[0m\u001b[0;34m'tbody'\u001b[0m\u001b[0;34m)\u001b[0m\u001b[0;34m.\u001b[0m\u001b[0mfind_all\u001b[0m\u001b[0;34m(\u001b[0m\u001b[0;34m'td'\u001b[0m\u001b[0;34m)\u001b[0m\u001b[0;34m[\u001b[0m\u001b[0mrow\u001b[0m\u001b[0;34m*\u001b[0m\u001b[0;36m7\u001b[0m\u001b[0;34m+\u001b[0m\u001b[0mcol\u001b[0m\u001b[0;34m]\u001b[0m\u001b[0;34m.\u001b[0m\u001b[0mtext\u001b[0m\u001b[0;34m.\u001b[0m\u001b[0mstrip\u001b[0m\u001b[0;34m(\u001b[0m\u001b[0;34m)\u001b[0m\u001b[0;34m)\u001b[0m\u001b[0;34m\u001b[0m\u001b[0;34m\u001b[0m\u001b[0m\n\u001b[1;32m      6\u001b[0m     \u001b[0mprint\u001b[0m\u001b[0;34m(\u001b[0m\u001b[0;34m)\u001b[0m\u001b[0;34m\u001b[0m\u001b[0;34m\u001b[0m\u001b[0m\n",
            "\u001b[0;31mIndexError\u001b[0m: list index out of range"
          ]
        }
      ]
    },
    {
      "cell_type": "code",
      "source": [
        "#printing the first 3 rows \n",
        "for row in range(100):\n",
        "    col1 = 0 \n",
        "    col2 = 0 \n",
        "    col3 = 0 \n",
        "    col4 = 0\n",
        "    col5 = 0\n",
        "    \n",
        "    for col in range(5):\n",
        "        if col == 0:\n",
        "            col1 = ad.find('tbody').find_all('td')[row*7+col].text.strip()\n",
        "        if col == 1:\n",
        "            col2 = ad.find('tbody').find_all('td')[row*7+col].text.strip()\n",
        "        if col == 2:\n",
        "            col3 = ad.find('tbody').find_all('td')[row*7+col].text.strip()\n",
        "        if col == 3:\n",
        "            col4 = ad.find('tbody').find_all('td')[row*7+col].text.strip()\n",
        "        if col == 4:\n",
        "            col5 = ad.find('tbody').find_all('td')[row*7+col].text.strip()\n",
        "            \n",
        "    with open(crypto, 'a', newline = '') as file:\n",
        "        writer = csv.writer(file)\n",
        "        writer.writerow([row, \"Terra\", col1, col2, col3, col4, col5])\n",
        "#     print(row, col, soup.find('tbody').find_all('td')[row*7+col].text.strip())\n",
        "#     print()"
      ],
      "metadata": {
        "id": "FNJCF3AXTEh9"
      },
      "execution_count": null,
      "outputs": []
    },
    {
      "cell_type": "code",
      "source": [
        ""
      ],
      "metadata": {
        "id": "Ax029KKsS5ik"
      },
      "execution_count": null,
      "outputs": []
    },
    {
      "cell_type": "code",
      "source": [
        "import pandas as pd\n",
        "\n",
        "da = \"/content/drive/MyDrive/DMT/Project/CryptoDataset.csv\"\n",
        "\n",
        "d = pd.read_csv(da)"
      ],
      "metadata": {
        "id": "ZJf2rh51v3O7"
      },
      "execution_count": null,
      "outputs": []
    },
    {
      "cell_type": "code",
      "source": [
        "m = d.rename(columns={\"Unnamed: 0\": \"Index\", \"Unnamed: 1\": \"name\", \"Unnamed: 2\":\"date\", \"Unnamed: 3\": \"open\", \"Unnamed: 4\": \"high\", \"Unnamed: 5\": \"low\", \"Unnamed: 6\": \"close\"})"
      ],
      "metadata": {
        "id": "_v0nvuftx7SM"
      },
      "execution_count": null,
      "outputs": []
    },
    {
      "cell_type": "code",
      "source": [
        "m"
      ],
      "metadata": {
        "colab": {
          "base_uri": "https://localhost:8080/",
          "height": 423
        },
        "id": "3uCofls9Hg4e",
        "outputId": "c47bc258-4d8d-4308-b811-d057d1e16899"
      },
      "execution_count": null,
      "outputs": [
        {
          "output_type": "execute_result",
          "data": {
            "text/plain": [
              "     Index      name          date       open       high        low      close\n",
              "0      NaN       NaN           NaN        NaN        NaN        NaN        NaN\n",
              "1      0.0  Etherium  Apr 21, 2022  $3,077.83  $3,173.45  $2,962.41  $2,987.48\n",
              "2      1.0  Etherium  Apr 20, 2022  $3,103.93  $3,157.89  $3,045.29  $3,077.75\n",
              "3      2.0  Etherium  Apr 19, 2022  $3,057.57  $3,125.08  $3,035.54  $3,104.11\n",
              "4      3.0  Etherium  Apr 18, 2022  $2,993.48  $3,062.52  $2,893.91  $3,057.61\n",
              "..     ...       ...           ...        ...        ...        ...        ...\n",
              "396   95.0     Terra  Jan 16, 2022     $87.51     $87.52     $84.80     $86.96\n",
              "397   96.0     Terra  Jan 15, 2022     $81.60     $87.80     $80.56     $87.57\n",
              "398   97.0     Terra  Jan 14, 2022     $78.06     $82.95     $76.76     $81.63\n",
              "399   98.0     Terra  Jan 13, 2022     $82.03     $83.77     $78.00     $78.00\n",
              "400   99.0     Terra  Jan 12, 2022     $73.64     $82.91     $72.59     $82.07\n",
              "\n",
              "[401 rows x 7 columns]"
            ],
            "text/html": [
              "\n",
              "  <div id=\"df-8c33b2c6-7632-4b18-9a96-9f6362ed0a7f\">\n",
              "    <div class=\"colab-df-container\">\n",
              "      <div>\n",
              "<style scoped>\n",
              "    .dataframe tbody tr th:only-of-type {\n",
              "        vertical-align: middle;\n",
              "    }\n",
              "\n",
              "    .dataframe tbody tr th {\n",
              "        vertical-align: top;\n",
              "    }\n",
              "\n",
              "    .dataframe thead th {\n",
              "        text-align: right;\n",
              "    }\n",
              "</style>\n",
              "<table border=\"1\" class=\"dataframe\">\n",
              "  <thead>\n",
              "    <tr style=\"text-align: right;\">\n",
              "      <th></th>\n",
              "      <th>Index</th>\n",
              "      <th>name</th>\n",
              "      <th>date</th>\n",
              "      <th>open</th>\n",
              "      <th>high</th>\n",
              "      <th>low</th>\n",
              "      <th>close</th>\n",
              "    </tr>\n",
              "  </thead>\n",
              "  <tbody>\n",
              "    <tr>\n",
              "      <th>0</th>\n",
              "      <td>NaN</td>\n",
              "      <td>NaN</td>\n",
              "      <td>NaN</td>\n",
              "      <td>NaN</td>\n",
              "      <td>NaN</td>\n",
              "      <td>NaN</td>\n",
              "      <td>NaN</td>\n",
              "    </tr>\n",
              "    <tr>\n",
              "      <th>1</th>\n",
              "      <td>0.0</td>\n",
              "      <td>Etherium</td>\n",
              "      <td>Apr 21, 2022</td>\n",
              "      <td>$3,077.83</td>\n",
              "      <td>$3,173.45</td>\n",
              "      <td>$2,962.41</td>\n",
              "      <td>$2,987.48</td>\n",
              "    </tr>\n",
              "    <tr>\n",
              "      <th>2</th>\n",
              "      <td>1.0</td>\n",
              "      <td>Etherium</td>\n",
              "      <td>Apr 20, 2022</td>\n",
              "      <td>$3,103.93</td>\n",
              "      <td>$3,157.89</td>\n",
              "      <td>$3,045.29</td>\n",
              "      <td>$3,077.75</td>\n",
              "    </tr>\n",
              "    <tr>\n",
              "      <th>3</th>\n",
              "      <td>2.0</td>\n",
              "      <td>Etherium</td>\n",
              "      <td>Apr 19, 2022</td>\n",
              "      <td>$3,057.57</td>\n",
              "      <td>$3,125.08</td>\n",
              "      <td>$3,035.54</td>\n",
              "      <td>$3,104.11</td>\n",
              "    </tr>\n",
              "    <tr>\n",
              "      <th>4</th>\n",
              "      <td>3.0</td>\n",
              "      <td>Etherium</td>\n",
              "      <td>Apr 18, 2022</td>\n",
              "      <td>$2,993.48</td>\n",
              "      <td>$3,062.52</td>\n",
              "      <td>$2,893.91</td>\n",
              "      <td>$3,057.61</td>\n",
              "    </tr>\n",
              "    <tr>\n",
              "      <th>...</th>\n",
              "      <td>...</td>\n",
              "      <td>...</td>\n",
              "      <td>...</td>\n",
              "      <td>...</td>\n",
              "      <td>...</td>\n",
              "      <td>...</td>\n",
              "      <td>...</td>\n",
              "    </tr>\n",
              "    <tr>\n",
              "      <th>396</th>\n",
              "      <td>95.0</td>\n",
              "      <td>Terra</td>\n",
              "      <td>Jan 16, 2022</td>\n",
              "      <td>$87.51</td>\n",
              "      <td>$87.52</td>\n",
              "      <td>$84.80</td>\n",
              "      <td>$86.96</td>\n",
              "    </tr>\n",
              "    <tr>\n",
              "      <th>397</th>\n",
              "      <td>96.0</td>\n",
              "      <td>Terra</td>\n",
              "      <td>Jan 15, 2022</td>\n",
              "      <td>$81.60</td>\n",
              "      <td>$87.80</td>\n",
              "      <td>$80.56</td>\n",
              "      <td>$87.57</td>\n",
              "    </tr>\n",
              "    <tr>\n",
              "      <th>398</th>\n",
              "      <td>97.0</td>\n",
              "      <td>Terra</td>\n",
              "      <td>Jan 14, 2022</td>\n",
              "      <td>$78.06</td>\n",
              "      <td>$82.95</td>\n",
              "      <td>$76.76</td>\n",
              "      <td>$81.63</td>\n",
              "    </tr>\n",
              "    <tr>\n",
              "      <th>399</th>\n",
              "      <td>98.0</td>\n",
              "      <td>Terra</td>\n",
              "      <td>Jan 13, 2022</td>\n",
              "      <td>$82.03</td>\n",
              "      <td>$83.77</td>\n",
              "      <td>$78.00</td>\n",
              "      <td>$78.00</td>\n",
              "    </tr>\n",
              "    <tr>\n",
              "      <th>400</th>\n",
              "      <td>99.0</td>\n",
              "      <td>Terra</td>\n",
              "      <td>Jan 12, 2022</td>\n",
              "      <td>$73.64</td>\n",
              "      <td>$82.91</td>\n",
              "      <td>$72.59</td>\n",
              "      <td>$82.07</td>\n",
              "    </tr>\n",
              "  </tbody>\n",
              "</table>\n",
              "<p>401 rows × 7 columns</p>\n",
              "</div>\n",
              "      <button class=\"colab-df-convert\" onclick=\"convertToInteractive('df-8c33b2c6-7632-4b18-9a96-9f6362ed0a7f')\"\n",
              "              title=\"Convert this dataframe to an interactive table.\"\n",
              "              style=\"display:none;\">\n",
              "        \n",
              "  <svg xmlns=\"http://www.w3.org/2000/svg\" height=\"24px\"viewBox=\"0 0 24 24\"\n",
              "       width=\"24px\">\n",
              "    <path d=\"M0 0h24v24H0V0z\" fill=\"none\"/>\n",
              "    <path d=\"M18.56 5.44l.94 2.06.94-2.06 2.06-.94-2.06-.94-.94-2.06-.94 2.06-2.06.94zm-11 1L8.5 8.5l.94-2.06 2.06-.94-2.06-.94L8.5 2.5l-.94 2.06-2.06.94zm10 10l.94 2.06.94-2.06 2.06-.94-2.06-.94-.94-2.06-.94 2.06-2.06.94z\"/><path d=\"M17.41 7.96l-1.37-1.37c-.4-.4-.92-.59-1.43-.59-.52 0-1.04.2-1.43.59L10.3 9.45l-7.72 7.72c-.78.78-.78 2.05 0 2.83L4 21.41c.39.39.9.59 1.41.59.51 0 1.02-.2 1.41-.59l7.78-7.78 2.81-2.81c.8-.78.8-2.07 0-2.86zM5.41 20L4 18.59l7.72-7.72 1.47 1.35L5.41 20z\"/>\n",
              "  </svg>\n",
              "      </button>\n",
              "      \n",
              "  <style>\n",
              "    .colab-df-container {\n",
              "      display:flex;\n",
              "      flex-wrap:wrap;\n",
              "      gap: 12px;\n",
              "    }\n",
              "\n",
              "    .colab-df-convert {\n",
              "      background-color: #E8F0FE;\n",
              "      border: none;\n",
              "      border-radius: 50%;\n",
              "      cursor: pointer;\n",
              "      display: none;\n",
              "      fill: #1967D2;\n",
              "      height: 32px;\n",
              "      padding: 0 0 0 0;\n",
              "      width: 32px;\n",
              "    }\n",
              "\n",
              "    .colab-df-convert:hover {\n",
              "      background-color: #E2EBFA;\n",
              "      box-shadow: 0px 1px 2px rgba(60, 64, 67, 0.3), 0px 1px 3px 1px rgba(60, 64, 67, 0.15);\n",
              "      fill: #174EA6;\n",
              "    }\n",
              "\n",
              "    [theme=dark] .colab-df-convert {\n",
              "      background-color: #3B4455;\n",
              "      fill: #D2E3FC;\n",
              "    }\n",
              "\n",
              "    [theme=dark] .colab-df-convert:hover {\n",
              "      background-color: #434B5C;\n",
              "      box-shadow: 0px 1px 3px 1px rgba(0, 0, 0, 0.15);\n",
              "      filter: drop-shadow(0px 1px 2px rgba(0, 0, 0, 0.3));\n",
              "      fill: #FFFFFF;\n",
              "    }\n",
              "  </style>\n",
              "\n",
              "      <script>\n",
              "        const buttonEl =\n",
              "          document.querySelector('#df-8c33b2c6-7632-4b18-9a96-9f6362ed0a7f button.colab-df-convert');\n",
              "        buttonEl.style.display =\n",
              "          google.colab.kernel.accessAllowed ? 'block' : 'none';\n",
              "\n",
              "        async function convertToInteractive(key) {\n",
              "          const element = document.querySelector('#df-8c33b2c6-7632-4b18-9a96-9f6362ed0a7f');\n",
              "          const dataTable =\n",
              "            await google.colab.kernel.invokeFunction('convertToInteractive',\n",
              "                                                     [key], {});\n",
              "          if (!dataTable) return;\n",
              "\n",
              "          const docLinkHtml = 'Like what you see? Visit the ' +\n",
              "            '<a target=\"_blank\" href=https://colab.research.google.com/notebooks/data_table.ipynb>data table notebook</a>'\n",
              "            + ' to learn more about interactive tables.';\n",
              "          element.innerHTML = '';\n",
              "          dataTable['output_type'] = 'display_data';\n",
              "          await google.colab.output.renderOutput(dataTable, element);\n",
              "          const docLink = document.createElement('div');\n",
              "          docLink.innerHTML = docLinkHtml;\n",
              "          element.appendChild(docLink);\n",
              "        }\n",
              "      </script>\n",
              "    </div>\n",
              "  </div>\n",
              "  "
            ]
          },
          "metadata": {},
          "execution_count": 131
        }
      ]
    },
    {
      "cell_type": "code",
      "source": [
        "m = m.drop(m.index[0])\n",
        "m"
      ],
      "metadata": {
        "colab": {
          "base_uri": "https://localhost:8080/",
          "height": 423
        },
        "id": "F_pJ-YABy_dd",
        "outputId": "30493944-d853-4fdb-eb68-90fe0fdf8331"
      },
      "execution_count": null,
      "outputs": [
        {
          "output_type": "execute_result",
          "data": {
            "text/plain": [
              "     Index      name          date       open       high        low      close\n",
              "1      0.0  Etherium  Apr 21, 2022  $3,077.83  $3,173.45  $2,962.41  $2,987.48\n",
              "2      1.0  Etherium  Apr 20, 2022  $3,103.93  $3,157.89  $3,045.29  $3,077.75\n",
              "3      2.0  Etherium  Apr 19, 2022  $3,057.57  $3,125.08  $3,035.54  $3,104.11\n",
              "4      3.0  Etherium  Apr 18, 2022  $2,993.48  $3,062.52  $2,893.91  $3,057.61\n",
              "5      4.0  Etherium  Apr 17, 2022  $3,061.88  $3,075.78  $2,989.04  $2,993.40\n",
              "..     ...       ...           ...        ...        ...        ...        ...\n",
              "396   95.0     Terra  Jan 16, 2022     $87.51     $87.52     $84.80     $86.96\n",
              "397   96.0     Terra  Jan 15, 2022     $81.60     $87.80     $80.56     $87.57\n",
              "398   97.0     Terra  Jan 14, 2022     $78.06     $82.95     $76.76     $81.63\n",
              "399   98.0     Terra  Jan 13, 2022     $82.03     $83.77     $78.00     $78.00\n",
              "400   99.0     Terra  Jan 12, 2022     $73.64     $82.91     $72.59     $82.07\n",
              "\n",
              "[400 rows x 7 columns]"
            ],
            "text/html": [
              "\n",
              "  <div id=\"df-ab806877-f559-4694-8e18-c8e9d8d5302c\">\n",
              "    <div class=\"colab-df-container\">\n",
              "      <div>\n",
              "<style scoped>\n",
              "    .dataframe tbody tr th:only-of-type {\n",
              "        vertical-align: middle;\n",
              "    }\n",
              "\n",
              "    .dataframe tbody tr th {\n",
              "        vertical-align: top;\n",
              "    }\n",
              "\n",
              "    .dataframe thead th {\n",
              "        text-align: right;\n",
              "    }\n",
              "</style>\n",
              "<table border=\"1\" class=\"dataframe\">\n",
              "  <thead>\n",
              "    <tr style=\"text-align: right;\">\n",
              "      <th></th>\n",
              "      <th>Index</th>\n",
              "      <th>name</th>\n",
              "      <th>date</th>\n",
              "      <th>open</th>\n",
              "      <th>high</th>\n",
              "      <th>low</th>\n",
              "      <th>close</th>\n",
              "    </tr>\n",
              "  </thead>\n",
              "  <tbody>\n",
              "    <tr>\n",
              "      <th>1</th>\n",
              "      <td>0.0</td>\n",
              "      <td>Etherium</td>\n",
              "      <td>Apr 21, 2022</td>\n",
              "      <td>$3,077.83</td>\n",
              "      <td>$3,173.45</td>\n",
              "      <td>$2,962.41</td>\n",
              "      <td>$2,987.48</td>\n",
              "    </tr>\n",
              "    <tr>\n",
              "      <th>2</th>\n",
              "      <td>1.0</td>\n",
              "      <td>Etherium</td>\n",
              "      <td>Apr 20, 2022</td>\n",
              "      <td>$3,103.93</td>\n",
              "      <td>$3,157.89</td>\n",
              "      <td>$3,045.29</td>\n",
              "      <td>$3,077.75</td>\n",
              "    </tr>\n",
              "    <tr>\n",
              "      <th>3</th>\n",
              "      <td>2.0</td>\n",
              "      <td>Etherium</td>\n",
              "      <td>Apr 19, 2022</td>\n",
              "      <td>$3,057.57</td>\n",
              "      <td>$3,125.08</td>\n",
              "      <td>$3,035.54</td>\n",
              "      <td>$3,104.11</td>\n",
              "    </tr>\n",
              "    <tr>\n",
              "      <th>4</th>\n",
              "      <td>3.0</td>\n",
              "      <td>Etherium</td>\n",
              "      <td>Apr 18, 2022</td>\n",
              "      <td>$2,993.48</td>\n",
              "      <td>$3,062.52</td>\n",
              "      <td>$2,893.91</td>\n",
              "      <td>$3,057.61</td>\n",
              "    </tr>\n",
              "    <tr>\n",
              "      <th>5</th>\n",
              "      <td>4.0</td>\n",
              "      <td>Etherium</td>\n",
              "      <td>Apr 17, 2022</td>\n",
              "      <td>$3,061.88</td>\n",
              "      <td>$3,075.78</td>\n",
              "      <td>$2,989.04</td>\n",
              "      <td>$2,993.40</td>\n",
              "    </tr>\n",
              "    <tr>\n",
              "      <th>...</th>\n",
              "      <td>...</td>\n",
              "      <td>...</td>\n",
              "      <td>...</td>\n",
              "      <td>...</td>\n",
              "      <td>...</td>\n",
              "      <td>...</td>\n",
              "      <td>...</td>\n",
              "    </tr>\n",
              "    <tr>\n",
              "      <th>396</th>\n",
              "      <td>95.0</td>\n",
              "      <td>Terra</td>\n",
              "      <td>Jan 16, 2022</td>\n",
              "      <td>$87.51</td>\n",
              "      <td>$87.52</td>\n",
              "      <td>$84.80</td>\n",
              "      <td>$86.96</td>\n",
              "    </tr>\n",
              "    <tr>\n",
              "      <th>397</th>\n",
              "      <td>96.0</td>\n",
              "      <td>Terra</td>\n",
              "      <td>Jan 15, 2022</td>\n",
              "      <td>$81.60</td>\n",
              "      <td>$87.80</td>\n",
              "      <td>$80.56</td>\n",
              "      <td>$87.57</td>\n",
              "    </tr>\n",
              "    <tr>\n",
              "      <th>398</th>\n",
              "      <td>97.0</td>\n",
              "      <td>Terra</td>\n",
              "      <td>Jan 14, 2022</td>\n",
              "      <td>$78.06</td>\n",
              "      <td>$82.95</td>\n",
              "      <td>$76.76</td>\n",
              "      <td>$81.63</td>\n",
              "    </tr>\n",
              "    <tr>\n",
              "      <th>399</th>\n",
              "      <td>98.0</td>\n",
              "      <td>Terra</td>\n",
              "      <td>Jan 13, 2022</td>\n",
              "      <td>$82.03</td>\n",
              "      <td>$83.77</td>\n",
              "      <td>$78.00</td>\n",
              "      <td>$78.00</td>\n",
              "    </tr>\n",
              "    <tr>\n",
              "      <th>400</th>\n",
              "      <td>99.0</td>\n",
              "      <td>Terra</td>\n",
              "      <td>Jan 12, 2022</td>\n",
              "      <td>$73.64</td>\n",
              "      <td>$82.91</td>\n",
              "      <td>$72.59</td>\n",
              "      <td>$82.07</td>\n",
              "    </tr>\n",
              "  </tbody>\n",
              "</table>\n",
              "<p>400 rows × 7 columns</p>\n",
              "</div>\n",
              "      <button class=\"colab-df-convert\" onclick=\"convertToInteractive('df-ab806877-f559-4694-8e18-c8e9d8d5302c')\"\n",
              "              title=\"Convert this dataframe to an interactive table.\"\n",
              "              style=\"display:none;\">\n",
              "        \n",
              "  <svg xmlns=\"http://www.w3.org/2000/svg\" height=\"24px\"viewBox=\"0 0 24 24\"\n",
              "       width=\"24px\">\n",
              "    <path d=\"M0 0h24v24H0V0z\" fill=\"none\"/>\n",
              "    <path d=\"M18.56 5.44l.94 2.06.94-2.06 2.06-.94-2.06-.94-.94-2.06-.94 2.06-2.06.94zm-11 1L8.5 8.5l.94-2.06 2.06-.94-2.06-.94L8.5 2.5l-.94 2.06-2.06.94zm10 10l.94 2.06.94-2.06 2.06-.94-2.06-.94-.94-2.06-.94 2.06-2.06.94z\"/><path d=\"M17.41 7.96l-1.37-1.37c-.4-.4-.92-.59-1.43-.59-.52 0-1.04.2-1.43.59L10.3 9.45l-7.72 7.72c-.78.78-.78 2.05 0 2.83L4 21.41c.39.39.9.59 1.41.59.51 0 1.02-.2 1.41-.59l7.78-7.78 2.81-2.81c.8-.78.8-2.07 0-2.86zM5.41 20L4 18.59l7.72-7.72 1.47 1.35L5.41 20z\"/>\n",
              "  </svg>\n",
              "      </button>\n",
              "      \n",
              "  <style>\n",
              "    .colab-df-container {\n",
              "      display:flex;\n",
              "      flex-wrap:wrap;\n",
              "      gap: 12px;\n",
              "    }\n",
              "\n",
              "    .colab-df-convert {\n",
              "      background-color: #E8F0FE;\n",
              "      border: none;\n",
              "      border-radius: 50%;\n",
              "      cursor: pointer;\n",
              "      display: none;\n",
              "      fill: #1967D2;\n",
              "      height: 32px;\n",
              "      padding: 0 0 0 0;\n",
              "      width: 32px;\n",
              "    }\n",
              "\n",
              "    .colab-df-convert:hover {\n",
              "      background-color: #E2EBFA;\n",
              "      box-shadow: 0px 1px 2px rgba(60, 64, 67, 0.3), 0px 1px 3px 1px rgba(60, 64, 67, 0.15);\n",
              "      fill: #174EA6;\n",
              "    }\n",
              "\n",
              "    [theme=dark] .colab-df-convert {\n",
              "      background-color: #3B4455;\n",
              "      fill: #D2E3FC;\n",
              "    }\n",
              "\n",
              "    [theme=dark] .colab-df-convert:hover {\n",
              "      background-color: #434B5C;\n",
              "      box-shadow: 0px 1px 3px 1px rgba(0, 0, 0, 0.15);\n",
              "      filter: drop-shadow(0px 1px 2px rgba(0, 0, 0, 0.3));\n",
              "      fill: #FFFFFF;\n",
              "    }\n",
              "  </style>\n",
              "\n",
              "      <script>\n",
              "        const buttonEl =\n",
              "          document.querySelector('#df-ab806877-f559-4694-8e18-c8e9d8d5302c button.colab-df-convert');\n",
              "        buttonEl.style.display =\n",
              "          google.colab.kernel.accessAllowed ? 'block' : 'none';\n",
              "\n",
              "        async function convertToInteractive(key) {\n",
              "          const element = document.querySelector('#df-ab806877-f559-4694-8e18-c8e9d8d5302c');\n",
              "          const dataTable =\n",
              "            await google.colab.kernel.invokeFunction('convertToInteractive',\n",
              "                                                     [key], {});\n",
              "          if (!dataTable) return;\n",
              "\n",
              "          const docLinkHtml = 'Like what you see? Visit the ' +\n",
              "            '<a target=\"_blank\" href=https://colab.research.google.com/notebooks/data_table.ipynb>data table notebook</a>'\n",
              "            + ' to learn more about interactive tables.';\n",
              "          element.innerHTML = '';\n",
              "          dataTable['output_type'] = 'display_data';\n",
              "          await google.colab.output.renderOutput(dataTable, element);\n",
              "          const docLink = document.createElement('div');\n",
              "          docLink.innerHTML = docLinkHtml;\n",
              "          element.appendChild(docLink);\n",
              "        }\n",
              "      </script>\n",
              "    </div>\n",
              "  </div>\n",
              "  "
            ]
          },
          "metadata": {},
          "execution_count": 132
        }
      ]
    },
    {
      "cell_type": "code",
      "source": [
        "import datetime\n",
        "import numpy as np\n",
        "\n",
        "l = []\n",
        "for i in m['date']:\n",
        "  f = \"%b %d, %Y\"\n",
        "  a = datetime.datetime.strptime(i, f)\n",
        "  l.append(a)\n",
        "l\n",
        "\n",
        "m['date'] = np.array(l)"
      ],
      "metadata": {
        "id": "qOPaQlBA-0eX"
      },
      "execution_count": null,
      "outputs": []
    },
    {
      "cell_type": "code",
      "source": [
        "m"
      ],
      "metadata": {
        "colab": {
          "base_uri": "https://localhost:8080/",
          "height": 423
        },
        "id": "FRrO5POJHVZU",
        "outputId": "2d3b7b23-17a5-448e-f393-001bc9ec0c5c"
      },
      "execution_count": null,
      "outputs": [
        {
          "output_type": "execute_result",
          "data": {
            "text/plain": [
              "     Index      name       date       open       high        low      close\n",
              "1      0.0  Etherium 2022-04-21  $3,077.83  $3,173.45  $2,962.41  $2,987.48\n",
              "2      1.0  Etherium 2022-04-20  $3,103.93  $3,157.89  $3,045.29  $3,077.75\n",
              "3      2.0  Etherium 2022-04-19  $3,057.57  $3,125.08  $3,035.54  $3,104.11\n",
              "4      3.0  Etherium 2022-04-18  $2,993.48  $3,062.52  $2,893.91  $3,057.61\n",
              "5      4.0  Etherium 2022-04-17  $3,061.88  $3,075.78  $2,989.04  $2,993.40\n",
              "..     ...       ...        ...        ...        ...        ...        ...\n",
              "396   95.0     Terra 2022-01-16     $87.51     $87.52     $84.80     $86.96\n",
              "397   96.0     Terra 2022-01-15     $81.60     $87.80     $80.56     $87.57\n",
              "398   97.0     Terra 2022-01-14     $78.06     $82.95     $76.76     $81.63\n",
              "399   98.0     Terra 2022-01-13     $82.03     $83.77     $78.00     $78.00\n",
              "400   99.0     Terra 2022-01-12     $73.64     $82.91     $72.59     $82.07\n",
              "\n",
              "[400 rows x 7 columns]"
            ],
            "text/html": [
              "\n",
              "  <div id=\"df-99b5efc2-82dc-4012-82c3-890f1eac0083\">\n",
              "    <div class=\"colab-df-container\">\n",
              "      <div>\n",
              "<style scoped>\n",
              "    .dataframe tbody tr th:only-of-type {\n",
              "        vertical-align: middle;\n",
              "    }\n",
              "\n",
              "    .dataframe tbody tr th {\n",
              "        vertical-align: top;\n",
              "    }\n",
              "\n",
              "    .dataframe thead th {\n",
              "        text-align: right;\n",
              "    }\n",
              "</style>\n",
              "<table border=\"1\" class=\"dataframe\">\n",
              "  <thead>\n",
              "    <tr style=\"text-align: right;\">\n",
              "      <th></th>\n",
              "      <th>Index</th>\n",
              "      <th>name</th>\n",
              "      <th>date</th>\n",
              "      <th>open</th>\n",
              "      <th>high</th>\n",
              "      <th>low</th>\n",
              "      <th>close</th>\n",
              "    </tr>\n",
              "  </thead>\n",
              "  <tbody>\n",
              "    <tr>\n",
              "      <th>1</th>\n",
              "      <td>0.0</td>\n",
              "      <td>Etherium</td>\n",
              "      <td>2022-04-21</td>\n",
              "      <td>$3,077.83</td>\n",
              "      <td>$3,173.45</td>\n",
              "      <td>$2,962.41</td>\n",
              "      <td>$2,987.48</td>\n",
              "    </tr>\n",
              "    <tr>\n",
              "      <th>2</th>\n",
              "      <td>1.0</td>\n",
              "      <td>Etherium</td>\n",
              "      <td>2022-04-20</td>\n",
              "      <td>$3,103.93</td>\n",
              "      <td>$3,157.89</td>\n",
              "      <td>$3,045.29</td>\n",
              "      <td>$3,077.75</td>\n",
              "    </tr>\n",
              "    <tr>\n",
              "      <th>3</th>\n",
              "      <td>2.0</td>\n",
              "      <td>Etherium</td>\n",
              "      <td>2022-04-19</td>\n",
              "      <td>$3,057.57</td>\n",
              "      <td>$3,125.08</td>\n",
              "      <td>$3,035.54</td>\n",
              "      <td>$3,104.11</td>\n",
              "    </tr>\n",
              "    <tr>\n",
              "      <th>4</th>\n",
              "      <td>3.0</td>\n",
              "      <td>Etherium</td>\n",
              "      <td>2022-04-18</td>\n",
              "      <td>$2,993.48</td>\n",
              "      <td>$3,062.52</td>\n",
              "      <td>$2,893.91</td>\n",
              "      <td>$3,057.61</td>\n",
              "    </tr>\n",
              "    <tr>\n",
              "      <th>5</th>\n",
              "      <td>4.0</td>\n",
              "      <td>Etherium</td>\n",
              "      <td>2022-04-17</td>\n",
              "      <td>$3,061.88</td>\n",
              "      <td>$3,075.78</td>\n",
              "      <td>$2,989.04</td>\n",
              "      <td>$2,993.40</td>\n",
              "    </tr>\n",
              "    <tr>\n",
              "      <th>...</th>\n",
              "      <td>...</td>\n",
              "      <td>...</td>\n",
              "      <td>...</td>\n",
              "      <td>...</td>\n",
              "      <td>...</td>\n",
              "      <td>...</td>\n",
              "      <td>...</td>\n",
              "    </tr>\n",
              "    <tr>\n",
              "      <th>396</th>\n",
              "      <td>95.0</td>\n",
              "      <td>Terra</td>\n",
              "      <td>2022-01-16</td>\n",
              "      <td>$87.51</td>\n",
              "      <td>$87.52</td>\n",
              "      <td>$84.80</td>\n",
              "      <td>$86.96</td>\n",
              "    </tr>\n",
              "    <tr>\n",
              "      <th>397</th>\n",
              "      <td>96.0</td>\n",
              "      <td>Terra</td>\n",
              "      <td>2022-01-15</td>\n",
              "      <td>$81.60</td>\n",
              "      <td>$87.80</td>\n",
              "      <td>$80.56</td>\n",
              "      <td>$87.57</td>\n",
              "    </tr>\n",
              "    <tr>\n",
              "      <th>398</th>\n",
              "      <td>97.0</td>\n",
              "      <td>Terra</td>\n",
              "      <td>2022-01-14</td>\n",
              "      <td>$78.06</td>\n",
              "      <td>$82.95</td>\n",
              "      <td>$76.76</td>\n",
              "      <td>$81.63</td>\n",
              "    </tr>\n",
              "    <tr>\n",
              "      <th>399</th>\n",
              "      <td>98.0</td>\n",
              "      <td>Terra</td>\n",
              "      <td>2022-01-13</td>\n",
              "      <td>$82.03</td>\n",
              "      <td>$83.77</td>\n",
              "      <td>$78.00</td>\n",
              "      <td>$78.00</td>\n",
              "    </tr>\n",
              "    <tr>\n",
              "      <th>400</th>\n",
              "      <td>99.0</td>\n",
              "      <td>Terra</td>\n",
              "      <td>2022-01-12</td>\n",
              "      <td>$73.64</td>\n",
              "      <td>$82.91</td>\n",
              "      <td>$72.59</td>\n",
              "      <td>$82.07</td>\n",
              "    </tr>\n",
              "  </tbody>\n",
              "</table>\n",
              "<p>400 rows × 7 columns</p>\n",
              "</div>\n",
              "      <button class=\"colab-df-convert\" onclick=\"convertToInteractive('df-99b5efc2-82dc-4012-82c3-890f1eac0083')\"\n",
              "              title=\"Convert this dataframe to an interactive table.\"\n",
              "              style=\"display:none;\">\n",
              "        \n",
              "  <svg xmlns=\"http://www.w3.org/2000/svg\" height=\"24px\"viewBox=\"0 0 24 24\"\n",
              "       width=\"24px\">\n",
              "    <path d=\"M0 0h24v24H0V0z\" fill=\"none\"/>\n",
              "    <path d=\"M18.56 5.44l.94 2.06.94-2.06 2.06-.94-2.06-.94-.94-2.06-.94 2.06-2.06.94zm-11 1L8.5 8.5l.94-2.06 2.06-.94-2.06-.94L8.5 2.5l-.94 2.06-2.06.94zm10 10l.94 2.06.94-2.06 2.06-.94-2.06-.94-.94-2.06-.94 2.06-2.06.94z\"/><path d=\"M17.41 7.96l-1.37-1.37c-.4-.4-.92-.59-1.43-.59-.52 0-1.04.2-1.43.59L10.3 9.45l-7.72 7.72c-.78.78-.78 2.05 0 2.83L4 21.41c.39.39.9.59 1.41.59.51 0 1.02-.2 1.41-.59l7.78-7.78 2.81-2.81c.8-.78.8-2.07 0-2.86zM5.41 20L4 18.59l7.72-7.72 1.47 1.35L5.41 20z\"/>\n",
              "  </svg>\n",
              "      </button>\n",
              "      \n",
              "  <style>\n",
              "    .colab-df-container {\n",
              "      display:flex;\n",
              "      flex-wrap:wrap;\n",
              "      gap: 12px;\n",
              "    }\n",
              "\n",
              "    .colab-df-convert {\n",
              "      background-color: #E8F0FE;\n",
              "      border: none;\n",
              "      border-radius: 50%;\n",
              "      cursor: pointer;\n",
              "      display: none;\n",
              "      fill: #1967D2;\n",
              "      height: 32px;\n",
              "      padding: 0 0 0 0;\n",
              "      width: 32px;\n",
              "    }\n",
              "\n",
              "    .colab-df-convert:hover {\n",
              "      background-color: #E2EBFA;\n",
              "      box-shadow: 0px 1px 2px rgba(60, 64, 67, 0.3), 0px 1px 3px 1px rgba(60, 64, 67, 0.15);\n",
              "      fill: #174EA6;\n",
              "    }\n",
              "\n",
              "    [theme=dark] .colab-df-convert {\n",
              "      background-color: #3B4455;\n",
              "      fill: #D2E3FC;\n",
              "    }\n",
              "\n",
              "    [theme=dark] .colab-df-convert:hover {\n",
              "      background-color: #434B5C;\n",
              "      box-shadow: 0px 1px 3px 1px rgba(0, 0, 0, 0.15);\n",
              "      filter: drop-shadow(0px 1px 2px rgba(0, 0, 0, 0.3));\n",
              "      fill: #FFFFFF;\n",
              "    }\n",
              "  </style>\n",
              "\n",
              "      <script>\n",
              "        const buttonEl =\n",
              "          document.querySelector('#df-99b5efc2-82dc-4012-82c3-890f1eac0083 button.colab-df-convert');\n",
              "        buttonEl.style.display =\n",
              "          google.colab.kernel.accessAllowed ? 'block' : 'none';\n",
              "\n",
              "        async function convertToInteractive(key) {\n",
              "          const element = document.querySelector('#df-99b5efc2-82dc-4012-82c3-890f1eac0083');\n",
              "          const dataTable =\n",
              "            await google.colab.kernel.invokeFunction('convertToInteractive',\n",
              "                                                     [key], {});\n",
              "          if (!dataTable) return;\n",
              "\n",
              "          const docLinkHtml = 'Like what you see? Visit the ' +\n",
              "            '<a target=\"_blank\" href=https://colab.research.google.com/notebooks/data_table.ipynb>data table notebook</a>'\n",
              "            + ' to learn more about interactive tables.';\n",
              "          element.innerHTML = '';\n",
              "          dataTable['output_type'] = 'display_data';\n",
              "          await google.colab.output.renderOutput(dataTable, element);\n",
              "          const docLink = document.createElement('div');\n",
              "          docLink.innerHTML = docLinkHtml;\n",
              "          element.appendChild(docLink);\n",
              "        }\n",
              "      </script>\n",
              "    </div>\n",
              "  </div>\n",
              "  "
            ]
          },
          "metadata": {},
          "execution_count": 134
        }
      ]
    },
    {
      "cell_type": "code",
      "source": [
        "m = m.drop(columns = [\"Index\", \"open\", \"high\", \"low\"])"
      ],
      "metadata": {
        "id": "IOnWiBxYDv02"
      },
      "execution_count": null,
      "outputs": []
    },
    {
      "cell_type": "code",
      "source": [
        "m = m.rename(columns={\"close\": \"average_price\"})"
      ],
      "metadata": {
        "id": "QjH6l68mErwx"
      },
      "execution_count": null,
      "outputs": []
    },
    {
      "cell_type": "code",
      "source": [
        "m"
      ],
      "metadata": {
        "colab": {
          "base_uri": "https://localhost:8080/",
          "height": 423
        },
        "id": "207jS347HAjT",
        "outputId": "e68ced2c-5ff6-4ff6-cbf5-d8b656f1d27d"
      },
      "execution_count": null,
      "outputs": [
        {
          "output_type": "execute_result",
          "data": {
            "text/plain": [
              "         name       date average_price\n",
              "1    Etherium 2022-04-21     $2,987.48\n",
              "2    Etherium 2022-04-20     $3,077.75\n",
              "3    Etherium 2022-04-19     $3,104.11\n",
              "4    Etherium 2022-04-18     $3,057.61\n",
              "5    Etherium 2022-04-17     $2,993.40\n",
              "..        ...        ...           ...\n",
              "396     Terra 2022-01-16        $86.96\n",
              "397     Terra 2022-01-15        $87.57\n",
              "398     Terra 2022-01-14        $81.63\n",
              "399     Terra 2022-01-13        $78.00\n",
              "400     Terra 2022-01-12        $82.07\n",
              "\n",
              "[400 rows x 3 columns]"
            ],
            "text/html": [
              "\n",
              "  <div id=\"df-351578b0-a8b9-4bae-8617-e39c63de1cd8\">\n",
              "    <div class=\"colab-df-container\">\n",
              "      <div>\n",
              "<style scoped>\n",
              "    .dataframe tbody tr th:only-of-type {\n",
              "        vertical-align: middle;\n",
              "    }\n",
              "\n",
              "    .dataframe tbody tr th {\n",
              "        vertical-align: top;\n",
              "    }\n",
              "\n",
              "    .dataframe thead th {\n",
              "        text-align: right;\n",
              "    }\n",
              "</style>\n",
              "<table border=\"1\" class=\"dataframe\">\n",
              "  <thead>\n",
              "    <tr style=\"text-align: right;\">\n",
              "      <th></th>\n",
              "      <th>name</th>\n",
              "      <th>date</th>\n",
              "      <th>average_price</th>\n",
              "    </tr>\n",
              "  </thead>\n",
              "  <tbody>\n",
              "    <tr>\n",
              "      <th>1</th>\n",
              "      <td>Etherium</td>\n",
              "      <td>2022-04-21</td>\n",
              "      <td>$2,987.48</td>\n",
              "    </tr>\n",
              "    <tr>\n",
              "      <th>2</th>\n",
              "      <td>Etherium</td>\n",
              "      <td>2022-04-20</td>\n",
              "      <td>$3,077.75</td>\n",
              "    </tr>\n",
              "    <tr>\n",
              "      <th>3</th>\n",
              "      <td>Etherium</td>\n",
              "      <td>2022-04-19</td>\n",
              "      <td>$3,104.11</td>\n",
              "    </tr>\n",
              "    <tr>\n",
              "      <th>4</th>\n",
              "      <td>Etherium</td>\n",
              "      <td>2022-04-18</td>\n",
              "      <td>$3,057.61</td>\n",
              "    </tr>\n",
              "    <tr>\n",
              "      <th>5</th>\n",
              "      <td>Etherium</td>\n",
              "      <td>2022-04-17</td>\n",
              "      <td>$2,993.40</td>\n",
              "    </tr>\n",
              "    <tr>\n",
              "      <th>...</th>\n",
              "      <td>...</td>\n",
              "      <td>...</td>\n",
              "      <td>...</td>\n",
              "    </tr>\n",
              "    <tr>\n",
              "      <th>396</th>\n",
              "      <td>Terra</td>\n",
              "      <td>2022-01-16</td>\n",
              "      <td>$86.96</td>\n",
              "    </tr>\n",
              "    <tr>\n",
              "      <th>397</th>\n",
              "      <td>Terra</td>\n",
              "      <td>2022-01-15</td>\n",
              "      <td>$87.57</td>\n",
              "    </tr>\n",
              "    <tr>\n",
              "      <th>398</th>\n",
              "      <td>Terra</td>\n",
              "      <td>2022-01-14</td>\n",
              "      <td>$81.63</td>\n",
              "    </tr>\n",
              "    <tr>\n",
              "      <th>399</th>\n",
              "      <td>Terra</td>\n",
              "      <td>2022-01-13</td>\n",
              "      <td>$78.00</td>\n",
              "    </tr>\n",
              "    <tr>\n",
              "      <th>400</th>\n",
              "      <td>Terra</td>\n",
              "      <td>2022-01-12</td>\n",
              "      <td>$82.07</td>\n",
              "    </tr>\n",
              "  </tbody>\n",
              "</table>\n",
              "<p>400 rows × 3 columns</p>\n",
              "</div>\n",
              "      <button class=\"colab-df-convert\" onclick=\"convertToInteractive('df-351578b0-a8b9-4bae-8617-e39c63de1cd8')\"\n",
              "              title=\"Convert this dataframe to an interactive table.\"\n",
              "              style=\"display:none;\">\n",
              "        \n",
              "  <svg xmlns=\"http://www.w3.org/2000/svg\" height=\"24px\"viewBox=\"0 0 24 24\"\n",
              "       width=\"24px\">\n",
              "    <path d=\"M0 0h24v24H0V0z\" fill=\"none\"/>\n",
              "    <path d=\"M18.56 5.44l.94 2.06.94-2.06 2.06-.94-2.06-.94-.94-2.06-.94 2.06-2.06.94zm-11 1L8.5 8.5l.94-2.06 2.06-.94-2.06-.94L8.5 2.5l-.94 2.06-2.06.94zm10 10l.94 2.06.94-2.06 2.06-.94-2.06-.94-.94-2.06-.94 2.06-2.06.94z\"/><path d=\"M17.41 7.96l-1.37-1.37c-.4-.4-.92-.59-1.43-.59-.52 0-1.04.2-1.43.59L10.3 9.45l-7.72 7.72c-.78.78-.78 2.05 0 2.83L4 21.41c.39.39.9.59 1.41.59.51 0 1.02-.2 1.41-.59l7.78-7.78 2.81-2.81c.8-.78.8-2.07 0-2.86zM5.41 20L4 18.59l7.72-7.72 1.47 1.35L5.41 20z\"/>\n",
              "  </svg>\n",
              "      </button>\n",
              "      \n",
              "  <style>\n",
              "    .colab-df-container {\n",
              "      display:flex;\n",
              "      flex-wrap:wrap;\n",
              "      gap: 12px;\n",
              "    }\n",
              "\n",
              "    .colab-df-convert {\n",
              "      background-color: #E8F0FE;\n",
              "      border: none;\n",
              "      border-radius: 50%;\n",
              "      cursor: pointer;\n",
              "      display: none;\n",
              "      fill: #1967D2;\n",
              "      height: 32px;\n",
              "      padding: 0 0 0 0;\n",
              "      width: 32px;\n",
              "    }\n",
              "\n",
              "    .colab-df-convert:hover {\n",
              "      background-color: #E2EBFA;\n",
              "      box-shadow: 0px 1px 2px rgba(60, 64, 67, 0.3), 0px 1px 3px 1px rgba(60, 64, 67, 0.15);\n",
              "      fill: #174EA6;\n",
              "    }\n",
              "\n",
              "    [theme=dark] .colab-df-convert {\n",
              "      background-color: #3B4455;\n",
              "      fill: #D2E3FC;\n",
              "    }\n",
              "\n",
              "    [theme=dark] .colab-df-convert:hover {\n",
              "      background-color: #434B5C;\n",
              "      box-shadow: 0px 1px 3px 1px rgba(0, 0, 0, 0.15);\n",
              "      filter: drop-shadow(0px 1px 2px rgba(0, 0, 0, 0.3));\n",
              "      fill: #FFFFFF;\n",
              "    }\n",
              "  </style>\n",
              "\n",
              "      <script>\n",
              "        const buttonEl =\n",
              "          document.querySelector('#df-351578b0-a8b9-4bae-8617-e39c63de1cd8 button.colab-df-convert');\n",
              "        buttonEl.style.display =\n",
              "          google.colab.kernel.accessAllowed ? 'block' : 'none';\n",
              "\n",
              "        async function convertToInteractive(key) {\n",
              "          const element = document.querySelector('#df-351578b0-a8b9-4bae-8617-e39c63de1cd8');\n",
              "          const dataTable =\n",
              "            await google.colab.kernel.invokeFunction('convertToInteractive',\n",
              "                                                     [key], {});\n",
              "          if (!dataTable) return;\n",
              "\n",
              "          const docLinkHtml = 'Like what you see? Visit the ' +\n",
              "            '<a target=\"_blank\" href=https://colab.research.google.com/notebooks/data_table.ipynb>data table notebook</a>'\n",
              "            + ' to learn more about interactive tables.';\n",
              "          element.innerHTML = '';\n",
              "          dataTable['output_type'] = 'display_data';\n",
              "          await google.colab.output.renderOutput(dataTable, element);\n",
              "          const docLink = document.createElement('div');\n",
              "          docLink.innerHTML = docLinkHtml;\n",
              "          element.appendChild(docLink);\n",
              "        }\n",
              "      </script>\n",
              "    </div>\n",
              "  </div>\n",
              "  "
            ]
          },
          "metadata": {},
          "execution_count": 143
        }
      ]
    },
    {
      "cell_type": "code",
      "source": [
        "m[m.name == 'Etherium'][(m.date >= '2022-04-17') & (m.date <= '2022-04-21')]['average_price'].str.replace('$','').str.replace(',','').astype('float').mean()"
      ],
      "metadata": {
        "colab": {
          "base_uri": "https://localhost:8080/"
        },
        "id": "k92d1x9BtWLu",
        "outputId": "67f8e122-bbb2-42d5-a258-aa1c930416fc"
      },
      "execution_count": null,
      "outputs": [
        {
          "output_type": "stream",
          "name": "stderr",
          "text": [
            "/usr/local/lib/python3.7/dist-packages/ipykernel_launcher.py:1: UserWarning: Boolean Series key will be reindexed to match DataFrame index.\n",
            "  \"\"\"Entry point for launching an IPython kernel.\n",
            "/usr/local/lib/python3.7/dist-packages/ipykernel_launcher.py:1: FutureWarning: The default value of regex will change from True to False in a future version. In addition, single character regular expressions will *not* be treated as literal strings when regex=True.\n",
            "  \"\"\"Entry point for launching an IPython kernel.\n"
          ]
        },
        {
          "output_type": "execute_result",
          "data": {
            "text/plain": [
              "3044.07"
            ]
          },
          "metadata": {},
          "execution_count": 175
        }
      ]
    },
    {
      "cell_type": "code",
      "source": [
        "aa.str.replace(',','').astype('float').mean()"
      ],
      "metadata": {
        "colab": {
          "base_uri": "https://localhost:8080/"
        },
        "id": "DUvzVdzLvJbn",
        "outputId": "023a6afa-9225-4876-9346-c2cd7846644b"
      },
      "execution_count": null,
      "outputs": [
        {
          "output_type": "execute_result",
          "data": {
            "text/plain": [
              "3044.07"
            ]
          },
          "metadata": {},
          "execution_count": 174
        }
      ]
    },
    {
      "cell_type": "code",
      "source": [
        "float(aa.head(1).values[0].replace(',',''))"
      ],
      "metadata": {
        "colab": {
          "base_uri": "https://localhost:8080/"
        },
        "id": "2K1QTb09uci_",
        "outputId": "2493a0ac-718e-4e40-aed2-e258ea859857"
      },
      "execution_count": null,
      "outputs": [
        {
          "output_type": "execute_result",
          "data": {
            "text/plain": [
              "2987.48"
            ]
          },
          "metadata": {},
          "execution_count": 170
        }
      ]
    },
    {
      "cell_type": "code",
      "source": [
        "import os  \n",
        "os.makedirs('/content/drive/MyDrive/DMT/Project', exist_ok=True)  \n",
        "m.to_csv('/content/drive/MyDrive/DMT/Project/newCryptoDataset.csv',index=False)  "
      ],
      "metadata": {
        "id": "9w3IQai8IckF"
      },
      "execution_count": null,
      "outputs": []
    },
    {
      "cell_type": "code",
      "source": [
        ""
      ],
      "metadata": {
        "id": "0Icgf6Drzrgz"
      },
      "execution_count": null,
      "outputs": []
    }
  ]
}